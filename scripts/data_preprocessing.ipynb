{
 "cells": [
  {
   "cell_type": "code",
   "execution_count": 1,
   "id": "d966c9e6",
   "metadata": {},
   "outputs": [],
   "source": [
    "import os\n",
    "import pandas as pd\n",
    "import random\n",
    "from tqdm.notebook import tqdm\n",
    "import numba \n",
    "import numpy as np\n",
    "import math"
   ]
  },
  {
   "cell_type": "markdown",
   "id": "f9e24956",
   "metadata": {},
   "source": [
    "### Emerson data "
   ]
  },
  {
   "cell_type": "code",
   "execution_count": 2,
   "id": "c13cb7c4",
   "metadata": {},
   "outputs": [],
   "source": [
    "data_path = os.path.abspath(os.path.join(os.getcwd(), os.pardir, \"data\"))\n",
    "emerson_data_path = os.path.join(data_path, \"emerson\")"
   ]
  },
  {
   "cell_type": "code",
   "execution_count": 3,
   "id": "5b20a865",
   "metadata": {},
   "outputs": [
    {
     "name": "stderr",
     "output_type": "stream",
     "text": [
      "/tmp/ipykernel_13439/3883023269.py:1: DtypeWarning: Columns (81,82,83,93,99,100,101,104,105,112,115) have mixed types. Specify dtype option on import or set low_memory=False.\n",
      "  example_df = pd.read_csv(os.path.join(emerson_data_path, \"P00002.tsv\"), sep = '\\t')\n"
     ]
    }
   ],
   "source": [
    "example_df = pd.read_csv(os.path.join(emerson_data_path, \"P00002.tsv\"), sep = '\\t') "
   ]
  },
  {
   "cell_type": "code",
   "execution_count": 4,
   "id": "69af011c",
   "metadata": {},
   "outputs": [],
   "source": [
    "columns = [\"cdr3_amino_acid\", \"chosen_v_family\", \"chosen_v_gene\", \"chosen_v_allele\", \"chosen_j_family\", \"chosen_j_gene\", \"chosen_j_allele\"]\n",
    "example_df = example_df.loc[:,columns].dropna(subset = [\"cdr3_amino_acid\", \"chosen_v_family\", \"chosen_j_family\"])"
   ]
  },
  {
   "cell_type": "code",
   "execution_count": 5,
   "id": "c2ce9f4b",
   "metadata": {},
   "outputs": [
    {
     "data": {
      "text/html": [
       "<div>\n",
       "<style scoped>\n",
       "    .dataframe tbody tr th:only-of-type {\n",
       "        vertical-align: middle;\n",
       "    }\n",
       "\n",
       "    .dataframe tbody tr th {\n",
       "        vertical-align: top;\n",
       "    }\n",
       "\n",
       "    .dataframe thead th {\n",
       "        text-align: right;\n",
       "    }\n",
       "</style>\n",
       "<table border=\"1\" class=\"dataframe\">\n",
       "  <thead>\n",
       "    <tr style=\"text-align: right;\">\n",
       "      <th></th>\n",
       "      <th>cdr3_amino_acid</th>\n",
       "      <th>chosen_v_family</th>\n",
       "      <th>chosen_v_gene</th>\n",
       "      <th>chosen_v_allele</th>\n",
       "      <th>chosen_j_family</th>\n",
       "      <th>chosen_j_gene</th>\n",
       "      <th>chosen_j_allele</th>\n",
       "    </tr>\n",
       "  </thead>\n",
       "  <tbody>\n",
       "    <tr>\n",
       "      <th>0</th>\n",
       "      <td>CASSAFPGGGETQYF</td>\n",
       "      <td>TCRBV05</td>\n",
       "      <td>5.0</td>\n",
       "      <td>1.0</td>\n",
       "      <td>TCRBJ02</td>\n",
       "      <td>5.0</td>\n",
       "      <td>1.0</td>\n",
       "    </tr>\n",
       "    <tr>\n",
       "      <th>1</th>\n",
       "      <td>CASSLHSNQPQHF</td>\n",
       "      <td>TCRBV05</td>\n",
       "      <td>5.0</td>\n",
       "      <td>1.0</td>\n",
       "      <td>TCRBJ01</td>\n",
       "      <td>5.0</td>\n",
       "      <td>1.0</td>\n",
       "    </tr>\n",
       "    <tr>\n",
       "      <th>2</th>\n",
       "      <td>CASSLEGQGGPEAFF</td>\n",
       "      <td>TCRBV05</td>\n",
       "      <td>5.0</td>\n",
       "      <td>1.0</td>\n",
       "      <td>TCRBJ01</td>\n",
       "      <td>1.0</td>\n",
       "      <td>1.0</td>\n",
       "    </tr>\n",
       "    <tr>\n",
       "      <th>3</th>\n",
       "      <td>CASSLAGGGDANTEAFF</td>\n",
       "      <td>TCRBV05</td>\n",
       "      <td>5.0</td>\n",
       "      <td>1.0</td>\n",
       "      <td>TCRBJ01</td>\n",
       "      <td>1.0</td>\n",
       "      <td>1.0</td>\n",
       "    </tr>\n",
       "    <tr>\n",
       "      <th>4</th>\n",
       "      <td>CASSAEQALIYGYTF</td>\n",
       "      <td>TCRBV05</td>\n",
       "      <td>5.0</td>\n",
       "      <td>1.0</td>\n",
       "      <td>TCRBJ01</td>\n",
       "      <td>2.0</td>\n",
       "      <td>1.0</td>\n",
       "    </tr>\n",
       "    <tr>\n",
       "      <th>...</th>\n",
       "      <td>...</td>\n",
       "      <td>...</td>\n",
       "      <td>...</td>\n",
       "      <td>...</td>\n",
       "      <td>...</td>\n",
       "      <td>...</td>\n",
       "      <td>...</td>\n",
       "    </tr>\n",
       "    <tr>\n",
       "      <th>102315</th>\n",
       "      <td>CASSQVGTVSGNTIYF</td>\n",
       "      <td>TCRBV04</td>\n",
       "      <td>3.0</td>\n",
       "      <td>1.0</td>\n",
       "      <td>TCRBJ01</td>\n",
       "      <td>3.0</td>\n",
       "      <td>1.0</td>\n",
       "    </tr>\n",
       "    <tr>\n",
       "      <th>102316</th>\n",
       "      <td>CASSQRKAQPQHF</td>\n",
       "      <td>TCRBV04</td>\n",
       "      <td>3.0</td>\n",
       "      <td>1.0</td>\n",
       "      <td>TCRBJ01</td>\n",
       "      <td>5.0</td>\n",
       "      <td>1.0</td>\n",
       "    </tr>\n",
       "    <tr>\n",
       "      <th>102607</th>\n",
       "      <td>CASSQDRGSTEAFF</td>\n",
       "      <td>TCRBV04</td>\n",
       "      <td>3.0</td>\n",
       "      <td>1.0</td>\n",
       "      <td>TCRBJ01</td>\n",
       "      <td>1.0</td>\n",
       "      <td>1.0</td>\n",
       "    </tr>\n",
       "    <tr>\n",
       "      <th>102608</th>\n",
       "      <td>CASSQDLRESPLHF</td>\n",
       "      <td>TCRBV04</td>\n",
       "      <td>3.0</td>\n",
       "      <td>1.0</td>\n",
       "      <td>TCRBJ01</td>\n",
       "      <td>6.0</td>\n",
       "      <td>1.0</td>\n",
       "    </tr>\n",
       "    <tr>\n",
       "      <th>102610</th>\n",
       "      <td>CASSPGTGGSGANVLTF</td>\n",
       "      <td>TCRBV04</td>\n",
       "      <td>3.0</td>\n",
       "      <td>1.0</td>\n",
       "      <td>TCRBJ02</td>\n",
       "      <td>6.0</td>\n",
       "      <td>1.0</td>\n",
       "    </tr>\n",
       "  </tbody>\n",
       "</table>\n",
       "<p>73491 rows × 7 columns</p>\n",
       "</div>"
      ],
      "text/plain": [
       "          cdr3_amino_acid chosen_v_family  chosen_v_gene  chosen_v_allele  \\\n",
       "0         CASSAFPGGGETQYF         TCRBV05            5.0              1.0   \n",
       "1           CASSLHSNQPQHF         TCRBV05            5.0              1.0   \n",
       "2         CASSLEGQGGPEAFF         TCRBV05            5.0              1.0   \n",
       "3       CASSLAGGGDANTEAFF         TCRBV05            5.0              1.0   \n",
       "4         CASSAEQALIYGYTF         TCRBV05            5.0              1.0   \n",
       "...                   ...             ...            ...              ...   \n",
       "102315   CASSQVGTVSGNTIYF         TCRBV04            3.0              1.0   \n",
       "102316      CASSQRKAQPQHF         TCRBV04            3.0              1.0   \n",
       "102607     CASSQDRGSTEAFF         TCRBV04            3.0              1.0   \n",
       "102608     CASSQDLRESPLHF         TCRBV04            3.0              1.0   \n",
       "102610  CASSPGTGGSGANVLTF         TCRBV04            3.0              1.0   \n",
       "\n",
       "       chosen_j_family  chosen_j_gene  chosen_j_allele  \n",
       "0              TCRBJ02            5.0              1.0  \n",
       "1              TCRBJ01            5.0              1.0  \n",
       "2              TCRBJ01            1.0              1.0  \n",
       "3              TCRBJ01            1.0              1.0  \n",
       "4              TCRBJ01            2.0              1.0  \n",
       "...                ...            ...              ...  \n",
       "102315         TCRBJ01            3.0              1.0  \n",
       "102316         TCRBJ01            5.0              1.0  \n",
       "102607         TCRBJ01            1.0              1.0  \n",
       "102608         TCRBJ01            6.0              1.0  \n",
       "102610         TCRBJ02            6.0              1.0  \n",
       "\n",
       "[73491 rows x 7 columns]"
      ]
     },
     "execution_count": 5,
     "metadata": {},
     "output_type": "execute_result"
    }
   ],
   "source": [
    "example_df"
   ]
  },
  {
   "cell_type": "code",
   "execution_count": 6,
   "id": "c8e64b79",
   "metadata": {},
   "outputs": [],
   "source": [
    "def fix_gene_codes(row):\n",
    "    v_gene_family = row[1]\n",
    "    j_gene_family = row[4]\n",
    "    \n",
    "    if v_gene_family[5] == \"0\":\n",
    "        v_gene_family = v_gene_family[:5] + v_gene_family[5+1:]\n",
    "        \n",
    "    if math.isnan(float(row[2])):\n",
    "        new_v_code = v_gene_family + '*0' + str(int(row[3]))\n",
    "        row[1] = new_v_code\n",
    "    else:\n",
    "        new_v_code = v_gene_family+ '-' + str(int(row[2])) + '*0' + str(int(row[3]))\n",
    "        row[1] = new_v_code\n",
    "    \n",
    "    if j_gene_family[5] == \"0\":\n",
    "        j_gene_family = j_gene_family[:5] + j_gene_family[5+1:]\n",
    "        \n",
    "    if math.isnan(float(row[5])):\n",
    "        new_j_code = j_gene_family + '*0' + str(int(row[6]))\n",
    "        row[4] = new_j_code\n",
    "    else:\n",
    "        new_j_code = j_gene_family+ '-' + str(int(row[5])) + '*0' + str(int(row[6]))\n",
    "        row[4] = new_j_code\n",
    "    \n",
    "    return row"
   ]
  },
  {
   "cell_type": "code",
   "execution_count": 7,
   "id": "6f6452b0",
   "metadata": {},
   "outputs": [],
   "source": [
    "df = example_df.apply(fix_gene_codes, axis=1)\n",
    "df = df.drop([\"chosen_v_gene\", \"chosen_v_allele\",\"chosen_j_gene\", \"chosen_j_allele\"], axis = 1)\n",
    "df.rename(columns = {'cdr3_amino_acid':'seq', 'chosen_v_family':'v','chosen_j_family':'j'}, inplace = True)"
   ]
  },
  {
   "cell_type": "code",
   "execution_count": 8,
   "id": "dfdab737",
   "metadata": {},
   "outputs": [
    {
     "data": {
      "text/html": [
       "<div>\n",
       "<style scoped>\n",
       "    .dataframe tbody tr th:only-of-type {\n",
       "        vertical-align: middle;\n",
       "    }\n",
       "\n",
       "    .dataframe tbody tr th {\n",
       "        vertical-align: top;\n",
       "    }\n",
       "\n",
       "    .dataframe thead th {\n",
       "        text-align: right;\n",
       "    }\n",
       "</style>\n",
       "<table border=\"1\" class=\"dataframe\">\n",
       "  <thead>\n",
       "    <tr style=\"text-align: right;\">\n",
       "      <th></th>\n",
       "      <th>seq</th>\n",
       "      <th>v</th>\n",
       "      <th>j</th>\n",
       "    </tr>\n",
       "  </thead>\n",
       "  <tbody>\n",
       "    <tr>\n",
       "      <th>0</th>\n",
       "      <td>CASSAFPGGGETQYF</td>\n",
       "      <td>TCRBV5-5*01</td>\n",
       "      <td>TCRBJ2-5*01</td>\n",
       "    </tr>\n",
       "    <tr>\n",
       "      <th>1</th>\n",
       "      <td>CASSLHSNQPQHF</td>\n",
       "      <td>TCRBV5-5*01</td>\n",
       "      <td>TCRBJ1-5*01</td>\n",
       "    </tr>\n",
       "    <tr>\n",
       "      <th>2</th>\n",
       "      <td>CASSLEGQGGPEAFF</td>\n",
       "      <td>TCRBV5-5*01</td>\n",
       "      <td>TCRBJ1-1*01</td>\n",
       "    </tr>\n",
       "    <tr>\n",
       "      <th>3</th>\n",
       "      <td>CASSLAGGGDANTEAFF</td>\n",
       "      <td>TCRBV5-5*01</td>\n",
       "      <td>TCRBJ1-1*01</td>\n",
       "    </tr>\n",
       "    <tr>\n",
       "      <th>4</th>\n",
       "      <td>CASSAEQALIYGYTF</td>\n",
       "      <td>TCRBV5-5*01</td>\n",
       "      <td>TCRBJ1-2*01</td>\n",
       "    </tr>\n",
       "    <tr>\n",
       "      <th>...</th>\n",
       "      <td>...</td>\n",
       "      <td>...</td>\n",
       "      <td>...</td>\n",
       "    </tr>\n",
       "    <tr>\n",
       "      <th>102315</th>\n",
       "      <td>CASSQVGTVSGNTIYF</td>\n",
       "      <td>TCRBV4-3*01</td>\n",
       "      <td>TCRBJ1-3*01</td>\n",
       "    </tr>\n",
       "    <tr>\n",
       "      <th>102316</th>\n",
       "      <td>CASSQRKAQPQHF</td>\n",
       "      <td>TCRBV4-3*01</td>\n",
       "      <td>TCRBJ1-5*01</td>\n",
       "    </tr>\n",
       "    <tr>\n",
       "      <th>102607</th>\n",
       "      <td>CASSQDRGSTEAFF</td>\n",
       "      <td>TCRBV4-3*01</td>\n",
       "      <td>TCRBJ1-1*01</td>\n",
       "    </tr>\n",
       "    <tr>\n",
       "      <th>102608</th>\n",
       "      <td>CASSQDLRESPLHF</td>\n",
       "      <td>TCRBV4-3*01</td>\n",
       "      <td>TCRBJ1-6*01</td>\n",
       "    </tr>\n",
       "    <tr>\n",
       "      <th>102610</th>\n",
       "      <td>CASSPGTGGSGANVLTF</td>\n",
       "      <td>TCRBV4-3*01</td>\n",
       "      <td>TCRBJ2-6*01</td>\n",
       "    </tr>\n",
       "  </tbody>\n",
       "</table>\n",
       "<p>73491 rows × 3 columns</p>\n",
       "</div>"
      ],
      "text/plain": [
       "                      seq            v            j\n",
       "0         CASSAFPGGGETQYF  TCRBV5-5*01  TCRBJ2-5*01\n",
       "1           CASSLHSNQPQHF  TCRBV5-5*01  TCRBJ1-5*01\n",
       "2         CASSLEGQGGPEAFF  TCRBV5-5*01  TCRBJ1-1*01\n",
       "3       CASSLAGGGDANTEAFF  TCRBV5-5*01  TCRBJ1-1*01\n",
       "4         CASSAEQALIYGYTF  TCRBV5-5*01  TCRBJ1-2*01\n",
       "...                   ...          ...          ...\n",
       "102315   CASSQVGTVSGNTIYF  TCRBV4-3*01  TCRBJ1-3*01\n",
       "102316      CASSQRKAQPQHF  TCRBV4-3*01  TCRBJ1-5*01\n",
       "102607     CASSQDRGSTEAFF  TCRBV4-3*01  TCRBJ1-1*01\n",
       "102608     CASSQDLRESPLHF  TCRBV4-3*01  TCRBJ1-6*01\n",
       "102610  CASSPGTGGSGANVLTF  TCRBV4-3*01  TCRBJ2-6*01\n",
       "\n",
       "[73491 rows x 3 columns]"
      ]
     },
     "execution_count": 8,
     "metadata": {},
     "output_type": "execute_result"
    }
   ],
   "source": [
    "df"
   ]
  },
  {
   "cell_type": "markdown",
   "id": "b4d9a7e2",
   "metadata": {},
   "source": [
    "### Load the data utilised for comparing GRU and soNNia"
   ]
  },
  {
   "cell_type": "code",
   "execution_count": 9,
   "id": "551ea09b",
   "metadata": {},
   "outputs": [],
   "source": [
    "train_data_path = os.path.join(data_path, \"universal_TCR_pool\", \"train.tsv\")\n",
    "\n",
    "train_data = pd.read_csv(train_data_path, sep= '\\t')"
   ]
  },
  {
   "cell_type": "code",
   "execution_count": 10,
   "id": "77eab2a7",
   "metadata": {},
   "outputs": [
    {
     "data": {
      "text/html": [
       "<div>\n",
       "<style scoped>\n",
       "    .dataframe tbody tr th:only-of-type {\n",
       "        vertical-align: middle;\n",
       "    }\n",
       "\n",
       "    .dataframe tbody tr th {\n",
       "        vertical-align: top;\n",
       "    }\n",
       "\n",
       "    .dataframe thead th {\n",
       "        text-align: right;\n",
       "    }\n",
       "</style>\n",
       "<table border=\"1\" class=\"dataframe\">\n",
       "  <thead>\n",
       "    <tr style=\"text-align: right;\">\n",
       "      <th></th>\n",
       "      <th>seq</th>\n",
       "      <th>v</th>\n",
       "      <th>j</th>\n",
       "    </tr>\n",
       "  </thead>\n",
       "  <tbody>\n",
       "    <tr>\n",
       "      <th>0</th>\n",
       "      <td>CASSGSWTGDYEQYF</td>\n",
       "      <td>TRBV6-1</td>\n",
       "      <td>TRBJ2-7</td>\n",
       "    </tr>\n",
       "    <tr>\n",
       "      <th>1</th>\n",
       "      <td>CASSKFSGRAQGWNNEQFF</td>\n",
       "      <td>TRBV19</td>\n",
       "      <td>TRBJ2-1</td>\n",
       "    </tr>\n",
       "    <tr>\n",
       "      <th>2</th>\n",
       "      <td>CASSPRTSGSGEFF</td>\n",
       "      <td>TRBV4-2</td>\n",
       "      <td>TRBJ2-1</td>\n",
       "    </tr>\n",
       "    <tr>\n",
       "      <th>3</th>\n",
       "      <td>CASSLTAGTLYNEQFF</td>\n",
       "      <td>TRBV14</td>\n",
       "      <td>TRBJ2-1</td>\n",
       "    </tr>\n",
       "    <tr>\n",
       "      <th>4</th>\n",
       "      <td>CASSLERDTDTQYF</td>\n",
       "      <td>TRBV7-6</td>\n",
       "      <td>TRBJ2-3</td>\n",
       "    </tr>\n",
       "    <tr>\n",
       "      <th>...</th>\n",
       "      <td>...</td>\n",
       "      <td>...</td>\n",
       "      <td>...</td>\n",
       "    </tr>\n",
       "    <tr>\n",
       "      <th>49988336</th>\n",
       "      <td>CASSPRGQATDTQYF</td>\n",
       "      <td>TRBV6-6</td>\n",
       "      <td>TRBJ2-3</td>\n",
       "    </tr>\n",
       "    <tr>\n",
       "      <th>49988337</th>\n",
       "      <td>CATPKGGGAYEQYF</td>\n",
       "      <td>TRBV27</td>\n",
       "      <td>TRBJ2-7</td>\n",
       "    </tr>\n",
       "    <tr>\n",
       "      <th>49988338</th>\n",
       "      <td>CASSEGQVAEQFF</td>\n",
       "      <td>TRBV2</td>\n",
       "      <td>TRBJ2-1</td>\n",
       "    </tr>\n",
       "    <tr>\n",
       "      <th>49988339</th>\n",
       "      <td>CASSSPGTYTGELFF</td>\n",
       "      <td>TRBV5-1</td>\n",
       "      <td>TRBJ2-2</td>\n",
       "    </tr>\n",
       "    <tr>\n",
       "      <th>49988340</th>\n",
       "      <td>CASTLLAGALDEQFF</td>\n",
       "      <td>TRBV6-1</td>\n",
       "      <td>TRBJ2-1</td>\n",
       "    </tr>\n",
       "  </tbody>\n",
       "</table>\n",
       "<p>49988341 rows × 3 columns</p>\n",
       "</div>"
      ],
      "text/plain": [
       "                          seq        v        j\n",
       "0             CASSGSWTGDYEQYF  TRBV6-1  TRBJ2-7\n",
       "1         CASSKFSGRAQGWNNEQFF   TRBV19  TRBJ2-1\n",
       "2              CASSPRTSGSGEFF  TRBV4-2  TRBJ2-1\n",
       "3            CASSLTAGTLYNEQFF   TRBV14  TRBJ2-1\n",
       "4              CASSLERDTDTQYF  TRBV7-6  TRBJ2-3\n",
       "...                       ...      ...      ...\n",
       "49988336      CASSPRGQATDTQYF  TRBV6-6  TRBJ2-3\n",
       "49988337       CATPKGGGAYEQYF   TRBV27  TRBJ2-7\n",
       "49988338        CASSEGQVAEQFF    TRBV2  TRBJ2-1\n",
       "49988339      CASSSPGTYTGELFF  TRBV5-1  TRBJ2-2\n",
       "49988340      CASTLLAGALDEQFF  TRBV6-1  TRBJ2-1\n",
       "\n",
       "[49988341 rows x 3 columns]"
      ]
     },
     "execution_count": 10,
     "metadata": {},
     "output_type": "execute_result"
    }
   ],
   "source": [
    "train_data"
   ]
  },
  {
   "cell_type": "markdown",
   "id": "214eeec5",
   "metadata": {},
   "source": [
    "Combine the emerson info to dataset"
   ]
  },
  {
   "cell_type": "code",
   "execution_count": 40,
   "id": "3b92acef",
   "metadata": {},
   "outputs": [],
   "source": [
    "@numba.jit(forceobj=True)\n",
    "def add_alleles(data, emerson):\n",
    "    for i in tqdm(range(len(data)),position=0, leave=True):\n",
    "        length = len(data[i,0])\n",
    "        if data[i,0] in emerson[:,0] and data[i,1] in emerson[:,1][length] and data[i,2] in emerson[:,2][length]:\n",
    "            print(np.where(emerson == data[i,0])[0])\n",
    "    "
   ]
  },
  {
   "cell_type": "code",
   "execution_count": 41,
   "id": "2a50fff7",
   "metadata": {},
   "outputs": [
    {
     "data": {
      "application/vnd.jupyter.widget-view+json": {
       "model_id": "9fc16e23558b4752b8f8fdc133782979",
       "version_major": 2,
       "version_minor": 0
      },
      "text/plain": [
       "  0%|          | 0/49988341 [00:00<?, ?it/s]"
      ]
     },
     "metadata": {},
     "output_type": "display_data"
    },
    {
     "ename": "KeyboardInterrupt",
     "evalue": "",
     "output_type": "error",
     "traceback": [
      "\u001b[0;31m---------------------------------------------------------------------------\u001b[0m",
      "\u001b[0;31mKeyboardInterrupt\u001b[0m                         Traceback (most recent call last)",
      "Cell \u001b[0;32mIn[41], line 5\u001b[0m\n\u001b[1;32m      2\u001b[0m emerson \u001b[38;5;241m=\u001b[39m df\u001b[38;5;241m.\u001b[39mdrop_duplicates()\n\u001b[1;32m      3\u001b[0m emerson_np \u001b[38;5;241m=\u001b[39m emerson\u001b[38;5;241m.\u001b[39mto_numpy()\n\u001b[0;32m----> 5\u001b[0m \u001b[43madd_alleles\u001b[49m\u001b[43m(\u001b[49m\u001b[43mtrain_data_np\u001b[49m\u001b[43m,\u001b[49m\u001b[43m \u001b[49m\u001b[43memerson_np\u001b[49m\u001b[43m)\u001b[49m\n",
      "File \u001b[0;32m/u/09/huttuna6/data/Documents/Code/venv/lib/python3.10/site-packages/tqdm/notebook.py:256\u001b[0m, in \u001b[0;36mtqdm_notebook.__iter__\u001b[0;34m(self)\u001b[0m\n\u001b[1;32m    253\u001b[0m     it \u001b[38;5;241m=\u001b[39m \u001b[38;5;28msuper\u001b[39m(tqdm_notebook, \u001b[38;5;28mself\u001b[39m)\u001b[38;5;241m.\u001b[39m\u001b[38;5;21m__iter__\u001b[39m()\n\u001b[1;32m    254\u001b[0m     \u001b[38;5;28;01mfor\u001b[39;00m obj \u001b[38;5;129;01min\u001b[39;00m it:\n\u001b[1;32m    255\u001b[0m         \u001b[38;5;66;03m# return super(tqdm...) will not catch exception\u001b[39;00m\n\u001b[0;32m--> 256\u001b[0m         \u001b[38;5;28;01myield\u001b[39;00m obj\n\u001b[1;32m    257\u001b[0m \u001b[38;5;66;03m# NB: except ... [ as ...] breaks IPython async KeyboardInterrupt\u001b[39;00m\n\u001b[1;32m    258\u001b[0m \u001b[38;5;28;01mexcept\u001b[39;00m:  \u001b[38;5;66;03m# NOQA\u001b[39;00m\n",
      "\u001b[0;31mKeyboardInterrupt\u001b[0m: "
     ]
    }
   ],
   "source": [
    "train_data_np = train_data.to_numpy()\n",
    "emerson = df.drop_duplicates()\n",
    "emerson_np = emerson.to_numpy()\n",
    "\n",
    "add_alleles(train_data_np, emerson_np)"
   ]
  },
  {
   "cell_type": "markdown",
   "id": "2e99966e",
   "metadata": {},
   "source": [
    "### Download the gene sequence data "
   ]
  },
  {
   "cell_type": "code",
   "execution_count": null,
   "id": "8fe54f64",
   "metadata": {},
   "outputs": [],
   "source": [
    "data_path = os.path.abspath(os.path.join(os.getcwd(), os.pardir, os.pardir, \"data\"))\n",
    "trbvs = os.path.join(data_path, \"trbvs.tsv\")\n",
    "trbjs = os.path.join(data_path, \"trbjs.tsv\")\n",
    "\n",
    "trbvs_df = pd.read_csv(trbvs, sep = \"\\t\")\n",
    "trbjs_df = pd.read_csv(trbjs, sep = \"\\t\")"
   ]
  },
  {
   "cell_type": "code",
   "execution_count": null,
   "id": "82db9d63",
   "metadata": {},
   "outputs": [],
   "source": [
    "trbvs_df.loc[:, \"1\":\"109\"] = trbvs_df.loc[:, \"1\":\"109\"].fillna(\"-\") \n",
    "trbjs_df.loc[:, \"1\":\"17\"] = trbjs_df.loc[:, \"1\":\"17\"].fillna(\"-\")"
   ]
  },
  {
   "cell_type": "code",
   "execution_count": null,
   "id": "ba014d5b",
   "metadata": {},
   "outputs": [],
   "source": [
    "trbjs_df"
   ]
  },
  {
   "cell_type": "markdown",
   "id": "5c00203b",
   "metadata": {},
   "source": [
    "### Create dictionary of the J and V genes based on tsv file containing sequences\n",
    "\n",
    "The keys of the dictionary are the names of the different genes and the values are lists containing tuples. First value of the tuple is the name of the allele and the second value is the sequence as a stiring."
   ]
  },
  {
   "cell_type": "code",
   "execution_count": null,
   "id": "05c5f3e1",
   "metadata": {},
   "outputs": [],
   "source": [
    "dictionary = {}\n",
    "\n",
    "for indx, row in trbjs_df.iterrows():\n",
    "    key = row[\"Gene\"]\n",
    "    if key not in dictionary.keys():\n",
    "        dictionary[key] = []\n",
    "    seq = row.loc[\"1\":\"17\"].to_string(header = False, index = False)\n",
    "    seq = seq.replace('\\n', ' ')\n",
    "    dictionary[key].append((row[\"Allele\"], seq))\n",
    "\n",
    "for indx, row in trbvs_df.iterrows():\n",
    "    key = row[\"Gene\"]\n",
    "    if key not in dictionary.keys():\n",
    "        dictionary[key] = []\n",
    "    seq = row.loc[\"1\":\"109\"].to_string(header = False, index = False)\n",
    "    seq = seq.replace('\\n', ' ')\n",
    "    dictionary[key].append((row[\"Allele\"], seq))"
   ]
  },
  {
   "cell_type": "markdown",
   "id": "95e7c633",
   "metadata": {},
   "source": [
    "### Fetching the sequence into dataset"
   ]
  },
  {
   "cell_type": "code",
   "execution_count": null,
   "id": "0d378733",
   "metadata": {},
   "outputs": [],
   "source": [
    "@numba.jit(forceobj=True)\n",
    "def replace_v_j(data, dictionary, rnd = False, seed = 123):\n",
    "    '''\n",
    "    replaces the v and j gene names with the amino acid sequence. \n",
    "    Data needs to be numpy array. If the variable rnd is False the\n",
    "    1st available allele from the dictionary is chosen. Otherwise the\n",
    "    allele is chosen randomly if multiple alleles are available.\n",
    "    \n",
    "    Dictionary need to be in form where the key is the name of the gene,\n",
    "    and the value is list of tuples, where the 1st element of the tuple is\n",
    "    the name of the allele and the 2nd element is the amino acid sequence of\n",
    "    the allele.\n",
    "    '''\n",
    "    random.seed(seed)\n",
    "    for i in tqdm(range(len(data)),position=0, leave=True):\n",
    "        if not rnd:\n",
    "            data[i, 1] = dictionary[data[i, 1]][0][1]\n",
    "            data[i, 2] = dictionary[data[i, 2]][0][1]\n",
    "        else:\n",
    "            data[i, 1] = random.choice(dictionary[data[i, 1]])[1]\n",
    "            data[i, 2] = random.choice(dictionary[data[i, 2]])[1]\n",
    "    return data"
   ]
  },
  {
   "cell_type": "code",
   "execution_count": null,
   "id": "ea63c593",
   "metadata": {},
   "outputs": [],
   "source": [
    "train_data_np = train_data.to_numpy()\n",
    "del train_data #Variables take too much memory \n",
    "\n",
    "new_data = replace_v_j(train_data_np, dictionary, rnd = True)\n",
    "del train_data_np #Variables take too much memory "
   ]
  },
  {
   "cell_type": "code",
   "execution_count": null,
   "id": "18417953",
   "metadata": {},
   "outputs": [],
   "source": [
    "new_data = pd.DataFrame(data=new_data, columns=[\"seq\",\"v\",\"j\"])"
   ]
  },
  {
   "cell_type": "code",
   "execution_count": null,
   "id": "054db13f",
   "metadata": {},
   "outputs": [],
   "source": [
    "new_data.loc[5000000,\"v\"]"
   ]
  },
  {
   "cell_type": "code",
   "execution_count": null,
   "id": "192aa61f",
   "metadata": {},
   "outputs": [],
   "source": []
  }
 ],
 "metadata": {
  "kernelspec": {
   "display_name": "Python 3 (ipykernel)",
   "language": "python",
   "name": "python3"
  },
  "language_info": {
   "codemirror_mode": {
    "name": "ipython",
    "version": 3
   },
   "file_extension": ".py",
   "mimetype": "text/x-python",
   "name": "python",
   "nbconvert_exporter": "python",
   "pygments_lexer": "ipython3",
   "version": "3.10.6"
  }
 },
 "nbformat": 4,
 "nbformat_minor": 5
}
