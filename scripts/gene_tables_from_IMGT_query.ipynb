{
 "cells": [
  {
   "cell_type": "code",
   "execution_count": 19,
   "id": "2a258a33",
   "metadata": {},
   "outputs": [],
   "source": [
    "import pandas as pd "
   ]
  },
  {
   "cell_type": "code",
   "execution_count": 24,
   "id": "a6e2301d",
   "metadata": {},
   "outputs": [],
   "source": [
    "def gene_table(text_name, save_name, seq_max_l):   \n",
    "    f = open(text_name, \"r\")\n",
    "    text = f.read()\n",
    "    f.close()\n",
    "\n",
    "    data = text.split('>')\n",
    "\n",
    "    df_data = []\n",
    "    for row in data:\n",
    "        row = row.replace('\\n', '')\n",
    "        row = row.split('|')\n",
    "        df_data.append(row)\n",
    "\n",
    "    df = pd.DataFrame(data=df_data).drop(columns=[4,5,6,7,8,9,10,11,12,13,14])\n",
    "    df = df[1:]\n",
    "\n",
    "    genes = []\n",
    "    for idx, row in df.iterrows():\n",
    "        gene = str(row.loc[1])[:-3]\n",
    "        genes.append(gene)\n",
    "    df[\"gene\"] = genes\n",
    "\n",
    "    df.columns = [\"AccNum\", \"Allele\", \"Species\", \"Functionality\", \"\",\"Gene\"]\n",
    "    df = df[[\"Species\", \"Gene\", \"Allele\",\"AccNum\", \"Functionality\", \"\"]]\n",
    "    sequences = []\n",
    "    n = seq_max_l\n",
    "    for idx, row in df.iterrows():\n",
    "        seq = str(row.iloc[5])\n",
    "        seq = [*seq] + (n-len(seq))* ['']\n",
    "        sequences.append(seq)\n",
    "    column_names = []\n",
    "\n",
    "    for i in range(1, seq_max_l +1):\n",
    "        column_names.append(str(i))\n",
    "\n",
    "    for i, col in enumerate(column_names):\n",
    "        df[col] = [row[i] for row in sequences]\n",
    "\n",
    "    df = df.drop(columns=[\"\"])\n",
    "\n",
    "    df.to_csv(save_name, index=False, sep='\\t')"
   ]
  },
  {
   "cell_type": "code",
   "execution_count": 22,
   "id": "a2ece013",
   "metadata": {},
   "outputs": [
    {
     "name": "stderr",
     "output_type": "stream",
     "text": [
      "/tmp/ipykernel_18648/3002061105.py:37: PerformanceWarning: DataFrame is highly fragmented.  This is usually the result of calling `frame.insert` many times, which has poor performance.  Consider joining all columns at once using pd.concat(axis=1) instead. To get a de-fragmented frame, use `newframe = frame.copy()`\n",
      "  df[col] = [row[i] for row in sequences]\n",
      "/tmp/ipykernel_18648/3002061105.py:37: PerformanceWarning: DataFrame is highly fragmented.  This is usually the result of calling `frame.insert` many times, which has poor performance.  Consider joining all columns at once using pd.concat(axis=1) instead. To get a de-fragmented frame, use `newframe = frame.copy()`\n",
      "  df[col] = [row[i] for row in sequences]\n",
      "/tmp/ipykernel_18648/3002061105.py:37: PerformanceWarning: DataFrame is highly fragmented.  This is usually the result of calling `frame.insert` many times, which has poor performance.  Consider joining all columns at once using pd.concat(axis=1) instead. To get a de-fragmented frame, use `newframe = frame.copy()`\n",
      "  df[col] = [row[i] for row in sequences]\n",
      "/tmp/ipykernel_18648/3002061105.py:37: PerformanceWarning: DataFrame is highly fragmented.  This is usually the result of calling `frame.insert` many times, which has poor performance.  Consider joining all columns at once using pd.concat(axis=1) instead. To get a de-fragmented frame, use `newframe = frame.copy()`\n",
      "  df[col] = [row[i] for row in sequences]\n",
      "/tmp/ipykernel_18648/3002061105.py:37: PerformanceWarning: DataFrame is highly fragmented.  This is usually the result of calling `frame.insert` many times, which has poor performance.  Consider joining all columns at once using pd.concat(axis=1) instead. To get a de-fragmented frame, use `newframe = frame.copy()`\n",
      "  df[col] = [row[i] for row in sequences]\n",
      "/tmp/ipykernel_18648/3002061105.py:37: PerformanceWarning: DataFrame is highly fragmented.  This is usually the result of calling `frame.insert` many times, which has poor performance.  Consider joining all columns at once using pd.concat(axis=1) instead. To get a de-fragmented frame, use `newframe = frame.copy()`\n",
      "  df[col] = [row[i] for row in sequences]\n",
      "/tmp/ipykernel_18648/3002061105.py:37: PerformanceWarning: DataFrame is highly fragmented.  This is usually the result of calling `frame.insert` many times, which has poor performance.  Consider joining all columns at once using pd.concat(axis=1) instead. To get a de-fragmented frame, use `newframe = frame.copy()`\n",
      "  df[col] = [row[i] for row in sequences]\n",
      "/tmp/ipykernel_18648/3002061105.py:37: PerformanceWarning: DataFrame is highly fragmented.  This is usually the result of calling `frame.insert` many times, which has poor performance.  Consider joining all columns at once using pd.concat(axis=1) instead. To get a de-fragmented frame, use `newframe = frame.copy()`\n",
      "  df[col] = [row[i] for row in sequences]\n",
      "/tmp/ipykernel_18648/3002061105.py:37: PerformanceWarning: DataFrame is highly fragmented.  This is usually the result of calling `frame.insert` many times, which has poor performance.  Consider joining all columns at once using pd.concat(axis=1) instead. To get a de-fragmented frame, use `newframe = frame.copy()`\n",
      "  df[col] = [row[i] for row in sequences]\n",
      "/tmp/ipykernel_18648/3002061105.py:37: PerformanceWarning: DataFrame is highly fragmented.  This is usually the result of calling `frame.insert` many times, which has poor performance.  Consider joining all columns at once using pd.concat(axis=1) instead. To get a de-fragmented frame, use `newframe = frame.copy()`\n",
      "  df[col] = [row[i] for row in sequences]\n",
      "/tmp/ipykernel_18648/3002061105.py:37: PerformanceWarning: DataFrame is highly fragmented.  This is usually the result of calling `frame.insert` many times, which has poor performance.  Consider joining all columns at once using pd.concat(axis=1) instead. To get a de-fragmented frame, use `newframe = frame.copy()`\n",
      "  df[col] = [row[i] for row in sequences]\n"
     ]
    }
   ],
   "source": [
    "gene_table(\"v_genes.txt\", \"trbvs.tsv\", 109)"
   ]
  },
  {
   "cell_type": "code",
   "execution_count": 26,
   "id": "6aee088f",
   "metadata": {},
   "outputs": [],
   "source": [
    "gene_table(\"j_genes.txt\", \"trbjs.tsv\", 17)"
   ]
  },
  {
   "cell_type": "code",
   "execution_count": null,
   "id": "3c6ae55f",
   "metadata": {},
   "outputs": [],
   "source": []
  }
 ],
 "metadata": {
  "kernelspec": {
   "display_name": "Python 3 (ipykernel)",
   "language": "python",
   "name": "python3"
  },
  "language_info": {
   "codemirror_mode": {
    "name": "ipython",
    "version": 3
   },
   "file_extension": ".py",
   "mimetype": "text/x-python",
   "name": "python",
   "nbconvert_exporter": "python",
   "pygments_lexer": "ipython3",
   "version": "3.10.6"
  }
 },
 "nbformat": 4,
 "nbformat_minor": 5
}
