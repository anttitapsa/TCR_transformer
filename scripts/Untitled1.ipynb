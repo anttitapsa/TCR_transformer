{
 "cells": [
  {
   "cell_type": "code",
   "execution_count": 1,
   "id": "3acfde9e",
   "metadata": {},
   "outputs": [],
   "source": [
    "import numpy as np\n",
    "import pandas as pd \n",
    "import os "
   ]
  },
  {
   "cell_type": "code",
   "execution_count": null,
   "id": "d2071001",
   "metadata": {},
   "outputs": [],
   "source": [
    "data_path = os.path.join(os.getcwd(), os.pardir, \"data\", \"emerson\", \"emerson_processed\")\n",
    "whole_data = pd.read_csv(os.path.join(data_path, \"whole_seqs_nn.tsv\"), sep = '\\t')\n",
    "train_data = pd.read_csv(os.path.join(data_path, \"whole_seqs_nn_train.tsv\"), sep = '\\t')"
   ]
  },
  {
   "cell_type": "code",
   "execution_count": null,
   "id": "28d05d42",
   "metadata": {},
   "outputs": [],
   "source": []
  }
 ],
 "metadata": {
  "kernelspec": {
   "display_name": "Python 3 (ipykernel)",
   "language": "python",
   "name": "python3"
  },
  "language_info": {
   "codemirror_mode": {
    "name": "ipython",
    "version": 3
   },
   "file_extension": ".py",
   "mimetype": "text/x-python",
   "name": "python",
   "nbconvert_exporter": "python",
   "pygments_lexer": "ipython3",
   "version": "3.10.6"
  }
 },
 "nbformat": 4,
 "nbformat_minor": 5
}
