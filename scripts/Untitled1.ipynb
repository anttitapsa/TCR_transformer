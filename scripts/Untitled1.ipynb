{
 "cells": [
  {
   "cell_type": "code",
   "execution_count": 1,
   "metadata": {},
   "outputs": [],
   "source": [
    "import numpy as np\n",
    "import numba\n",
    "import matplotlib.pyplot as plt\n",
    "import pandas as pd \n",
    "import os \n",
    "from tqdm import tqdm "
   ]
  },
  {
   "cell_type": "code",
   "execution_count": 2,
   "metadata": {},
   "outputs": [],
   "source": [
    "data_path = os.path.join(os.getcwd(), os.pardir, \"data\", \"emerson\", \"emerson_processed\")\n",
    "whole_data_flag = False"
   ]
  },
  {
   "cell_type": "code",
   "execution_count": 3,
   "metadata": {},
   "outputs": [],
   "source": [
    "if whole_data_flag:\n",
    "    whole_data = pd.read_csv(os.path.join(data_path, \"whole_seqs_nn.tsv\"), sep = '\\t')\n",
    "    train_data = whole_data\n",
    "else:\n",
    "    train_data = pd.read_csv(os.path.join(data_path, \"whole_seqs_nn_train.tsv\"), sep = '\\t')"
   ]
  },
  {
   "cell_type": "code",
   "execution_count": 4,
   "metadata": {},
   "outputs": [
    {
     "data": {
      "text/plain": [
       "26427244"
      ]
     },
     "execution_count": 4,
     "metadata": {},
     "output_type": "execute_result"
    }
   ],
   "source": [
    "len(train_data)"
   ]
  },
  {
   "cell_type": "markdown",
   "metadata": {},
   "source": [
    "### V- and J-gene distribution"
   ]
  },
  {
   "cell_type": "code",
   "execution_count": null,
   "metadata": {},
   "outputs": [],
   "source": [
    "v_genes = train_data.loc[:,\"v\"]\n",
    "j_genes = train_data.loc[:,\"j\"]"
   ]
  },
  {
   "cell_type": "code",
   "execution_count": null,
   "metadata": {},
   "outputs": [],
   "source": [
    "@numba.jit(forceobj=True)\n",
    "def create_combinations(data):\n",
    "    result = []\n",
    "    for i in tqdm(range(len(data)),position=0, leave=True):\n",
    "        result.append(f'{data[i, 3]}, {data[i, 6]}')\n",
    "    return result "
   ]
  },
  {
   "cell_type": "code",
   "execution_count": null,
   "metadata": {},
   "outputs": [],
   "source": [
    "v_j_combinations = create_combinations(train_data.to_numpy())"
   ]
  },
  {
   "cell_type": "code",
   "execution_count": null,
   "metadata": {},
   "outputs": [],
   "source": [
    "gene_count = {}\n",
    "for comb in tqdm(v_j_combinations, total = train_data.shape[0], position=0, leave=True):\n",
    "    key = str(comb)\n",
    "    if key not in gene_count.keys():\n",
    "        gene_count[key] = 1\n",
    "    else:\n",
    "        gene_count[key] += 1\n",
    "gene_count.update((x, y/train_data.shape[0]) for x, y in gene_count.items())"
   ]
  },
  {
   "cell_type": "code",
   "execution_count": null,
   "metadata": {},
   "outputs": [],
   "source": [
    "gene_count_sorted = dict(sorted(gene_count.items(), key = lambda x: x[1], reverse= True))"
   ]
  },
  {
   "cell_type": "code",
   "execution_count": null,
   "metadata": {},
   "outputs": [],
   "source": [
    "sum(gene_count_sorted.values())\n"
   ]
  },
  {
   "cell_type": "code",
   "execution_count": null,
   "metadata": {},
   "outputs": [],
   "source": [
    "fig = plt.figure(figsize=(50,50))\n",
    "plt.bar(x=list(gene_count_sorted.keys()), height= list(gene_count_sorted.values()), align='edge')\n",
    "plt.xticks(rotation=-90)\n",
    "plt.show"
   ]
  },
  {
   "cell_type": "code",
   "execution_count": null,
   "metadata": {},
   "outputs": [],
   "source": [
    "indx = int(len(gene_count_sorted)/7)"
   ]
  },
  {
   "cell_type": "code",
   "execution_count": null,
   "metadata": {},
   "outputs": [],
   "source": [
    "def gene_combination(begin_indx, end_indx):\n",
    "    print(pd.DataFrame(data={'gene combination': list(gene_count_sorted.keys())[begin_indx:end_indx], 'fraction (%)': [f'{i*100:.3}'for i in list(gene_count_sorted.values())[begin_indx:end_indx]]}).to_latex(index=False))"
   ]
  },
  {
   "cell_type": "code",
   "execution_count": null,
   "metadata": {},
   "outputs": [],
   "source": [
    "gene_combination(0, indx)\n",
    "gene_combination(indx, 2*indx)\n",
    "gene_combination(2*indx, 3*indx)\n",
    "gene_combination(3*indx, 4*indx)\n",
    "gene_combination(4*indx, 5*indx)\n",
    "gene_combination(5*indx, 6*indx)\n",
    "gene_combination(6*indx, len(gene_count_sorted))"
   ]
  },
  {
   "cell_type": "markdown",
   "metadata": {},
   "source": [
    "### distribution of deletions of v gene  "
   ]
  },
  {
   "cell_type": "code",
   "execution_count": null,
   "metadata": {},
   "outputs": [],
   "source": [
    "v_deletions= train_data.loc[:,\"v_deletions\"]\n",
    "j_deletions = train_data.loc[:,\"j_deletions\"]"
   ]
  },
  {
   "cell_type": "code",
   "execution_count": null,
   "metadata": {},
   "outputs": [],
   "source": [
    "v_deletion_count = {}\n",
    "for comb in tqdm(v_deletions, total = train_data.shape[0], position=0, leave=True):\n",
    "    key = str(comb)\n",
    "    if key not in v_deletion_count.keys():\n",
    "        v_deletion_count[key] = 1\n",
    "    else:\n",
    "        v_deletion_count[key] += 1\n",
    "v_deletion_count.update((x, y/train_data.shape[0]) for x, y in v_deletion_count.items())"
   ]
  },
  {
   "cell_type": "code",
   "execution_count": null,
   "metadata": {},
   "outputs": [],
   "source": [
    "v_deletion_count_sorted = dict(sorted(v_deletion_count.items(), key= lambda x: x[1], reverse=True))\n",
    "v_deletion_count_sorted"
   ]
  },
  {
   "cell_type": "code",
   "execution_count": null,
   "metadata": {},
   "outputs": [],
   "source": [
    "sum(list(v_deletion_count_sorted.values()))"
   ]
  },
  {
   "cell_type": "code",
   "execution_count": null,
   "metadata": {},
   "outputs": [],
   "source": [
    "print(pd.DataFrame(data={'number of deletions': list(v_deletion_count_sorted.keys()), 'fraction (%)': [f'{i *100:.3}' for i in v_deletion_count_sorted.values()]}).to_latex(index=False))"
   ]
  },
  {
   "cell_type": "code",
   "execution_count": null,
   "metadata": {},
   "outputs": [],
   "source": [
    "sum(list(v_deletion_count_sorted.values())[:11])"
   ]
  },
  {
   "cell_type": "code",
   "execution_count": null,
   "metadata": {},
   "outputs": [],
   "source": [
    "list(v_deletion_count_sorted.keys())[:11]"
   ]
  },
  {
   "cell_type": "code",
   "execution_count": null,
   "metadata": {},
   "outputs": [],
   "source": [
    "v_deletion_count_sorted = {int(k):v for k,v in v_deletion_count_sorted.items()}\n",
    "v_deletion_count_sorted = dict(sorted(v_deletion_count_sorted.items(), reverse=False))"
   ]
  },
  {
   "cell_type": "code",
   "execution_count": null,
   "metadata": {},
   "outputs": [],
   "source": [
    "fig = plt.figure(figsize = (10,5))\n",
    "plt.bar(v_deletion_count_sorted.keys(), v_deletion_count_sorted.values())\n",
    "plt.title(\"Deletions on V gene\")\n",
    "plt.xlabel(\"No. of deletions\")\n",
    "plt.ylabel(\"Fraction of the train set\")\n",
    "plt.show\n",
    "plt.savefig(os.path.join(\"figures\", \"V_deletion_train.png\"))"
   ]
  },
  {
   "cell_type": "markdown",
   "metadata": {},
   "source": [
    "### distribution of deletions on J - genes  "
   ]
  },
  {
   "cell_type": "code",
   "execution_count": null,
   "metadata": {},
   "outputs": [],
   "source": [
    "j_deletion_count = {}\n",
    "for comb in tqdm(j_deletions, total = train_data.shape[0], position=0, leave=True):\n",
    "    key = str(comb)\n",
    "    if key not in j_deletion_count.keys():\n",
    "        j_deletion_count[key] = 1\n",
    "    else:\n",
    "        j_deletion_count[key] += 1\n",
    "j_deletion_count.update((x, y/train_data.shape[0]) for x, y in j_deletion_count.items())"
   ]
  },
  {
   "cell_type": "code",
   "execution_count": null,
   "metadata": {},
   "outputs": [],
   "source": [
    "j_deletion_count_sorted = dict(sorted(j_deletion_count.items(), key= lambda x: x[1], reverse=True))\n",
    "j_deletion_count_sorted"
   ]
  },
  {
   "cell_type": "code",
   "execution_count": null,
   "metadata": {},
   "outputs": [],
   "source": [
    "print(pd.DataFrame(data={'number of deletions': list(j_deletion_count_sorted.keys()), 'fraction (%)': [f'{i *100:.3}' for i in j_deletion_count_sorted.values()]}).to_latex(index=False))"
   ]
  },
  {
   "cell_type": "code",
   "execution_count": null,
   "metadata": {},
   "outputs": [],
   "source": [
    "sum(list(j_deletion_count_sorted.values())[:12])"
   ]
  },
  {
   "cell_type": "code",
   "execution_count": null,
   "metadata": {},
   "outputs": [],
   "source": [
    "list(j_deletion_count_sorted.keys())[:12]"
   ]
  },
  {
   "cell_type": "code",
   "execution_count": null,
   "metadata": {},
   "outputs": [],
   "source": [
    "j_deletion_count_sorted = {int(k):v for k,v in j_deletion_count_sorted.items()}\n",
    "j_deletion_count_sorted = dict(sorted(j_deletion_count_sorted.items(), reverse=False))"
   ]
  },
  {
   "cell_type": "code",
   "execution_count": null,
   "metadata": {},
   "outputs": [],
   "source": [
    "fig = plt.figure(figsize = (10,5))\n",
    "plt.bar(j_deletion_count_sorted.keys(), j_deletion_count_sorted.values())\n",
    "plt.title(\"Deletions on J gene\")\n",
    "plt.xlabel(\"No. of deletions\")\n",
    "plt.ylabel(\"Fraction of the train set\")\n",
    "plt.show\n",
    "plt.savefig(os.path.join(\"figures\", \"J_deletion_train.png\"))"
   ]
  },
  {
   "cell_type": "markdown",
   "metadata": {},
   "source": [
    "### Distribution of Lengths of cdr3 sequences "
   ]
  },
  {
   "cell_type": "code",
   "execution_count": null,
   "metadata": {},
   "outputs": [],
   "source": [
    "cdr3 = train_data.loc[:, 'seq']"
   ]
  },
  {
   "cell_type": "code",
   "execution_count": null,
   "metadata": {},
   "outputs": [],
   "source": [
    "@numba.jit(forceobj=True)\n",
    "def count_seq_len(data):\n",
    "    result = []\n",
    "    for i in tqdm(range(len(data)),position=0, leave=True):\n",
    "        result.append(len(data[i]))\n",
    "    return result"
   ]
  },
  {
   "cell_type": "code",
   "execution_count": null,
   "metadata": {},
   "outputs": [],
   "source": [
    "cdr3_lengths = count_seq_len(cdr3.to_numpy())"
   ]
  },
  {
   "cell_type": "code",
   "execution_count": null,
   "metadata": {},
   "outputs": [],
   "source": [
    "cdr3_len_count = {}\n",
    "for len_ in tqdm(cdr3_lengths, total = train_data.shape[0], position=0, leave=True):\n",
    "    key = str(len_)\n",
    "    if key not in cdr3_len_count.keys():\n",
    "        cdr3_len_count[key] = 1\n",
    "    else:\n",
    "        cdr3_len_count[key] += 1\n",
    "cdr3_len_count.update((x, y/train_data.shape[0]) for x, y in cdr3_len_count.items())"
   ]
  },
  {
   "cell_type": "code",
   "execution_count": null,
   "metadata": {},
   "outputs": [],
   "source": [
    "cdr3_len_count"
   ]
  },
  {
   "cell_type": "code",
   "execution_count": null,
   "metadata": {},
   "outputs": [],
   "source": [
    "sum(list(cdr3_len_count.values()))"
   ]
  },
  {
   "cell_type": "code",
   "execution_count": null,
   "metadata": {},
   "outputs": [],
   "source": [
    "sorted_cdr3_len = dict(sorted(cdr3_len_count.items(), key = lambda x: x[1], reverse = True))"
   ]
  },
  {
   "cell_type": "code",
   "execution_count": null,
   "metadata": {},
   "outputs": [],
   "source": [
    "sum(list(sorted_cdr3_len.values())[:9])"
   ]
  },
  {
   "cell_type": "code",
   "execution_count": null,
   "metadata": {},
   "outputs": [],
   "source": [
    "list(sorted_cdr3_len.keys())[:9]"
   ]
  },
  {
   "cell_type": "code",
   "execution_count": null,
   "metadata": {},
   "outputs": [],
   "source": [
    "print(pd.DataFrame(data={'len of cdr3': sorted_cdr3_len.keys(), 'fraction (%)': [f'{i*100:.3}'for i in sorted_cdr3_len.values()]}).to_latex(index=False))"
   ]
  },
  {
   "cell_type": "code",
   "execution_count": null,
   "metadata": {},
   "outputs": [],
   "source": [
    "sorted_cdr3_len = {int(k):v for k,v in sorted_cdr3_len.items()}\n",
    "sorted_cdr3_len= dict(sorted(sorted_cdr3_len.items(), reverse=False))"
   ]
  },
  {
   "cell_type": "code",
   "execution_count": null,
   "metadata": {},
   "outputs": [],
   "source": [
    "fig = plt.figure(figsize = (10,5))\n",
    "plt.bar(sorted_cdr3_len.keys(), sorted_cdr3_len.values())\n",
    "plt.title(\"Lengths of CDR3 sequences\")\n",
    "plt.xlabel(\"Length of CDR3 seq\")\n",
    "plt.ylabel(\"Fraction of the train set\")\n",
    "plt.show\n",
    "plt.savefig(os.path.join(\"figures\",\"CDR3_train.png\"))"
   ]
  },
  {
   "cell_type": "markdown",
   "metadata": {},
   "source": [
    "### Specific V gene deletions "
   ]
  },
  {
   "cell_type": "code",
   "execution_count": 5,
   "metadata": {},
   "outputs": [],
   "source": [
    "v_genes_deletions = train_data.loc[:,['v', 'v_deletions']]"
   ]
  },
  {
   "cell_type": "code",
   "execution_count": 14,
   "metadata": {},
   "outputs": [],
   "source": [
    "@numba.jit(forceobj=True)\n",
    "def create_list(data):\n",
    "    result = []\n",
    "    for i in tqdm(range(len(data)),position=0, leave=True):\n",
    "        result.append((data[i, 0], data[i, 1]))\n",
    "    return result "
   ]
  },
  {
   "cell_type": "code",
   "execution_count": 7,
   "metadata": {},
   "outputs": [
    {
     "data": {
      "text/html": [
       "<div>\n",
       "<style scoped>\n",
       "    .dataframe tbody tr th:only-of-type {\n",
       "        vertical-align: middle;\n",
       "    }\n",
       "\n",
       "    .dataframe tbody tr th {\n",
       "        vertical-align: top;\n",
       "    }\n",
       "\n",
       "    .dataframe thead th {\n",
       "        text-align: right;\n",
       "    }\n",
       "</style>\n",
       "<table border=\"1\" class=\"dataframe\">\n",
       "  <thead>\n",
       "    <tr style=\"text-align: right;\">\n",
       "      <th></th>\n",
       "      <th>v</th>\n",
       "      <th>v_deletions</th>\n",
       "    </tr>\n",
       "  </thead>\n",
       "  <tbody>\n",
       "    <tr>\n",
       "      <th>0</th>\n",
       "      <td>TRBV11-2</td>\n",
       "      <td>6</td>\n",
       "    </tr>\n",
       "    <tr>\n",
       "      <th>1</th>\n",
       "      <td>TRBV7-8</td>\n",
       "      <td>5</td>\n",
       "    </tr>\n",
       "    <tr>\n",
       "      <th>2</th>\n",
       "      <td>TRBV11-2</td>\n",
       "      <td>5</td>\n",
       "    </tr>\n",
       "    <tr>\n",
       "      <th>3</th>\n",
       "      <td>TRBV4-2</td>\n",
       "      <td>4</td>\n",
       "    </tr>\n",
       "    <tr>\n",
       "      <th>4</th>\n",
       "      <td>TRBV7-2</td>\n",
       "      <td>1</td>\n",
       "    </tr>\n",
       "    <tr>\n",
       "      <th>...</th>\n",
       "      <td>...</td>\n",
       "      <td>...</td>\n",
       "    </tr>\n",
       "    <tr>\n",
       "      <th>26427239</th>\n",
       "      <td>TRBV5-4</td>\n",
       "      <td>0</td>\n",
       "    </tr>\n",
       "    <tr>\n",
       "      <th>26427240</th>\n",
       "      <td>TRBV5-4</td>\n",
       "      <td>4</td>\n",
       "    </tr>\n",
       "    <tr>\n",
       "      <th>26427241</th>\n",
       "      <td>TRBV29-1</td>\n",
       "      <td>6</td>\n",
       "    </tr>\n",
       "    <tr>\n",
       "      <th>26427242</th>\n",
       "      <td>TRBV4-2</td>\n",
       "      <td>3</td>\n",
       "    </tr>\n",
       "    <tr>\n",
       "      <th>26427243</th>\n",
       "      <td>TRBV29-1</td>\n",
       "      <td>8</td>\n",
       "    </tr>\n",
       "  </tbody>\n",
       "</table>\n",
       "<p>26427244 rows × 2 columns</p>\n",
       "</div>"
      ],
      "text/plain": [
       "                 v  v_deletions\n",
       "0         TRBV11-2            6\n",
       "1          TRBV7-8            5\n",
       "2         TRBV11-2            5\n",
       "3          TRBV4-2            4\n",
       "4          TRBV7-2            1\n",
       "...            ...          ...\n",
       "26427239   TRBV5-4            0\n",
       "26427240   TRBV5-4            4\n",
       "26427241  TRBV29-1            6\n",
       "26427242   TRBV4-2            3\n",
       "26427243  TRBV29-1            8\n",
       "\n",
       "[26427244 rows x 2 columns]"
      ]
     },
     "execution_count": 7,
     "metadata": {},
     "output_type": "execute_result"
    }
   ],
   "source": [
    "v_genes_deletions"
   ]
  },
  {
   "cell_type": "code",
   "execution_count": 15,
   "metadata": {},
   "outputs": [
    {
     "name": "stderr",
     "output_type": "stream",
     "text": [
      "100%|██████████| 26427244/26427244 [00:14<00:00, 1850502.97it/s]\n"
     ]
    }
   ],
   "source": [
    "v_genes_deletions_list = create_list(v_genes_deletions.to_numpy())"
   ]
  },
  {
   "cell_type": "code",
   "execution_count": 36,
   "metadata": {},
   "outputs": [
    {
     "name": "stderr",
     "output_type": "stream",
     "text": [
      "100%|██████████| 26427244/26427244 [00:14<00:00, 1830234.65it/s]\n"
     ]
    }
   ],
   "source": [
    "gene_deletion_list = {}\n",
    "for i in tqdm(v_genes_deletions_list, total = train_data.shape[0], position=0, leave=True):\n",
    "    key = str(i[0])\n",
    "    value = i[1]\n",
    "    if key not in gene_deletion_list.keys():\n",
    "        gene_deletion_list[key] = [value]\n",
    "    else:\n",
    "        gene_deletion_list[key].append(value)\n",
    "#gene_count.update((x, y/train_data.shape[0]) for x, y in gene_count.items())"
   ]
  },
  {
   "cell_type": "code",
   "execution_count": 52,
   "metadata": {},
   "outputs": [
    {
     "name": "stderr",
     "output_type": "stream",
     "text": [
      "100%|██████████| 28/28 [00:11<00:00,  2.36it/s]\n"
     ]
    }
   ],
   "source": [
    "v_gene_deletions = {}\n",
    "for i in tqdm(gene_deletion_list.keys(), total = len(gene_deletion_list), position = 0, leave = True):\n",
    "    gene_count = {}\n",
    "    total = 0\n",
    "    for j in gene_deletion_list[i]:\n",
    "        key = str(j)\n",
    "        if key not in gene_count.keys():\n",
    "            gene_count[key] = 1\n",
    "        else:\n",
    "            gene_count[key] += 1\n",
    "        total += 1\n",
    "    gene_count.update((x, y/total) for x, y in gene_count.items())\n",
    "    v_gene_deletions[i] = gene_count"
   ]
  },
  {
   "cell_type": "code",
   "execution_count": 57,
   "metadata": {},
   "outputs": [],
   "source": [
    "trbv112 = v_gene_deletions['TRBV11-2']"
   ]
  },
  {
   "cell_type": "code",
   "execution_count": 58,
   "metadata": {},
   "outputs": [
    {
     "data": {
      "text/plain": [
       "{0: 0.10246597858625187,\n",
       " 1: 0.1634565940019467,\n",
       " 2: 0.0933775320930745,\n",
       " 3: 0.112136752921587,\n",
       " 4: 0.11934047737109205,\n",
       " 5: 0.2780749358750681,\n",
       " 6: 0.0668108329813349,\n",
       " 7: 0.030956731740463903,\n",
       " 8: 0.0216769817511769,\n",
       " 9: 0.0034113239426273164,\n",
       " 10: 0.004691526938593108,\n",
       " 11: 0.0026476403861575852,\n",
       " 12: 0.0006014581917687462,\n",
       " 13: 0.00019283392407852933,\n",
       " 14: 0.00011019081375915961,\n",
       " 15: 4.361719711300068e-05,\n",
       " 16: 7.652139844386084e-07,\n",
       " 18: 7.652139844386084e-07,\n",
       " 21: 7.652139844386084e-07,\n",
       " 22: 7.652139844386084e-07,\n",
       " 25: 1.5304279688772168e-06}"
      ]
     },
     "execution_count": 58,
     "metadata": {},
     "output_type": "execute_result"
    }
   ],
   "source": [
    "trbv112 = {int(k): v for k,v in trbv112.items()}\n",
    "trbv112 = dict(sorted(trbv112.items()))\n",
    "trbv112"
   ]
  },
  {
   "cell_type": "code",
   "execution_count": 59,
   "metadata": {},
   "outputs": [
    {
     "data": {
      "image/png": "[encoded data removed]",
      "text/plain": [
       "<Figure size 1000x500 with 1 Axes>"
      ]
     },
     "metadata": {},
     "output_type": "display_data"
    }
   ],
   "source": [
    "fig = plt.figure(figsize = (10,5))\n",
    "plt.bar(trbv112.keys(), trbv112.values())\n",
    "plt.show()"
   ]
  },
  {
   "cell_type": "code",
   "execution_count": null,
   "metadata": {},
   "outputs": [],
   "source": []
  }
 ],
 "metadata": {
  "kernelspec": {
   "display_name": "Python (module anaconda)",
   "language": "python",
   "name": "python3"
  },
  "language_info": {
   "codemirror_mode": {
    "name": "ipython",
    "version": 3
   },
   "file_extension": ".py",
   "mimetype": "text/x-python",
   "name": "python",
   "nbconvert_exporter": "python",
   "pygments_lexer": "ipython3",
   "version": "3.10.8"
  }
 },
 "nbformat": 4,
 "nbformat_minor": 5
}
