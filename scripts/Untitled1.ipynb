{
 "cells": [
  {
   "cell_type": "code",
   "execution_count": null,
   "metadata": {},
   "outputs": [],
   "source": [
    "import numpy as np\n",
    "import numba\n",
    "import matplotlib.pyplot as plt\n",
    "import pandas as pd \n",
    "import os \n",
    "from tqdm import tqdm "
   ]
  },
  {
   "cell_type": "code",
   "execution_count": null,
   "metadata": {},
   "outputs": [],
   "source": [
    "data_path = os.path.join(os.getcwd(), os.pardir, \"data\", \"emerson\", \"emerson_processed\")\n",
    "whole_data = pd.read_csv(os.path.join(data_path, \"whole_seqs_nn.tsv\"), sep = '\\t')"
   ]
  },
  {
   "cell_type": "code",
   "execution_count": null,
   "metadata": {},
   "outputs": [],
   "source": [
    "train_data = pd.read_csv(os.path.join(data_path, \"whole_seqs_nn_train.tsv\"), sep = '\\t')\n",
    "#train_data = whole_data"
   ]
  },
  {
   "cell_type": "code",
   "execution_count": null,
   "metadata": {},
   "outputs": [],
   "source": [
    "len(train_data)"
   ]
  },
  {
   "cell_type": "markdown",
   "metadata": {},
   "source": [
    "### V- and J-gene distribution"
   ]
  },
  {
   "cell_type": "code",
   "execution_count": null,
   "metadata": {},
   "outputs": [],
   "source": [
    "v_genes = train_data.loc[:,\"v\"]\n",
    "j_genes = train_data.loc[:,\"j\"]"
   ]
  },
  {
   "cell_type": "code",
   "execution_count": null,
   "metadata": {},
   "outputs": [],
   "source": [
    "@numba.jit(forceobj=True)\n",
    "def create_combinations(data):\n",
    "    result = []\n",
    "    for i in tqdm(range(len(data)),position=0, leave=True):\n",
    "        result.append(f'{data[i, 3]}, {data[i, 6]}')\n",
    "    return result "
   ]
  },
  {
   "cell_type": "code",
   "execution_count": null,
   "metadata": {},
   "outputs": [],
   "source": [
    "v_j_combinations = create_combinations(train_data.to_numpy())"
   ]
  },
  {
   "cell_type": "code",
   "execution_count": null,
   "metadata": {},
   "outputs": [],
   "source": [
    "gene_count = {}\n",
    "for comb in tqdm(v_j_combinations, total = train_data.shape[0], position=0, leave=True):\n",
    "    key = str(comb)\n",
    "    if key not in gene_count.keys():\n",
    "        gene_count[key] = 1\n",
    "    else:\n",
    "        gene_count[key] += 1\n",
    "gene_count.update((x, y/train_data.shape[0]) for x, y in gene_count.items())"
   ]
  },
  {
   "cell_type": "code",
   "execution_count": null,
   "metadata": {},
   "outputs": [],
   "source": [
    "gene_count_sorted = dict(sorted(gene_count.items(), key = lambda x: x[1], reverse= True))"
   ]
  },
  {
   "cell_type": "code",
   "execution_count": null,
   "metadata": {},
   "outputs": [],
   "source": [
    "sum(gene_count_sorted.values())\n"
   ]
  },
  {
   "cell_type": "code",
   "execution_count": null,
   "metadata": {},
   "outputs": [],
   "source": [
    "fig = plt.figure(figsize=(50,50))\n",
    "plt.bar(x=list(gene_count_sorted.keys()), height= list(gene_count_sorted.values()), align='edge')\n",
    "plt.xticks(rotation=-90)\n",
    "plt.show"
   ]
  },
  {
   "cell_type": "code",
   "execution_count": null,
   "metadata": {},
   "outputs": [],
   "source": [
    "indx = int(len(gene_count_sorted)/7)"
   ]
  },
  {
   "cell_type": "code",
   "execution_count": null,
   "metadata": {},
   "outputs": [],
   "source": [
    "def gene_combination(begin_indx, end_indx):\n",
    "    print(pd.DataFrame(data={'gene combination': list(gene_count_sorted.keys())[begin_indx:end_indx], 'fraction (%)': [f'{i*100:.3}'for i in list(gene_count_sorted.values())[begin_indx:end_indx]]}).to_latex(index=False))"
   ]
  },
  {
   "cell_type": "code",
   "execution_count": null,
   "metadata": {},
   "outputs": [],
   "source": [
    "gene_combination(0, indx)\n",
    "gene_combination(indx, 2*indx)\n",
    "gene_combination(2*indx, 3*indx)\n",
    "gene_combination(3*indx, 4*indx)\n",
    "gene_combination(4*indx, 5*indx)\n",
    "gene_combination(5*indx, 6*indx)\n",
    "gene_combination(6*indx, len(gene_count_sorted))"
   ]
  },
  {
   "cell_type": "markdown",
   "metadata": {},
   "source": [
    "### distribution of deletions of v gene  "
   ]
  },
  {
   "cell_type": "code",
   "execution_count": null,
   "metadata": {},
   "outputs": [],
   "source": [
    "v_deletions= train_data.loc[:,\"v_deletions\"]\n",
    "j_deletions = train_data.loc[:,\"j_deletions\"]"
   ]
  },
  {
   "cell_type": "code",
   "execution_count": null,
   "metadata": {},
   "outputs": [],
   "source": [
    "v_deletion_count = {}\n",
    "for comb in tqdm(v_deletions, total = train_data.shape[0], position=0, leave=True):\n",
    "    key = str(comb)\n",
    "    if key not in v_deletion_count.keys():\n",
    "        v_deletion_count[key] = 1\n",
    "    else:\n",
    "        v_deletion_count[key] += 1\n",
    "v_deletion_count.update((x, y/train_data.shape[0]) for x, y in v_deletion_count.items())"
   ]
  },
  {
   "cell_type": "code",
   "execution_count": null,
   "metadata": {},
   "outputs": [],
   "source": [
    "v_deletion_count_sorted = dict(sorted(v_deletion_count.items(), key= lambda x: x[1], reverse=True))\n",
    "v_deletion_count_sorted"
   ]
  },
  {
   "cell_type": "code",
   "execution_count": null,
   "metadata": {},
   "outputs": [],
   "source": [
    "sum(list(v_deletion_count_sorted.values()))"
   ]
  },
  {
   "cell_type": "code",
   "execution_count": null,
   "metadata": {},
   "outputs": [],
   "source": [
    "print(pd.DataFrame(data={'number of deletions': list(v_deletion_count_sorted.keys()), 'fraction (%)': [f'{i *100:.3}' for i in v_deletion_count_sorted.values()]}).to_latex(index=False))"
   ]
  },
  {
   "cell_type": "code",
   "execution_count": null,
   "metadata": {},
   "outputs": [],
   "source": [
    "sum(list(v_deletion_count_sorted.values())[:11])"
   ]
  },
  {
   "cell_type": "code",
   "execution_count": null,
   "metadata": {},
   "outputs": [],
   "source": [
    "list(v_deletion_count_sorted.keys())[:11]"
   ]
  },
  {
   "cell_type": "code",
   "execution_count": null,
   "metadata": {},
   "outputs": [],
   "source": [
    "v_deletion_count_sorted = {int(k):v for k,v in v_deletion_count_sorted.items()}\n",
    "v_deletion_count_sorted = dict(sorted(v_deletion_count_sorted.items(), reverse=False))"
   ]
  },
  {
   "cell_type": "code",
   "execution_count": null,
   "metadata": {},
   "outputs": [],
   "source": [
    "fig = plt.figure(figsize = (10,5))\n",
    "plt.bar(v_deletion_count_sorted.keys(), v_deletion_count_sorted.values())\n",
    "plt.title(\"Deletions on V gene\")\n",
    "plt.xlabel(\"No. of deletions\")\n",
    "plt.ylabel(\"Fraction of the train set\")\n",
    "plt.show\n",
    "plt.savefig(os.path.join(\"figures\", \"V_deletion_train.png\"))"
   ]
  },
  {
   "cell_type": "markdown",
   "metadata": {},
   "source": [
    "### distribution of deletions on J - genes  "
   ]
  },
  {
   "cell_type": "code",
   "execution_count": null,
   "metadata": {},
   "outputs": [],
   "source": [
    "j_deletion_count = {}\n",
    "for comb in tqdm(j_deletions, total = train_data.shape[0], position=0, leave=True):\n",
    "    key = str(comb)\n",
    "    if key not in j_deletion_count.keys():\n",
    "        j_deletion_count[key] = 1\n",
    "    else:\n",
    "        j_deletion_count[key] += 1\n",
    "j_deletion_count.update((x, y/train_data.shape[0]) for x, y in j_deletion_count.items())"
   ]
  },
  {
   "cell_type": "code",
   "execution_count": null,
   "metadata": {},
   "outputs": [],
   "source": [
    "j_deletion_count_sorted = dict(sorted(j_deletion_count.items(), key= lambda x: x[1], reverse=True))\n",
    "j_deletion_count_sorted"
   ]
  },
  {
   "cell_type": "code",
   "execution_count": null,
   "metadata": {},
   "outputs": [],
   "source": [
    "print(pd.DataFrame(data={'number of deletions': list(j_deletion_count_sorted.keys()), 'fraction (%)': [f'{i *100:.3}' for i in j_deletion_count_sorted.values()]}).to_latex(index=False))"
   ]
  },
  {
   "cell_type": "code",
   "execution_count": null,
   "metadata": {},
   "outputs": [],
   "source": [
    "sum(list(j_deletion_count_sorted.values())[:12])"
   ]
  },
  {
   "cell_type": "code",
   "execution_count": null,
   "metadata": {},
   "outputs": [],
   "source": [
    "list(j_deletion_count_sorted.keys())[:12]"
   ]
  },
  {
   "cell_type": "code",
   "execution_count": null,
   "metadata": {},
   "outputs": [],
   "source": [
    "j_deletion_count_sorted = {int(k):v for k,v in j_deletion_count_sorted.items()}\n",
    "j_deletion_count_sorted = dict(sorted(j_deletion_count_sorted.items(), reverse=False))"
   ]
  },
  {
   "cell_type": "code",
   "execution_count": null,
   "metadata": {},
   "outputs": [],
   "source": [
    "fig = plt.figure(figsize = (10,5))\n",
    "plt.bar(j_deletion_count_sorted.keys(), j_deletion_count_sorted.values())\n",
    "plt.title(\"Deletions on J gene\")\n",
    "plt.xlabel(\"No. of deletions\")\n",
    "plt.ylabel(\"Fraction of the train set\")\n",
    "plt.show\n",
    "plt.savefig(os.path.join(\"figures\", \"J_deletion_train.png\"))"
   ]
  },
  {
   "cell_type": "markdown",
   "metadata": {},
   "source": [
    "### Distribution of Lengths of cdr3 sequences "
   ]
  },
  {
   "cell_type": "code",
   "execution_count": null,
   "metadata": {},
   "outputs": [],
   "source": [
    "cdr3 = train_data.loc[:, 'seq']"
   ]
  },
  {
   "cell_type": "code",
   "execution_count": null,
   "metadata": {},
   "outputs": [],
   "source": [
    "@numba.jit(forceobj=True)\n",
    "def count_seq_len(data):\n",
    "    result = []\n",
    "    for i in tqdm(range(len(data)),position=0, leave=True):\n",
    "        result.append(len(data[i]))\n",
    "    return result"
   ]
  },
  {
   "cell_type": "code",
   "execution_count": null,
   "metadata": {},
   "outputs": [],
   "source": [
    "cdr3_lengths = count_seq_len(cdr3.to_numpy())"
   ]
  },
  {
   "cell_type": "code",
   "execution_count": null,
   "metadata": {},
   "outputs": [],
   "source": [
    "cdr3_len_count = {}\n",
    "for len_ in tqdm(cdr3_lengths, total = train_data.shape[0], position=0, leave=True):\n",
    "    key = str(len_)\n",
    "    if key not in cdr3_len_count.keys():\n",
    "        cdr3_len_count[key] = 1\n",
    "    else:\n",
    "        cdr3_len_count[key] += 1\n",
    "cdr3_len_count.update((x, y/train_data.shape[0]) for x, y in cdr3_len_count.items())"
   ]
  },
  {
   "cell_type": "code",
   "execution_count": null,
   "metadata": {},
   "outputs": [],
   "source": [
    "cdr3_len_count"
   ]
  },
  {
   "cell_type": "code",
   "execution_count": null,
   "metadata": {},
   "outputs": [],
   "source": [
    "sum(list(cdr3_len_count.values()))"
   ]
  },
  {
   "cell_type": "code",
   "execution_count": null,
   "metadata": {},
   "outputs": [],
   "source": [
    "sorted_cdr3_len = dict(sorted(cdr3_len_count.items(), key = lambda x: x[1], reverse = True))"
   ]
  },
  {
   "cell_type": "code",
   "execution_count": null,
   "metadata": {},
   "outputs": [],
   "source": [
    "sum(list(sorted_cdr3_len.values())[:9])"
   ]
  },
  {
   "cell_type": "code",
   "execution_count": null,
   "metadata": {},
   "outputs": [],
   "source": [
    "list(sorted_cdr3_len.keys())[:9]"
   ]
  },
  {
   "cell_type": "code",
   "execution_count": null,
   "metadata": {},
   "outputs": [],
   "source": [
    "print(pd.DataFrame(data={'len of cdr3': sorted_cdr3_len.keys(), 'fraction (%)': [f'{i*100:.3}'for i in sorted_cdr3_len.values()]}).to_latex(index=False))"
   ]
  },
  {
   "cell_type": "code",
   "execution_count": null,
   "metadata": {},
   "outputs": [],
   "source": [
    "sorted_cdr3_len = {int(k):v for k,v in sorted_cdr3_len.items()}\n",
    "sorted_cdr3_len= dict(sorted(sorted_cdr3_len.items(), reverse=False))"
   ]
  },
  {
   "cell_type": "code",
   "execution_count": null,
   "metadata": {},
   "outputs": [],
   "source": [
    "fig = plt.figure(figsize = (10,5))\n",
    "plt.bar(sorted_cdr3_len.keys(), sorted_cdr3_len.values())\n",
    "plt.title(\"Lengths of CDR3 sequences\")\n",
    "plt.xlabel(\"Length of CDR3 seq\")\n",
    "plt.ylabel(\"Fraction of the train set\")\n",
    "plt.show\n",
    "plt.savefig(os.path.join(\"figures\",\"CDR3_train.png\"))"
   ]
  },
  {
   "cell_type": "markdown",
   "metadata": {},
   "source": [
    "### Specific V gene deletions "
   ]
  },
  {
   "cell_type": "code",
   "execution_count": null,
   "metadata": {},
   "outputs": [],
   "source": [
    "v_genes_deletions = train_data.iloc[:,['v', 'v_deletions']]"
   ]
  }
 ],
 "metadata": {
  "kernelspec": {
   "display_name": "Python (module anaconda)",
   "language": "python",
   "name": "python3"
  },
  "language_info": {
   "codemirror_mode": {
    "name": "ipython",
    "version": 3
   },
   "file_extension": ".py",
   "mimetype": "text/x-python",
   "name": "python",
   "nbconvert_exporter": "python",
   "pygments_lexer": "ipython3",
   "version": "3.10.8"
  }
 },
 "nbformat": 4,
 "nbformat_minor": 5
}
