{
 "cells": [
  {
   "cell_type": "code",
   "execution_count": 1,
   "metadata": {},
   "outputs": [],
   "source": [
    "import torch\n",
    "import torch.nn as nn\n",
    "import numpy as np\n",
    "from transformers import BertModel, AutoTokenizer, BertConfig\n",
    "import matplotlib.pyplot as plt\n",
    "import pickle \n",
    "from process_data_new import process_data"
   ]
  },
  {
   "cell_type": "code",
   "execution_count": 2,
   "metadata": {},
   "outputs": [],
   "source": [
    "torch.set_default_dtype(torch.float64)"
   ]
  },
  {
   "cell_type": "code",
   "execution_count": null,
   "metadata": {},
   "outputs": [],
   "source": [
    "V_data, CDR3_data, J_data, tgt_data = process_data()"
   ]
  },
  {
   "cell_type": "markdown",
   "metadata": {},
   "source": [
    "If you have the data saved as an pkl object use following cell"
   ]
  },
  {
   "cell_type": "code",
   "execution_count": 3,
   "metadata": {},
   "outputs": [],
   "source": [
    "with open('train_set_.pkl', 'rb') as f:\n",
    "    V_data, CDR3_data, J_data, tgt_data = pickle.load(f)\n",
    "f.close()"
   ]
  },
  {
   "cell_type": "code",
   "execution_count": 4,
   "metadata": {},
   "outputs": [],
   "source": [
    "base_model = BertModel.from_pretrained('Rostlab/prot_bert_bfd')\n",
    "tokenizer = AutoTokenizer.from_pretrained('Rostlab/prot_bert_bfd', add_special_tokens=False)\n",
    "config = BertConfig.from_pretrained('Rostlab/prot_bert_bfd')"
   ]
  },
  {
   "cell_type": "code",
   "execution_count": 5,
   "metadata": {},
   "outputs": [
    {
     "name": "stdout",
     "output_type": "stream",
     "text": [
      "BertConfig {\n",
      "  \"architectures\": [\n",
      "    \"BertForMaskedLM\"\n",
      "  ],\n",
      "  \"attention_probs_dropout_prob\": 0.0,\n",
      "  \"classifier_dropout\": null,\n",
      "  \"hidden_act\": \"gelu\",\n",
      "  \"hidden_dropout_prob\": 0.0,\n",
      "  \"hidden_size\": 1024,\n",
      "  \"initializer_range\": 0.02,\n",
      "  \"intermediate_size\": 4096,\n",
      "  \"layer_norm_eps\": 1e-12,\n",
      "  \"max_position_embeddings\": 40000,\n",
      "  \"model_type\": \"bert\",\n",
      "  \"num_attention_heads\": 16,\n",
      "  \"num_hidden_layers\": 30,\n",
      "  \"pad_token_id\": 0,\n",
      "  \"position_embedding_type\": \"absolute\",\n",
      "  \"transformers_version\": \"4.31.0\",\n",
      "  \"type_vocab_size\": 2,\n",
      "  \"use_cache\": true,\n",
      "  \"vocab_size\": 30\n",
      "}\n",
      "\n"
     ]
    }
   ],
   "source": [
    "print(config)"
   ]
  },
  {
   "cell_type": "code",
   "execution_count": 6,
   "metadata": {},
   "outputs": [
    {
     "name": "stdout",
     "output_type": "stream",
     "text": [
      "BertModel(\n",
      "  (embeddings): BertEmbeddings(\n",
      "    (word_embeddings): Embedding(30, 1024, padding_idx=0)\n",
      "    (position_embeddings): Embedding(40000, 1024)\n",
      "    (token_type_embeddings): Embedding(2, 1024)\n",
      "    (LayerNorm): LayerNorm((1024,), eps=1e-12, elementwise_affine=True)\n",
      "    (dropout): Dropout(p=0.0, inplace=False)\n",
      "  )\n",
      "  (encoder): BertEncoder(\n",
      "    (layer): ModuleList(\n",
      "      (0-29): 30 x BertLayer(\n",
      "        (attention): BertAttention(\n",
      "          (self): BertSelfAttention(\n",
      "            (query): Linear(in_features=1024, out_features=1024, bias=True)\n",
      "            (key): Linear(in_features=1024, out_features=1024, bias=True)\n",
      "            (value): Linear(in_features=1024, out_features=1024, bias=True)\n",
      "            (dropout): Dropout(p=0.0, inplace=False)\n",
      "          )\n",
      "          (output): BertSelfOutput(\n",
      "            (dense): Linear(in_features=1024, out_features=1024, bias=True)\n",
      "            (LayerNorm): LayerNorm((1024,), eps=1e-12, elementwise_affine=True)\n",
      "            (dropout): Dropout(p=0.0, inplace=False)\n",
      "          )\n",
      "        )\n",
      "        (intermediate): BertIntermediate(\n",
      "          (dense): Linear(in_features=1024, out_features=4096, bias=True)\n",
      "          (intermediate_act_fn): GELUActivation()\n",
      "        )\n",
      "        (output): BertOutput(\n",
      "          (dense): Linear(in_features=4096, out_features=1024, bias=True)\n",
      "          (LayerNorm): LayerNorm((1024,), eps=1e-12, elementwise_affine=True)\n",
      "          (dropout): Dropout(p=0.0, inplace=False)\n",
      "        )\n",
      "      )\n",
      "    )\n",
      "  )\n",
      "  (pooler): BertPooler(\n",
      "    (dense): Linear(in_features=1024, out_features=1024, bias=True)\n",
      "    (activation): Tanh()\n",
      "  )\n",
      ")\n"
     ]
    }
   ],
   "source": [
    "print(base_model)"
   ]
  },
  {
   "cell_type": "code",
   "execution_count": 7,
   "metadata": {},
   "outputs": [
    {
     "name": "stdout",
     "output_type": "stream",
     "text": [
      "torch.Size([1024, 1024])\n"
     ]
    }
   ],
   "source": [
    "for i in base_model.encoder.layer[0].attention.self.parameters():\n",
    "    print(i.shape)\n",
    "    break"
   ]
  },
  {
   "cell_type": "markdown",
   "metadata": {},
   "source": [
    "# Copy weights to own model"
   ]
  },
  {
   "cell_type": "markdown",
   "metadata": {},
   "source": [
    "https://stackoverflow.com/questions/70814490/uploading-models-with-custom-forward-functions-to-the-huggingface-model-hub\n",
    "\n",
    "https://stackoverflow.com/questions/67689219/copy-one-layers-weights-from-one-huggingface-bert-model-to-another\n",
    "\n",
    "https://github.com/huggingface/transformers/blob/main/src/transformers/models/bert/modeling_bert.py\n",
    "\n",
    "https://discuss.pytorch.org/t/copy-weights-from-only-one-layer-of-one-model-to-another-model-with-different-structure/153419"
   ]
  },
  {
   "cell_type": "code",
   "execution_count": 8,
   "metadata": {},
   "outputs": [],
   "source": [
    "import transformers \n",
    "import torch.nn as nn\n",
    "\n",
    "class CustomprotBERT(transformers.PreTrainedModel):\n",
    "    def __init__(self, protBERT, CDR3_max_length):\n",
    "        super(CustomprotBERT, self).__init__(config=BertConfig.from_pretrained('Rostlab/prot_bert_bfd'))\n",
    "        \n",
    "        self.config = protBERT.config\n",
    "        self.CDR3_max_length = CDR3_max_length\n",
    "        self.embeddings = protBERT.embeddings\n",
    "        self.encoder= nn.TransformerEncoder(encoder_layer= nn.TransformerEncoderLayer(  d_model=self.config.hidden_size,\n",
    "                                                                                        nhead=self.config.num_attention_heads,\n",
    "                                                                                        dim_feedforward=self.config.intermediate_size,\n",
    "                                                                                        dropout=self.config.hidden_dropout_prob,\n",
    "                                                                                        activation=self.config.hidden_act,\n",
    "                                                                                        layer_norm_eps=self.config.layer_norm_eps,\n",
    "                                                                                        batch_first=True),\n",
    "                                          num_layers = self.config.num_hidden_layers)\n",
    "        self.fc = nn.Linear(config.hidden_size, self.config.vocab_size)\n",
    "\n",
    "        self.initialize_weights(protBERT)\n",
    "\n",
    "    def forward(self, src, length, pad_mask=None,  mask=None):\n",
    "        \n",
    "        embed = self.embeddings(src)\n",
    "        mask = mask.repeat((self.config.num_attention_heads,1,1)) if mask != None else mask\n",
    "        hidden_state = self.encoder(src=embed,\n",
    "                                    mask=mask,\n",
    "                                    src_key_padding_mask =pad_mask)\n",
    "        \n",
    "        #v_idx = [i.shape[-1] -1 for i in v] # Indeces of the last value of the v gene\n",
    "        #cdr3_idx = [i + self.CDR3_max_length for i in v_idx] # Indeces of the last residue of the CDR3\n",
    "        \n",
    "        cdr3_hidden_state = torch.zeros((hidden_state.shape[0], self.CDR3_max_length, hidden_state.shape[-1]))\n",
    "        \n",
    "        for i in range(hidden_state.shape[0]):\n",
    "            cdr3_len = length[i,1]\n",
    "            pad_len = self.CDR3_max_length -cdr3_len\n",
    "            cdr3 = hidden_state[i, length[i,0]-1:length[i,0]-1+ length[i,1],:]\n",
    "            pad_seq = torch.full((pad_len, hidden_state.shape[-1]), 0).to(device)\n",
    "            cdr3 = torch.cat((cdr3, pad_seq), axis=0)\n",
    "            cdr3_hidden_state[i,:,:] = cdr3 #1024 dim presentation of [V_v, CDR_1, ..., CDR_{N-1}]\n",
    "        \n",
    "        cdr3_logits = self.fc(cdr3_hidden_state)\n",
    "        \n",
    "        return cdr3_logits   \n",
    "\n",
    "    \n",
    "    def initialize_weights(self, protBERT):\n",
    "\n",
    "            #this implementation works so that theresulting tensor is same as using \n",
    "            #Huggingface's model on the fourth decimal. Tensors are same in fifth decimal over 99.99%\n",
    "\n",
    "            protBERT_encoder_weights = protBERT.encoder.state_dict()\n",
    "            with torch.no_grad():\n",
    "                for i in range(30):\n",
    "                    weights = {\n",
    "                        'att_weight': torch.cat((protBERT_encoder_weights[f'layer.{i}.attention.self.query.weight'],\n",
    "                                                    protBERT_encoder_weights[f'layer.{i}.attention.self.key.weight'],\n",
    "                                                    protBERT_encoder_weights[f'layer.{i}.attention.self.value.weight']),\n",
    "                                                    axis=0),\n",
    "                        'att_bias': torch.cat((protBERT_encoder_weights[f'layer.{i}.attention.self.query.bias'],\n",
    "                                                    protBERT_encoder_weights[f'layer.{i}.attention.self.key.bias'],\n",
    "                                                    protBERT_encoder_weights[f'layer.{i}.attention.self.value.bias']),\n",
    "                                                    axis=0),\n",
    "                        'att_out_weight': protBERT_encoder_weights[f'layer.{i}.attention.output.dense.weight'],\n",
    "                        'att_out_bias': protBERT_encoder_weights[f'layer.{i}.attention.output.dense.bias'],\n",
    "                        'interm_weight': protBERT_encoder_weights[f'layer.{i}.intermediate.dense.weight'],\n",
    "                        'interm_bias': protBERT_encoder_weights[f'layer.{i}.intermediate.dense.bias'],\n",
    "                        'out_weight': protBERT_encoder_weights[f'layer.{i}.output.dense.weight'],\n",
    "                        'out_bias': protBERT_encoder_weights[f'layer.{i}.output.dense.bias'],\n",
    "                        'norm1_weight': protBERT_encoder_weights[f'layer.{i}.attention.output.LayerNorm.weight'],\n",
    "                        'norm1_bias': protBERT_encoder_weights[f'layer.{i}.attention.output.LayerNorm.bias'],\n",
    "                        'norm2_weight': protBERT_encoder_weights[f'layer.{i}.output.LayerNorm.weight'],\n",
    "                        'norm2_bias': protBERT_encoder_weights[f'layer.{i}.output.LayerNorm.bias'],\n",
    "                    }\n",
    "\n",
    "                    #print(weights['out_weight'].dtype)\n",
    "                    #print(self.encoder.layers[i].self_attn.in_proj_weight.dtype)\n",
    "\n",
    "                    self.encoder.layers[i].self_attn.in_proj_weight.copy_(weights['att_weight'])\n",
    "                    self.encoder.layers[i].self_attn.in_proj_bias.copy_(weights['att_bias'])\n",
    "                    self.encoder.layers[i].self_attn.out_proj.weight.copy_(weights['att_out_weight'])\n",
    "                    self.encoder.layers[i].self_attn.out_proj.bias.copy_(weights['att_out_bias'])\n",
    "                    self.encoder.layers[i].linear1.weight.copy_(weights['interm_weight'])\n",
    "                    self.encoder.layers[i].linear1.bias.copy_(weights['interm_bias'])\n",
    "                    self.encoder.layers[i].linear2.weight.copy_(weights['out_weight'])\n",
    "                    self.encoder.layers[i].linear2.bias.copy_(weights['out_bias'])\n",
    "                    self.encoder.layers[i].norm1.weight.copy_(weights['norm1_weight'])\n",
    "                    self.encoder.layers[i].norm1.bias.copy_(weights['norm1_bias'])\n",
    "                    self.encoder.layers[i].norm2.weight.copy_(weights['norm2_weight'])\n",
    "                    self.encoder.layers[i].norm2.bias.copy_(weights['norm2_bias'])"
   ]
  },
  {
   "cell_type": "code",
   "execution_count": 9,
   "metadata": {},
   "outputs": [
    {
     "data": {
      "text/plain": [
       "CustomprotBERT(\n",
       "  (embeddings): BertEmbeddings(\n",
       "    (word_embeddings): Embedding(30, 1024, padding_idx=0)\n",
       "    (position_embeddings): Embedding(40000, 1024)\n",
       "    (token_type_embeddings): Embedding(2, 1024)\n",
       "    (LayerNorm): LayerNorm((1024,), eps=1e-12, elementwise_affine=True)\n",
       "    (dropout): Dropout(p=0.0, inplace=False)\n",
       "  )\n",
       "  (encoder): TransformerEncoder(\n",
       "    (layers): ModuleList(\n",
       "      (0-29): 30 x TransformerEncoderLayer(\n",
       "        (self_attn): MultiheadAttention(\n",
       "          (out_proj): NonDynamicallyQuantizableLinear(in_features=1024, out_features=1024, bias=True)\n",
       "        )\n",
       "        (linear1): Linear(in_features=1024, out_features=4096, bias=True)\n",
       "        (dropout): Dropout(p=0.0, inplace=False)\n",
       "        (linear2): Linear(in_features=4096, out_features=1024, bias=True)\n",
       "        (norm1): LayerNorm((1024,), eps=1e-12, elementwise_affine=True)\n",
       "        (norm2): LayerNorm((1024,), eps=1e-12, elementwise_affine=True)\n",
       "        (dropout1): Dropout(p=0.0, inplace=False)\n",
       "        (dropout2): Dropout(p=0.0, inplace=False)\n",
       "      )\n",
       "    )\n",
       "  )\n",
       "  (fc): Linear(in_features=1024, out_features=30, bias=True)\n",
       ")"
      ]
     },
     "execution_count": 9,
     "metadata": {},
     "output_type": "execute_result"
    }
   ],
   "source": [
    "CustomprotBERT(base_model, 18)"
   ]
  },
  {
   "cell_type": "code",
   "execution_count": 5,
   "metadata": {},
   "outputs": [],
   "source": [
    "import torch\n",
    "\n",
    "class CDR3Dataset(torch.utils.data.Dataset):\n",
    "    def __init__(self, V, CDR3, J, tgt, tokenizer):\n",
    "\n",
    "        self.tokenizer = tokenizer\n",
    "        self.V = V\n",
    "        self.CDR3 = CDR3\n",
    "        self.J = J\n",
    "        self.labels = tgt\n",
    "        \n",
    "        if len(tgt) == 1:\n",
    "            self.max_length = len(tgt[0].split()) + 3\n",
    "            self.CDR3_max_length = len(CDR3[0].split())\n",
    "            # self.V_max_length = len(V[0].split())\n",
    "            # self.J_max_length = len(J[0].split())\n",
    "        else:\n",
    "            length = 0\n",
    "            V_length = 0\n",
    "            CDR3_length = 0\n",
    "            J_length = 0\n",
    "            for i in range(len(tgt)):\n",
    "                length = max(length, len(tgt[i].split())+3)\n",
    "                CDR3_length = max(CDR3_length, len(CDR3[i].split()))\n",
    "                # V_length = max(V_length, len(V[i].split()))\n",
    "                # J_length = max(J_length, len(J[i].split()))\n",
    "\n",
    "            self.max_length = length\n",
    "            self.CDR3_max_length = CDR3_length\n",
    "           # self.V_max_length = V_length +1 #[CLS]\n",
    "           # self.J_max_length =  J_length + 2 #[SEP] and one [PAD]\n",
    "           # print(self.CDR3_max_length)\n",
    " \n",
    "    def __len__(self):\n",
    "        return len(self.labels)\n",
    "\n",
    "    def __getitem__(self, idx):\n",
    "        tokenized = self.tokenizer(self.labels[idx], padding= 'max_length', max_length= self.max_length, return_tensors='pt', return_attention_mask=True)\n",
    "        padded_tokenized_seq = tokenized['input_ids']\n",
    "        pad_mask = ~tokenized['attention_mask'].to(torch.bool)\n",
    "        \n",
    "        \n",
    "        v_len = len(self.V[idx].replace(\" \", \"\")) + 1 # Tokenizer adds [CLS] token at the beginning of the sequence\n",
    "        cdr_len = len(self.CDR3[idx].replace(\" \", \"\"))\n",
    "        j_len = padded_tokenized_seq.shape[-1]- v_len- cdr_len\n",
    "        lengths = torch.tensor([v_len, cdr_len])\n",
    "        \n",
    "        mask = self.subsequent_mask(v_len, cdr_len, j_len)\n",
    "        \n",
    "        CDR3_label = torch.cat((padded_tokenized_seq[:, v_len: v_len+cdr_len], torch.full((1, self.CDR3_max_length - len(self.CDR3[idx].split())), -100)), dim=-1)\n",
    "        \n",
    "        item = {'seq': padded_tokenized_seq.squeeze(0),\n",
    "                'length': lengths,\n",
    "                'mask': mask,\n",
    "                'pad_mask': pad_mask.squeeze(0),\n",
    "                'CDR3_label': CDR3_label.squeeze(0)}\n",
    "        \n",
    "        return item\n",
    "    \n",
    "    def subsequent_mask(self, v, cdr3, j):\n",
    "\n",
    "        cdr3_len = cdr3\n",
    "        v_len = v\n",
    "        j_len = j\n",
    "\n",
    "        v_block1 = np.zeros(shape=(v_len, v_len))\n",
    "        v_block2 = np.zeros(shape=(cdr3_len, v_len))\n",
    "        v_block3 = np.zeros(shape=(j_len, v_len))\n",
    "\n",
    "        j_block1 = np.zeros(shape=(v_len, j_len))\n",
    "        j_block2 = np.zeros(shape=(cdr3_len, j_len))\n",
    "        j_block3 = np.zeros(shape=(j_len, j_len))\n",
    "\n",
    "        cdr3_block1 = np.full(shape=(v_len, cdr3_len), fill_value=np.NINF)\n",
    "        cdr3_block2 = np.triu(np.full((cdr3_len, cdr3_len), np.NINF), k = 0)\n",
    "        cdr3_block3 = np.full(shape=(j_len, cdr3_len), fill_value=np.NINF)\n",
    "\n",
    "        row1 = np.concatenate((v_block1, cdr3_block1, j_block1), axis=1)\n",
    "        row2 = np.concatenate((v_block2, cdr3_block2, j_block2), axis=1)\n",
    "        row3 = np.concatenate((v_block3, cdr3_block3, j_block3), axis=1)\n",
    "\n",
    "        attention_mask = np.concatenate((row1, row2, row3), axis =0)\n",
    "\n",
    "        return torch.from_numpy(attention_mask) != 0"
   ]
  },
  {
   "cell_type": "code",
   "execution_count": 6,
   "metadata": {},
   "outputs": [],
   "source": [
    "from torch.utils.data import DataLoader\n",
    "from torch.optim import AdamW\n",
    "from torch.nn import CrossEntropyLoss\n",
    "from tqdm import tqdm"
   ]
  },
  {
   "cell_type": "code",
   "execution_count": 7,
   "metadata": {},
   "outputs": [],
   "source": [
    "device = torch.device(\"cuda\") if torch.cuda.is_available() else torch.device(\"cpu\")\n",
    "train_set = CDR3Dataset(V_data[0:100], CDR3_data[0:100], J_data[0:100], tgt_data[0:100], tokenizer)\n",
    "train_loader = DataLoader(train_set, shuffle=False, batch_size=8)"
   ]
  },
  {
   "cell_type": "code",
   "execution_count": 8,
   "metadata": {},
   "outputs": [
    {
     "data": {
      "image/png": "[encoded data removed]",
      "text/plain": [
       "<Figure size 1500x1500 with 1 Axes>"
      ]
     },
     "metadata": {},
     "output_type": "display_data"
    },
    {
     "data": {
      "image/png": "[encoded data removed]",
      "text/plain": [
       "<Figure size 1000x1000 with 1 Axes>"
      ]
     },
     "metadata": {},
     "output_type": "display_data"
    },
    {
     "data": {
      "image/png": "[encoded data removed]",
      "text/plain": [
       "<Figure size 1000x1000 with 1 Axes>"
      ]
     },
     "metadata": {},
     "output_type": "display_data"
    }
   ],
   "source": [
    "for batch in train_loader:\n",
    "    for k, v in batch.items():\n",
    "        if k =='mask':\n",
    "            plt.figure(figsize=(15,15))\n",
    "            plt.imshow(v[0])\n",
    "            plt.savefig(\"mask.png\")\n",
    "        if k== 'pad_mask':\n",
    "            plt.figure(figsize=(10,10))\n",
    "            plt.imshow(v)\n",
    "            \n",
    "        if k=='CDR3_label':\n",
    "            plt.figure(figsize=(10,10))\n",
    "            plt.imshow(v)\n",
    "    break"
   ]
  },
  {
   "cell_type": "code",
   "execution_count": null,
   "metadata": {},
   "outputs": [],
   "source": []
  },
  {
   "cell_type": "markdown",
   "metadata": {},
   "source": [
    "# Train loop"
   ]
  },
  {
   "cell_type": "code",
   "execution_count": 37,
   "metadata": {},
   "outputs": [],
   "source": [
    "device = torch.device(\"cuda\") if torch.cuda.is_available() else torch.device(\"cpu\")\n",
    "model = CustomprotBERT(base_model, train_set.CDR3_max_length).to(device)\n",
    "EPOCHS = 10\n",
    "optimizer = torch.optim.AdamW(model.parameters(), lr= 1e-6)\n",
    "criterion = torch.nn.CrossEntropyLoss().to(device)"
   ]
  },
  {
   "cell_type": "code",
   "execution_count": 41,
   "metadata": {},
   "outputs": [
    {
     "name": "stderr",
     "output_type": "stream",
     "text": [
      "epoch:1/10:   0%|          | 0/64273 [00:05<?, ?it/s]\n"
     ]
    },
    {
     "ename": "KeyboardInterrupt",
     "evalue": "",
     "output_type": "error",
     "traceback": [
      "\u001b[0;31m---------------------------------------------------------------------------\u001b[0m",
      "\u001b[0;31mKeyboardInterrupt\u001b[0m                         Traceback (most recent call last)",
      "Cell \u001b[0;32mIn[41], line 13\u001b[0m\n\u001b[1;32m      6\u001b[0m batch \u001b[38;5;241m=\u001b[39m {k: v\u001b[38;5;241m.\u001b[39mto(device) \u001b[38;5;28;01mfor\u001b[39;00m k, v \u001b[38;5;129;01min\u001b[39;00m batch\u001b[38;5;241m.\u001b[39mitems()}\n\u001b[1;32m      8\u001b[0m \u001b[38;5;250m\u001b[39m\u001b[38;5;124;03m'''\u001b[39;00m\n\u001b[1;32m      9\u001b[0m \u001b[38;5;124;03mlength = batch['length']\u001b[39;00m\n\u001b[1;32m     10\u001b[0m \u001b[38;5;124;03mprint(tokenizer.decode(batch['seq'][1, length[1,0]-1:length[1,0]-1+ length[1,1]]))\u001b[39;00m\n\u001b[1;32m     11\u001b[0m \u001b[38;5;124;03mbreak\u001b[39;00m\n\u001b[1;32m     12\u001b[0m \u001b[38;5;124;03m'''\u001b[39;00m\n\u001b[0;32m---> 13\u001b[0m logits \u001b[38;5;241m=\u001b[39m \u001b[43mmodel\u001b[49m\u001b[43m(\u001b[49m\u001b[43msrc\u001b[49m\u001b[43m \u001b[49m\u001b[38;5;241;43m=\u001b[39;49m\u001b[43m \u001b[49m\u001b[43mbatch\u001b[49m\u001b[43m[\u001b[49m\u001b[38;5;124;43m'\u001b[39;49m\u001b[38;5;124;43mseq\u001b[39;49m\u001b[38;5;124;43m'\u001b[39;49m\u001b[43m]\u001b[49m\u001b[43m,\u001b[49m\n\u001b[1;32m     14\u001b[0m \u001b[43m               \u001b[49m\u001b[43mlength\u001b[49m\u001b[43m \u001b[49m\u001b[38;5;241;43m=\u001b[39;49m\u001b[43m \u001b[49m\u001b[43mbatch\u001b[49m\u001b[43m[\u001b[49m\u001b[38;5;124;43m'\u001b[39;49m\u001b[38;5;124;43mlength\u001b[39;49m\u001b[38;5;124;43m'\u001b[39;49m\u001b[43m]\u001b[49m\u001b[43m,\u001b[49m\n\u001b[1;32m     15\u001b[0m \u001b[43m               \u001b[49m\u001b[43mpad_mask\u001b[49m\u001b[43m \u001b[49m\u001b[38;5;241;43m=\u001b[39;49m\u001b[43m \u001b[49m\u001b[43mbatch\u001b[49m\u001b[43m[\u001b[49m\u001b[38;5;124;43m'\u001b[39;49m\u001b[38;5;124;43mpad_mask\u001b[39;49m\u001b[38;5;124;43m'\u001b[39;49m\u001b[43m]\u001b[49m\u001b[43m,\u001b[49m\n\u001b[1;32m     16\u001b[0m \u001b[43m               \u001b[49m\u001b[43mmask\u001b[49m\u001b[43m \u001b[49m\u001b[38;5;241;43m=\u001b[39;49m\u001b[43m \u001b[49m\u001b[43mbatch\u001b[49m\u001b[43m[\u001b[49m\u001b[38;5;124;43m'\u001b[39;49m\u001b[38;5;124;43mmask\u001b[39;49m\u001b[38;5;124;43m'\u001b[39;49m\u001b[43m]\u001b[49m\u001b[43m)\u001b[49m\n\u001b[1;32m     19\u001b[0m loss \u001b[38;5;241m=\u001b[39m criterion(logits\u001b[38;5;241m.\u001b[39mtranspose(\u001b[38;5;241m1\u001b[39m,\u001b[38;5;241m2\u001b[39m), batch[\u001b[38;5;124m'\u001b[39m\u001b[38;5;124mCDR3_label\u001b[39m\u001b[38;5;124m'\u001b[39m])\n\u001b[1;32m     21\u001b[0m loss\u001b[38;5;241m.\u001b[39mbackward()\n",
      "File \u001b[0;32m/share/apps/anaconda-ci/fgci-centos7-anaconda/software/anaconda/2023-03/6a700484/lib/python3.10/site-packages/torch/nn/modules/module.py:1501\u001b[0m, in \u001b[0;36mModule._call_impl\u001b[0;34m(self, *args, **kwargs)\u001b[0m\n\u001b[1;32m   1496\u001b[0m \u001b[38;5;66;03m# If we don't have any hooks, we want to skip the rest of the logic in\u001b[39;00m\n\u001b[1;32m   1497\u001b[0m \u001b[38;5;66;03m# this function, and just call forward.\u001b[39;00m\n\u001b[1;32m   1498\u001b[0m \u001b[38;5;28;01mif\u001b[39;00m \u001b[38;5;129;01mnot\u001b[39;00m (\u001b[38;5;28mself\u001b[39m\u001b[38;5;241m.\u001b[39m_backward_hooks \u001b[38;5;129;01mor\u001b[39;00m \u001b[38;5;28mself\u001b[39m\u001b[38;5;241m.\u001b[39m_backward_pre_hooks \u001b[38;5;129;01mor\u001b[39;00m \u001b[38;5;28mself\u001b[39m\u001b[38;5;241m.\u001b[39m_forward_hooks \u001b[38;5;129;01mor\u001b[39;00m \u001b[38;5;28mself\u001b[39m\u001b[38;5;241m.\u001b[39m_forward_pre_hooks\n\u001b[1;32m   1499\u001b[0m         \u001b[38;5;129;01mor\u001b[39;00m _global_backward_pre_hooks \u001b[38;5;129;01mor\u001b[39;00m _global_backward_hooks\n\u001b[1;32m   1500\u001b[0m         \u001b[38;5;129;01mor\u001b[39;00m _global_forward_hooks \u001b[38;5;129;01mor\u001b[39;00m _global_forward_pre_hooks):\n\u001b[0;32m-> 1501\u001b[0m     \u001b[38;5;28;01mreturn\u001b[39;00m \u001b[43mforward_call\u001b[49m\u001b[43m(\u001b[49m\u001b[38;5;241;43m*\u001b[39;49m\u001b[43margs\u001b[49m\u001b[43m,\u001b[49m\u001b[43m \u001b[49m\u001b[38;5;241;43m*\u001b[39;49m\u001b[38;5;241;43m*\u001b[39;49m\u001b[43mkwargs\u001b[49m\u001b[43m)\u001b[49m\n\u001b[1;32m   1502\u001b[0m \u001b[38;5;66;03m# Do not call functions when jit is used\u001b[39;00m\n\u001b[1;32m   1503\u001b[0m full_backward_hooks, non_full_backward_hooks \u001b[38;5;241m=\u001b[39m [], []\n",
      "Cell \u001b[0;32mIn[8], line 27\u001b[0m, in \u001b[0;36mCustomprotBERT.forward\u001b[0;34m(self, src, length, pad_mask, mask)\u001b[0m\n\u001b[1;32m     25\u001b[0m embed \u001b[38;5;241m=\u001b[39m \u001b[38;5;28mself\u001b[39m\u001b[38;5;241m.\u001b[39membeddings(src)\n\u001b[1;32m     26\u001b[0m mask \u001b[38;5;241m=\u001b[39m mask\u001b[38;5;241m.\u001b[39mrepeat((\u001b[38;5;28mself\u001b[39m\u001b[38;5;241m.\u001b[39mconfig\u001b[38;5;241m.\u001b[39mnum_attention_heads,\u001b[38;5;241m1\u001b[39m,\u001b[38;5;241m1\u001b[39m)) \u001b[38;5;28;01mif\u001b[39;00m mask \u001b[38;5;241m!=\u001b[39m \u001b[38;5;28;01mNone\u001b[39;00m \u001b[38;5;28;01melse\u001b[39;00m mask\n\u001b[0;32m---> 27\u001b[0m hidden_state \u001b[38;5;241m=\u001b[39m \u001b[38;5;28;43mself\u001b[39;49m\u001b[38;5;241;43m.\u001b[39;49m\u001b[43mencoder\u001b[49m\u001b[43m(\u001b[49m\u001b[43msrc\u001b[49m\u001b[38;5;241;43m=\u001b[39;49m\u001b[43membed\u001b[49m\u001b[43m,\u001b[49m\n\u001b[1;32m     28\u001b[0m \u001b[43m                            \u001b[49m\u001b[43mmask\u001b[49m\u001b[38;5;241;43m=\u001b[39;49m\u001b[43mmask\u001b[49m\u001b[43m,\u001b[49m\n\u001b[1;32m     29\u001b[0m \u001b[43m                            \u001b[49m\u001b[43msrc_key_padding_mask\u001b[49m\u001b[43m \u001b[49m\u001b[38;5;241;43m=\u001b[39;49m\u001b[43mpad_mask\u001b[49m\u001b[43m)\u001b[49m\n\u001b[1;32m     31\u001b[0m \u001b[38;5;66;03m#v_idx = [i.shape[-1] -1 for i in v] # Indeces of the last value of the v gene\u001b[39;00m\n\u001b[1;32m     32\u001b[0m \u001b[38;5;66;03m#cdr3_idx = [i + self.CDR3_max_length for i in v_idx] # Indeces of the last residue of the CDR3\u001b[39;00m\n\u001b[1;32m     34\u001b[0m cdr3_hidden_state \u001b[38;5;241m=\u001b[39m torch\u001b[38;5;241m.\u001b[39mzeros((hidden_state\u001b[38;5;241m.\u001b[39mshape[\u001b[38;5;241m0\u001b[39m], \u001b[38;5;28mself\u001b[39m\u001b[38;5;241m.\u001b[39mCDR3_max_length, hidden_state\u001b[38;5;241m.\u001b[39mshape[\u001b[38;5;241m-\u001b[39m\u001b[38;5;241m1\u001b[39m]))\n",
      "File \u001b[0;32m/share/apps/anaconda-ci/fgci-centos7-anaconda/software/anaconda/2023-03/6a700484/lib/python3.10/site-packages/torch/nn/modules/module.py:1501\u001b[0m, in \u001b[0;36mModule._call_impl\u001b[0;34m(self, *args, **kwargs)\u001b[0m\n\u001b[1;32m   1496\u001b[0m \u001b[38;5;66;03m# If we don't have any hooks, we want to skip the rest of the logic in\u001b[39;00m\n\u001b[1;32m   1497\u001b[0m \u001b[38;5;66;03m# this function, and just call forward.\u001b[39;00m\n\u001b[1;32m   1498\u001b[0m \u001b[38;5;28;01mif\u001b[39;00m \u001b[38;5;129;01mnot\u001b[39;00m (\u001b[38;5;28mself\u001b[39m\u001b[38;5;241m.\u001b[39m_backward_hooks \u001b[38;5;129;01mor\u001b[39;00m \u001b[38;5;28mself\u001b[39m\u001b[38;5;241m.\u001b[39m_backward_pre_hooks \u001b[38;5;129;01mor\u001b[39;00m \u001b[38;5;28mself\u001b[39m\u001b[38;5;241m.\u001b[39m_forward_hooks \u001b[38;5;129;01mor\u001b[39;00m \u001b[38;5;28mself\u001b[39m\u001b[38;5;241m.\u001b[39m_forward_pre_hooks\n\u001b[1;32m   1499\u001b[0m         \u001b[38;5;129;01mor\u001b[39;00m _global_backward_pre_hooks \u001b[38;5;129;01mor\u001b[39;00m _global_backward_hooks\n\u001b[1;32m   1500\u001b[0m         \u001b[38;5;129;01mor\u001b[39;00m _global_forward_hooks \u001b[38;5;129;01mor\u001b[39;00m _global_forward_pre_hooks):\n\u001b[0;32m-> 1501\u001b[0m     \u001b[38;5;28;01mreturn\u001b[39;00m \u001b[43mforward_call\u001b[49m\u001b[43m(\u001b[49m\u001b[38;5;241;43m*\u001b[39;49m\u001b[43margs\u001b[49m\u001b[43m,\u001b[49m\u001b[43m \u001b[49m\u001b[38;5;241;43m*\u001b[39;49m\u001b[38;5;241;43m*\u001b[39;49m\u001b[43mkwargs\u001b[49m\u001b[43m)\u001b[49m\n\u001b[1;32m   1502\u001b[0m \u001b[38;5;66;03m# Do not call functions when jit is used\u001b[39;00m\n\u001b[1;32m   1503\u001b[0m full_backward_hooks, non_full_backward_hooks \u001b[38;5;241m=\u001b[39m [], []\n",
      "File \u001b[0;32m/share/apps/anaconda-ci/fgci-centos7-anaconda/software/anaconda/2023-03/6a700484/lib/python3.10/site-packages/torch/nn/modules/transformer.py:315\u001b[0m, in \u001b[0;36mTransformerEncoder.forward\u001b[0;34m(self, src, mask, src_key_padding_mask, is_causal)\u001b[0m\n\u001b[1;32m    312\u001b[0m is_causal \u001b[38;5;241m=\u001b[39m make_causal\n\u001b[1;32m    314\u001b[0m \u001b[38;5;28;01mfor\u001b[39;00m mod \u001b[38;5;129;01min\u001b[39;00m \u001b[38;5;28mself\u001b[39m\u001b[38;5;241m.\u001b[39mlayers:\n\u001b[0;32m--> 315\u001b[0m     output \u001b[38;5;241m=\u001b[39m \u001b[43mmod\u001b[49m\u001b[43m(\u001b[49m\u001b[43moutput\u001b[49m\u001b[43m,\u001b[49m\u001b[43m \u001b[49m\u001b[43msrc_mask\u001b[49m\u001b[38;5;241;43m=\u001b[39;49m\u001b[43mmask\u001b[49m\u001b[43m,\u001b[49m\u001b[43m \u001b[49m\u001b[43mis_causal\u001b[49m\u001b[38;5;241;43m=\u001b[39;49m\u001b[43mis_causal\u001b[49m\u001b[43m,\u001b[49m\u001b[43m \u001b[49m\u001b[43msrc_key_padding_mask\u001b[49m\u001b[38;5;241;43m=\u001b[39;49m\u001b[43msrc_key_padding_mask_for_layers\u001b[49m\u001b[43m)\u001b[49m\n\u001b[1;32m    317\u001b[0m \u001b[38;5;28;01mif\u001b[39;00m convert_to_nested:\n\u001b[1;32m    318\u001b[0m     output \u001b[38;5;241m=\u001b[39m output\u001b[38;5;241m.\u001b[39mto_padded_tensor(\u001b[38;5;241m0.\u001b[39m)\n",
      "File \u001b[0;32m/share/apps/anaconda-ci/fgci-centos7-anaconda/software/anaconda/2023-03/6a700484/lib/python3.10/site-packages/torch/nn/modules/module.py:1501\u001b[0m, in \u001b[0;36mModule._call_impl\u001b[0;34m(self, *args, **kwargs)\u001b[0m\n\u001b[1;32m   1496\u001b[0m \u001b[38;5;66;03m# If we don't have any hooks, we want to skip the rest of the logic in\u001b[39;00m\n\u001b[1;32m   1497\u001b[0m \u001b[38;5;66;03m# this function, and just call forward.\u001b[39;00m\n\u001b[1;32m   1498\u001b[0m \u001b[38;5;28;01mif\u001b[39;00m \u001b[38;5;129;01mnot\u001b[39;00m (\u001b[38;5;28mself\u001b[39m\u001b[38;5;241m.\u001b[39m_backward_hooks \u001b[38;5;129;01mor\u001b[39;00m \u001b[38;5;28mself\u001b[39m\u001b[38;5;241m.\u001b[39m_backward_pre_hooks \u001b[38;5;129;01mor\u001b[39;00m \u001b[38;5;28mself\u001b[39m\u001b[38;5;241m.\u001b[39m_forward_hooks \u001b[38;5;129;01mor\u001b[39;00m \u001b[38;5;28mself\u001b[39m\u001b[38;5;241m.\u001b[39m_forward_pre_hooks\n\u001b[1;32m   1499\u001b[0m         \u001b[38;5;129;01mor\u001b[39;00m _global_backward_pre_hooks \u001b[38;5;129;01mor\u001b[39;00m _global_backward_hooks\n\u001b[1;32m   1500\u001b[0m         \u001b[38;5;129;01mor\u001b[39;00m _global_forward_hooks \u001b[38;5;129;01mor\u001b[39;00m _global_forward_pre_hooks):\n\u001b[0;32m-> 1501\u001b[0m     \u001b[38;5;28;01mreturn\u001b[39;00m \u001b[43mforward_call\u001b[49m\u001b[43m(\u001b[49m\u001b[38;5;241;43m*\u001b[39;49m\u001b[43margs\u001b[49m\u001b[43m,\u001b[49m\u001b[43m \u001b[49m\u001b[38;5;241;43m*\u001b[39;49m\u001b[38;5;241;43m*\u001b[39;49m\u001b[43mkwargs\u001b[49m\u001b[43m)\u001b[49m\n\u001b[1;32m   1502\u001b[0m \u001b[38;5;66;03m# Do not call functions when jit is used\u001b[39;00m\n\u001b[1;32m   1503\u001b[0m full_backward_hooks, non_full_backward_hooks \u001b[38;5;241m=\u001b[39m [], []\n",
      "File \u001b[0;32m/share/apps/anaconda-ci/fgci-centos7-anaconda/software/anaconda/2023-03/6a700484/lib/python3.10/site-packages/torch/nn/modules/transformer.py:592\u001b[0m, in \u001b[0;36mTransformerEncoderLayer.forward\u001b[0;34m(self, src, src_mask, src_key_padding_mask, is_causal)\u001b[0m\n\u001b[1;32m    590\u001b[0m \u001b[38;5;28;01melse\u001b[39;00m:\n\u001b[1;32m    591\u001b[0m     x \u001b[38;5;241m=\u001b[39m \u001b[38;5;28mself\u001b[39m\u001b[38;5;241m.\u001b[39mnorm1(x \u001b[38;5;241m+\u001b[39m \u001b[38;5;28mself\u001b[39m\u001b[38;5;241m.\u001b[39m_sa_block(x, src_mask, src_key_padding_mask, is_causal\u001b[38;5;241m=\u001b[39mis_causal))\n\u001b[0;32m--> 592\u001b[0m     x \u001b[38;5;241m=\u001b[39m \u001b[38;5;28mself\u001b[39m\u001b[38;5;241m.\u001b[39mnorm2(x \u001b[38;5;241m+\u001b[39m \u001b[38;5;28;43mself\u001b[39;49m\u001b[38;5;241;43m.\u001b[39;49m\u001b[43m_ff_block\u001b[49m\u001b[43m(\u001b[49m\u001b[43mx\u001b[49m\u001b[43m)\u001b[49m)\n\u001b[1;32m    594\u001b[0m \u001b[38;5;28;01mreturn\u001b[39;00m x\n",
      "File \u001b[0;32m/share/apps/anaconda-ci/fgci-centos7-anaconda/software/anaconda/2023-03/6a700484/lib/python3.10/site-packages/torch/nn/modules/transformer.py:607\u001b[0m, in \u001b[0;36mTransformerEncoderLayer._ff_block\u001b[0;34m(self, x)\u001b[0m\n\u001b[1;32m    606\u001b[0m \u001b[38;5;28;01mdef\u001b[39;00m \u001b[38;5;21m_ff_block\u001b[39m(\u001b[38;5;28mself\u001b[39m, x: Tensor) \u001b[38;5;241m-\u001b[39m\u001b[38;5;241m>\u001b[39m Tensor:\n\u001b[0;32m--> 607\u001b[0m     x \u001b[38;5;241m=\u001b[39m \u001b[38;5;28mself\u001b[39m\u001b[38;5;241m.\u001b[39mlinear2(\u001b[38;5;28mself\u001b[39m\u001b[38;5;241m.\u001b[39mdropout(\u001b[38;5;28mself\u001b[39m\u001b[38;5;241m.\u001b[39mactivation(\u001b[38;5;28;43mself\u001b[39;49m\u001b[38;5;241;43m.\u001b[39;49m\u001b[43mlinear1\u001b[49m\u001b[43m(\u001b[49m\u001b[43mx\u001b[49m\u001b[43m)\u001b[49m)))\n\u001b[1;32m    608\u001b[0m     \u001b[38;5;28;01mreturn\u001b[39;00m \u001b[38;5;28mself\u001b[39m\u001b[38;5;241m.\u001b[39mdropout2(x)\n",
      "File \u001b[0;32m/share/apps/anaconda-ci/fgci-centos7-anaconda/software/anaconda/2023-03/6a700484/lib/python3.10/site-packages/torch/nn/modules/module.py:1501\u001b[0m, in \u001b[0;36mModule._call_impl\u001b[0;34m(self, *args, **kwargs)\u001b[0m\n\u001b[1;32m   1496\u001b[0m \u001b[38;5;66;03m# If we don't have any hooks, we want to skip the rest of the logic in\u001b[39;00m\n\u001b[1;32m   1497\u001b[0m \u001b[38;5;66;03m# this function, and just call forward.\u001b[39;00m\n\u001b[1;32m   1498\u001b[0m \u001b[38;5;28;01mif\u001b[39;00m \u001b[38;5;129;01mnot\u001b[39;00m (\u001b[38;5;28mself\u001b[39m\u001b[38;5;241m.\u001b[39m_backward_hooks \u001b[38;5;129;01mor\u001b[39;00m \u001b[38;5;28mself\u001b[39m\u001b[38;5;241m.\u001b[39m_backward_pre_hooks \u001b[38;5;129;01mor\u001b[39;00m \u001b[38;5;28mself\u001b[39m\u001b[38;5;241m.\u001b[39m_forward_hooks \u001b[38;5;129;01mor\u001b[39;00m \u001b[38;5;28mself\u001b[39m\u001b[38;5;241m.\u001b[39m_forward_pre_hooks\n\u001b[1;32m   1499\u001b[0m         \u001b[38;5;129;01mor\u001b[39;00m _global_backward_pre_hooks \u001b[38;5;129;01mor\u001b[39;00m _global_backward_hooks\n\u001b[1;32m   1500\u001b[0m         \u001b[38;5;129;01mor\u001b[39;00m _global_forward_hooks \u001b[38;5;129;01mor\u001b[39;00m _global_forward_pre_hooks):\n\u001b[0;32m-> 1501\u001b[0m     \u001b[38;5;28;01mreturn\u001b[39;00m \u001b[43mforward_call\u001b[49m\u001b[43m(\u001b[49m\u001b[38;5;241;43m*\u001b[39;49m\u001b[43margs\u001b[49m\u001b[43m,\u001b[49m\u001b[43m \u001b[49m\u001b[38;5;241;43m*\u001b[39;49m\u001b[38;5;241;43m*\u001b[39;49m\u001b[43mkwargs\u001b[49m\u001b[43m)\u001b[49m\n\u001b[1;32m   1502\u001b[0m \u001b[38;5;66;03m# Do not call functions when jit is used\u001b[39;00m\n\u001b[1;32m   1503\u001b[0m full_backward_hooks, non_full_backward_hooks \u001b[38;5;241m=\u001b[39m [], []\n",
      "File \u001b[0;32m/share/apps/anaconda-ci/fgci-centos7-anaconda/software/anaconda/2023-03/6a700484/lib/python3.10/site-packages/torch/nn/modules/linear.py:114\u001b[0m, in \u001b[0;36mLinear.forward\u001b[0;34m(self, input)\u001b[0m\n\u001b[1;32m    113\u001b[0m \u001b[38;5;28;01mdef\u001b[39;00m \u001b[38;5;21mforward\u001b[39m(\u001b[38;5;28mself\u001b[39m, \u001b[38;5;28minput\u001b[39m: Tensor) \u001b[38;5;241m-\u001b[39m\u001b[38;5;241m>\u001b[39m Tensor:\n\u001b[0;32m--> 114\u001b[0m     \u001b[38;5;28;01mreturn\u001b[39;00m \u001b[43mF\u001b[49m\u001b[38;5;241;43m.\u001b[39;49m\u001b[43mlinear\u001b[49m\u001b[43m(\u001b[49m\u001b[38;5;28;43minput\u001b[39;49m\u001b[43m,\u001b[49m\u001b[43m \u001b[49m\u001b[38;5;28;43mself\u001b[39;49m\u001b[38;5;241;43m.\u001b[39;49m\u001b[43mweight\u001b[49m\u001b[43m,\u001b[49m\u001b[43m \u001b[49m\u001b[38;5;28;43mself\u001b[39;49m\u001b[38;5;241;43m.\u001b[39;49m\u001b[43mbias\u001b[49m\u001b[43m)\u001b[49m\n",
      "\u001b[0;31mKeyboardInterrupt\u001b[0m: "
     ]
    }
   ],
   "source": [
    "model.train()\n",
    "\n",
    "for epoch in range(EPOCHS):\n",
    "    loop = tqdm(train_loader, leave=True, position=0, desc=f'epoch:{epoch+1}/{EPOCHS}')\n",
    "    for idx, batch in enumerate(loop):\n",
    "        batch = {k: v.to(device) for k, v in batch.items()}\n",
    "        \n",
    "        '''\n",
    "        length = batch['length']\n",
    "        print(tokenizer.decode(batch['seq'][1, length[1,0]-1:length[1,0]-1+ length[1,1]]))\n",
    "        break\n",
    "        '''\n",
    "        logits = model(src = batch['seq'],\n",
    "                       length = batch['length'],\n",
    "                       pad_mask = batch['pad_mask'],\n",
    "                       mask = batch['mask'])\n",
    "\n",
    "        \n",
    "        loss = criterion(logits.transpose(1,2), batch['CDR3_label'])\n",
    "        \n",
    "        loss.backward()\n",
    "        optimizer.step()\n",
    "        optimizer.zero_grad()\n",
    "        perplexity = torch.exp(loss)\n",
    "        loop.set_postfix(loss = loss.item(), PPL=perplexity.item())"
   ]
  },
  {
   "cell_type": "code",
   "execution_count": null,
   "metadata": {},
   "outputs": [],
   "source": [
    "residues = torch.argmax(torch.softmax(logits, dim=-1), dim=-1)\n",
    "print(tokenizer.decode(residues[0,:]))\n",
    "\n",
    "label = batch['CDR3_label'][0,:]\n",
    "label[label==-100] = 0\n",
    "\n",
    "print(tokenizer.decode(label.squeeze(0)))"
   ]
  },
  {
   "cell_type": "markdown",
   "metadata": {},
   "source": [
    "# Testing"
   ]
  },
  {
   "cell_type": "code",
   "execution_count": 14,
   "metadata": {},
   "outputs": [],
   "source": [
    "checkpoint = torch.load(\"../code/model_2/030823_customprotBERT_parallel_checkpoint.pth\",  map_location=\"cpu\")"
   ]
  },
  {
   "cell_type": "code",
   "execution_count": 15,
   "metadata": {},
   "outputs": [],
   "source": [
    "model = checkpoint[\"model\"]\n",
    "model = model.module"
   ]
  },
  {
   "cell_type": "code",
   "execution_count": 16,
   "metadata": {},
   "outputs": [
    {
     "data": {
      "text/plain": [
       "CustomprotBERT(\n",
       "  (embeddings): BertEmbeddings(\n",
       "    (word_embeddings): Embedding(30, 1024, padding_idx=0)\n",
       "    (position_embeddings): Embedding(40000, 1024)\n",
       "    (token_type_embeddings): Embedding(2, 1024)\n",
       "    (LayerNorm): LayerNorm((1024,), eps=1e-12, elementwise_affine=True)\n",
       "    (dropout): Dropout(p=0.0, inplace=False)\n",
       "  )\n",
       "  (encoder): TransformerEncoder(\n",
       "    (layers): ModuleList(\n",
       "      (0-29): 30 x TransformerEncoderLayer(\n",
       "        (self_attn): MultiheadAttention(\n",
       "          (out_proj): NonDynamicallyQuantizableLinear(in_features=1024, out_features=1024, bias=True)\n",
       "        )\n",
       "        (linear1): Linear(in_features=1024, out_features=4096, bias=True)\n",
       "        (dropout): Dropout(p=0.0, inplace=False)\n",
       "        (linear2): Linear(in_features=4096, out_features=1024, bias=True)\n",
       "        (norm1): LayerNorm((1024,), eps=1e-12, elementwise_affine=True)\n",
       "        (norm2): LayerNorm((1024,), eps=1e-12, elementwise_affine=True)\n",
       "        (dropout1): Dropout(p=0.0, inplace=False)\n",
       "        (dropout2): Dropout(p=0.0, inplace=False)\n",
       "      )\n",
       "    )\n",
       "  )\n",
       "  (fc): Linear(in_features=1024, out_features=30, bias=True)\n",
       ")"
      ]
     },
     "execution_count": 16,
     "metadata": {},
     "output_type": "execute_result"
    }
   ],
   "source": [
    "device = torch.device(\"cuda\") if torch.cuda.is_available() else torch.device(\"cpu\")\n",
    "model.to(device)\n",
    "model.eval()"
   ]
  },
  {
   "cell_type": "code",
   "execution_count": 17,
   "metadata": {},
   "outputs": [],
   "source": [
    "train_set = CDR3Dataset(V_data[20000000:200000101], CDR3_data[20000000:200000101], J_data[20000000:200000101], tgt_data[20000000:200000101], tokenizer)\n",
    "train_loader = DataLoader(train_set, shuffle=False, batch_size=100)"
   ]
  },
  {
   "cell_type": "code",
   "execution_count": 30,
   "metadata": {},
   "outputs": [
    {
     "name": "stderr",
     "output_type": "stream",
     "text": [
      "100%|██████████| 14/14 [00:25<00:00,  1.80s/it]\n"
     ]
    }
   ],
   "source": [
    "with torch.no_grad():\n",
    "    for batch in train_loader:\n",
    "        idx = 89\n",
    "        prob = []\n",
    "        \n",
    "        cdr3_pred =torch.full((1,int(batch['length'][idx,1])), 0).squeeze(0)\n",
    "        V = batch['seq'][idx,:batch['length'][idx,0]]\n",
    "        J = batch['seq'][idx,batch['length'][idx,0]+batch['length'][idx,1]:]\n",
    "        #print(tokenizer.decode(V))\n",
    "        for i in tqdm(range(int(batch['length'][idx,1])), leave=True, position=0):\n",
    "            \n",
    "            src = torch.cat((V,cdr3_pred,J), axis=-1).unsqueeze(0)\n",
    "            out = model(src=src,\n",
    "                       length = batch['length'][idx, :].unsqueeze(0))\n",
    "            \n",
    "            #cdr3_pred[i]= torch.multinomial(out.softmax(-1)[:,i], num_samples=1)\n",
    "            cdr3_pred[i]= out.softmax(-1).argmax(-1)[:,i]\n",
    "            prob.append(out.softmax(-1)[:,i,:])\n",
    "        break"
   ]
  },
  {
   "cell_type": "code",
   "execution_count": 31,
   "metadata": {},
   "outputs": [
    {
     "name": "stdout",
     "output_type": "stream",
     "text": [
      "S S F L L L L H Q Y L H F F\n",
      "A S S Q T I S P G N T I Y F [PAD] [PAD] [PAD] [PAD] [PAD] [PAD] [PAD] [PAD] [PAD] [PAD] [PAD] [PAD]\n"
     ]
    }
   ],
   "source": [
    "print(tokenizer.decode(cdr3_pred))\n",
    "for batch in train_loader:\n",
    "    label = batch['CDR3_label'][idx]\n",
    "    label[label==-100] = 0\n",
    "    print(tokenizer.decode(label.squeeze(0)))\n",
    "    break"
   ]
  },
  {
   "cell_type": "code",
   "execution_count": 32,
   "metadata": {},
   "outputs": [],
   "source": [
    "names = [tokenizer.decode(i) for i in range(0,30)]"
   ]
  },
  {
   "cell_type": "code",
   "execution_count": 33,
   "metadata": {},
   "outputs": [
    {
     "data": {
      "text/plain": [
       "<function matplotlib.pyplot.show(close=None, block=None)>"
      ]
     },
     "execution_count": 33,
     "metadata": {},
     "output_type": "execute_result"
    },
    {
     "data": {
      "image/png": "[encoded data removed]",
      "text/plain": [
       "<Figure size 1000x1000 with 2 Axes>"
      ]
     },
     "metadata": {},
     "output_type": "display_data"
    }
   ],
   "source": [
    "plt.figure(figsize=(10,10))\n",
    "plt.imshow(torch.cat(prob, dim=0).t(), cmap='viridis_r')\n",
    "plt.yticks(range(0,30), names)\n",
    "plt.xticks(range(0,int(batch['length'][idx, 1])), range(0, int(batch['length'][idx, 1])))\n",
    "plt.colorbar()\n",
    "plt.show"
   ]
  },
  {
   "cell_type": "code",
   "execution_count": null,
   "metadata": {},
   "outputs": [],
   "source": [
    "plt.figure(figsize=(200,200))\n",
    "plt.imshow(model.fc.weight.detach().softmax(-1), cmap='viridis_r')"
   ]
  },
  {
   "cell_type": "code",
   "execution_count": null,
   "metadata": {},
   "outputs": [],
   "source": [
    "print(torch.argmax(torch.cat(prob), dim =-1))"
   ]
  },
  {
   "cell_type": "code",
   "execution_count": null,
   "metadata": {},
   "outputs": [],
   "source": [
    "torch.cat(prob)[0]"
   ]
  },
  {
   "cell_type": "code",
   "execution_count": null,
   "metadata": {},
   "outputs": [],
   "source": [
    "tokenizer.decode(batch['V'][0])"
   ]
  }
 ],
 "metadata": {
  "kernelspec": {
   "display_name": "Python (module anaconda)",
   "language": "python",
   "name": "python3"
  },
  "language_info": {
   "codemirror_mode": {
    "name": "ipython",
    "version": 3
   },
   "file_extension": ".py",
   "mimetype": "text/x-python",
   "name": "python",
   "nbconvert_exporter": "python",
   "pygments_lexer": "ipython3",
   "version": "3.10.8"
  }
 },
 "nbformat": 4,
 "nbformat_minor": 4
}
