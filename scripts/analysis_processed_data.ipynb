{
 "cells": [
  {
   "cell_type": "markdown",
   "metadata": {},
   "source": [
    "This notebook contains the analysis of the processed emerson data: distributions of V- and J- gene combinations, deletions on V- gene and J-gene, CDR3 length, and deletions on invidual V- and J- genes. The figures are saved on `figures` directory locating on the same root as this notebook."
   ]
  },
  {
   "cell_type": "code",
   "execution_count": 1,
   "metadata": {},
   "outputs": [],
   "source": [
    "import numpy as np\n",
    "import numba\n",
    "import matplotlib.pyplot as plt\n",
    "import pandas as pd \n",
    "import os \n",
    "from tqdm import tqdm "
   ]
  },
  {
   "cell_type": "code",
   "execution_count": 2,
   "metadata": {},
   "outputs": [],
   "source": [
    "# Location of the processed emerson data \n",
    "# Use process_data.py script to process the pure emerson data\n",
    "data_path = os.path.join(os.getcwd(), os.pardir, \"data\", \"emerson\", \"emerson_processed\")"
   ]
  },
  {
   "cell_type": "markdown",
   "metadata": {},
   "source": [
    "If the `whole_data_flag` is set `True`, the whole dataset is utilised for the analysis. Otherwise the trainset is utilised.  "
   ]
  },
  {
   "cell_type": "code",
   "execution_count": 3,
   "metadata": {},
   "outputs": [],
   "source": [
    "whole_data_flag = False"
   ]
  },
  {
   "cell_type": "code",
   "execution_count": 4,
   "metadata": {},
   "outputs": [],
   "source": [
    "if whole_data_flag:\n",
    "    whole_data = pd.read_csv(os.path.join(data_path, \"whole_seqs_nn.tsv\"), sep = '\\t')\n",
    "    data = whole_data\n",
    "else:\n",
    "    train_data = pd.read_csv(os.path.join(data_path, \"whole_seqs_nn_train.tsv\"), sep = '\\t')\n",
    "    data = train_data"
   ]
  },
  {
   "cell_type": "code",
   "execution_count": 5,
   "metadata": {},
   "outputs": [
    {
     "data": {
      "text/plain": [
       "26427244"
      ]
     },
     "execution_count": 5,
     "metadata": {},
     "output_type": "execute_result"
    }
   ],
   "source": [
    "len(data)"
   ]
  },
  {
   "cell_type": "markdown",
   "metadata": {},
   "source": [
    "# V- and J-gene combinations distribution"
   ]
  },
  {
   "cell_type": "code",
   "execution_count": null,
   "metadata": {},
   "outputs": [],
   "source": [
    "v_genes = data.loc[:,\"v\"]\n",
    "j_genes = data.loc[:,\"j\"]"
   ]
  },
  {
   "cell_type": "code",
   "execution_count": null,
   "metadata": {},
   "outputs": [],
   "source": [
    "@numba.jit(forceobj=True)\n",
    "def create_combinations(data):\n",
    "    result = []\n",
    "    for i in tqdm(range(len(data)),position=0, leave=True):\n",
    "        result.append(f'{data[i, 3]}, {data[i, 6]}')\n",
    "    return result "
   ]
  },
  {
   "cell_type": "code",
   "execution_count": null,
   "metadata": {},
   "outputs": [],
   "source": [
    "v_j_combinations = create_combinations(data.to_numpy())"
   ]
  },
  {
   "cell_type": "code",
   "execution_count": null,
   "metadata": {},
   "outputs": [],
   "source": [
    "gene_count = {}\n",
    "for comb in tqdm(v_j_combinations, total = data.shape[0], position=0, leave=True):\n",
    "    key = str(comb)\n",
    "    if key not in gene_count.keys():\n",
    "        gene_count[key] = 1\n",
    "    else:\n",
    "        gene_count[key] += 1\n",
    "gene_count.update((x, y/data.shape[0]) for x, y in gene_count.items())"
   ]
  },
  {
   "cell_type": "code",
   "execution_count": null,
   "metadata": {},
   "outputs": [],
   "source": [
    "gene_count_sorted = dict(sorted(gene_count.items(), key = lambda x: x[1], reverse= True))"
   ]
  },
  {
   "cell_type": "code",
   "execution_count": null,
   "metadata": {},
   "outputs": [],
   "source": [
    "sum(gene_count_sorted.values())\n"
   ]
  },
  {
   "cell_type": "code",
   "execution_count": null,
   "metadata": {},
   "outputs": [],
   "source": [
    "fig = plt.figure(figsize=(50,50))\n",
    "plt.bar(x=list(gene_count_sorted.keys()), height= list(gene_count_sorted.values()), align='edge')\n",
    "plt.xticks(rotation=-90)\n",
    "plt.show"
   ]
  },
  {
   "cell_type": "markdown",
   "metadata": {},
   "source": [
    "### Latex codes generation for the tables\n",
    "\n",
    "The table is divided in to seven parts to fit the tables on pages of the latex document.\n",
    "\n",
    "To use the tables just copy the printed latex codes and paste them to your document. You may need to add following lines around the printed latex codes:\n",
    "\n",
    "<code>\\begin{table}[]\n",
    "\\centering\n",
    "\\caption{Your caption}    \n",
    "%%% Paste the printed table here%%% \n",
    "\\end{table}\n",
    "</code>"
   ]
  },
  {
   "cell_type": "code",
   "execution_count": null,
   "metadata": {},
   "outputs": [],
   "source": [
    "indx = int(len(gene_count_sorted)/7)"
   ]
  },
  {
   "cell_type": "code",
   "execution_count": null,
   "metadata": {},
   "outputs": [],
   "source": [
    "def gene_combination(begin_indx, end_indx):\n",
    "    print(pd.DataFrame(data={'gene combination': list(gene_count_sorted.keys())[begin_indx:end_indx], 'fraction (%)': [f'{i*100:.3}'for i in list(gene_count_sorted.values())[begin_indx:end_indx]]}).to_latex(index=False))"
   ]
  },
  {
   "cell_type": "code",
   "execution_count": null,
   "metadata": {},
   "outputs": [],
   "source": [
    "gene_combination(0, indx)\n",
    "gene_combination(indx, 2*indx)\n",
    "gene_combination(2*indx, 3*indx)\n",
    "gene_combination(3*indx, 4*indx)\n",
    "gene_combination(4*indx, 5*indx)\n",
    "gene_combination(5*indx, 6*indx)\n",
    "gene_combination(6*indx, len(gene_count_sorted))"
   ]
  },
  {
   "cell_type": "markdown",
   "metadata": {},
   "source": [
    "# distribution of deletions of v gene  "
   ]
  },
  {
   "cell_type": "code",
   "execution_count": null,
   "metadata": {},
   "outputs": [],
   "source": [
    "v_deletions= data.loc[:,\"v_deletions\"]"
   ]
  },
  {
   "cell_type": "code",
   "execution_count": null,
   "metadata": {},
   "outputs": [],
   "source": [
    "v_deletion_count = {}\n",
    "for comb in tqdm(v_deletions, total = data.shape[0], position=0, leave=True):\n",
    "    key = str(comb)\n",
    "    if key not in v_deletion_count.keys():\n",
    "        v_deletion_count[key] = 1\n",
    "    else:\n",
    "        v_deletion_count[key] += 1\n",
    "v_deletion_count.update((x, y/data.shape[0]) for x, y in v_deletion_count.items())"
   ]
  },
  {
   "cell_type": "code",
   "execution_count": null,
   "metadata": {},
   "outputs": [],
   "source": [
    "v_deletion_count_sorted = dict(sorted(v_deletion_count.items(), key= lambda x: x[1], reverse=True))\n",
    "v_deletion_count_sorted"
   ]
  },
  {
   "cell_type": "code",
   "execution_count": null,
   "metadata": {},
   "outputs": [],
   "source": [
    "sum(list(v_deletion_count_sorted.values()))"
   ]
  },
  {
   "cell_type": "code",
   "execution_count": null,
   "metadata": {},
   "outputs": [],
   "source": [
    "print(pd.DataFrame(data={'number of deletions': list(v_deletion_count_sorted.keys()), 'fraction (%)': [f'{i *100:.3}' for i in v_deletion_count_sorted.values()]}).to_latex(index=False))"
   ]
  },
  {
   "cell_type": "code",
   "execution_count": null,
   "metadata": {},
   "outputs": [],
   "source": [
    "sum(list(v_deletion_count_sorted.values())[:11])"
   ]
  },
  {
   "cell_type": "code",
   "execution_count": null,
   "metadata": {},
   "outputs": [],
   "source": [
    "list(v_deletion_count_sorted.keys())[:11]"
   ]
  },
  {
   "cell_type": "code",
   "execution_count": null,
   "metadata": {},
   "outputs": [],
   "source": [
    "v_deletion_count_sorted = {int(k):v for k,v in v_deletion_count_sorted.items()}\n",
    "v_deletion_count_sorted = dict(sorted(v_deletion_count_sorted.items(), reverse=False))"
   ]
  },
  {
   "cell_type": "code",
   "execution_count": null,
   "metadata": {},
   "outputs": [],
   "source": [
    "fig = plt.figure(figsize = (10,5))\n",
    "plt.bar(v_deletion_count_sorted.keys(), v_deletion_count_sorted.values())\n",
    "plt.title(\"Deletions on V gene\")\n",
    "plt.xlabel(\"No. of deletions\")\n",
    "plt.ylabel(\"Fraction of the train set\")\n",
    "plt.show\n",
    "plt.savefig(os.path.join(\"figures\", \"V_deletion_train.png\"))"
   ]
  },
  {
   "cell_type": "markdown",
   "metadata": {},
   "source": [
    "# distribution of deletions on J - genes  "
   ]
  },
  {
   "cell_type": "code",
   "execution_count": null,
   "metadata": {},
   "outputs": [],
   "source": [
    "j_deletions = data.loc[:,\"j_deletions\"]"
   ]
  },
  {
   "cell_type": "code",
   "execution_count": null,
   "metadata": {},
   "outputs": [],
   "source": [
    "j_deletion_count = {}\n",
    "for comb in tqdm(j_deletions, total = data.shape[0], position=0, leave=True):\n",
    "    key = str(comb)\n",
    "    if key not in j_deletion_count.keys():\n",
    "        j_deletion_count[key] = 1\n",
    "    else:\n",
    "        j_deletion_count[key] += 1\n",
    "j_deletion_count.update((x, y/data.shape[0]) for x, y in j_deletion_count.items())"
   ]
  },
  {
   "cell_type": "code",
   "execution_count": null,
   "metadata": {},
   "outputs": [],
   "source": [
    "j_deletion_count_sorted = dict(sorted(j_deletion_count.items(), key= lambda x: x[1], reverse=True))\n",
    "j_deletion_count_sorted"
   ]
  },
  {
   "cell_type": "code",
   "execution_count": null,
   "metadata": {},
   "outputs": [],
   "source": [
    "print(pd.DataFrame(data={'number of deletions': list(j_deletion_count_sorted.keys()), 'fraction (%)': [f'{i *100:.3}' for i in j_deletion_count_sorted.values()]}).to_latex(index=False))"
   ]
  },
  {
   "cell_type": "code",
   "execution_count": null,
   "metadata": {},
   "outputs": [],
   "source": [
    "sum(list(j_deletion_count_sorted.values())[:12])"
   ]
  },
  {
   "cell_type": "code",
   "execution_count": null,
   "metadata": {},
   "outputs": [],
   "source": [
    "list(j_deletion_count_sorted.keys())[:12]"
   ]
  },
  {
   "cell_type": "code",
   "execution_count": null,
   "metadata": {},
   "outputs": [],
   "source": [
    "j_deletion_count_sorted = {int(k):v for k,v in j_deletion_count_sorted.items()}\n",
    "j_deletion_count_sorted = dict(sorted(j_deletion_count_sorted.items(), reverse=False))"
   ]
  },
  {
   "cell_type": "code",
   "execution_count": null,
   "metadata": {},
   "outputs": [],
   "source": [
    "fig = plt.figure(figsize = (10,5))\n",
    "plt.bar(j_deletion_count_sorted.keys(), j_deletion_count_sorted.values())\n",
    "plt.title(\"Deletions on J gene\")\n",
    "plt.xlabel(\"No. of deletions\")\n",
    "plt.ylabel(\"Fraction of the train set\")\n",
    "plt.show\n",
    "plt.savefig(os.path.join(\"figures\", \"J_deletion_train.png\"))"
   ]
  },
  {
   "cell_type": "markdown",
   "metadata": {},
   "source": [
    "# Distribution of Lengths of cdr3 sequences "
   ]
  },
  {
   "cell_type": "code",
   "execution_count": null,
   "metadata": {},
   "outputs": [],
   "source": [
    "cdr3 = data.loc[:, 'seq']"
   ]
  },
  {
   "cell_type": "code",
   "execution_count": null,
   "metadata": {},
   "outputs": [],
   "source": [
    "@numba.jit(forceobj=True)\n",
    "def count_seq_len(data):\n",
    "    result = []\n",
    "    for i in tqdm(range(len(data)),position=0, leave=True):\n",
    "        result.append(len(data[i]))\n",
    "    return result"
   ]
  },
  {
   "cell_type": "code",
   "execution_count": null,
   "metadata": {},
   "outputs": [],
   "source": [
    "cdr3_lengths = count_seq_len(cdr3.to_numpy())"
   ]
  },
  {
   "cell_type": "code",
   "execution_count": null,
   "metadata": {},
   "outputs": [],
   "source": [
    "cdr3_len_count = {}\n",
    "for len_ in tqdm(cdr3_lengths, total = data.shape[0], position=0, leave=True):\n",
    "    key = str(len_)\n",
    "    if key not in cdr3_len_count.keys():\n",
    "        cdr3_len_count[key] = 1\n",
    "    else:\n",
    "        cdr3_len_count[key] += 1\n",
    "cdr3_len_count.update((x, y/data.shape[0]) for x, y in cdr3_len_count.items())"
   ]
  },
  {
   "cell_type": "code",
   "execution_count": null,
   "metadata": {},
   "outputs": [],
   "source": [
    "cdr3_len_count"
   ]
  },
  {
   "cell_type": "code",
   "execution_count": null,
   "metadata": {},
   "outputs": [],
   "source": [
    "sum(list(cdr3_len_count.values()))"
   ]
  },
  {
   "cell_type": "code",
   "execution_count": null,
   "metadata": {},
   "outputs": [],
   "source": [
    "sorted_cdr3_len = dict(sorted(cdr3_len_count.items(), key = lambda x: x[1], reverse = True))"
   ]
  },
  {
   "cell_type": "code",
   "execution_count": null,
   "metadata": {},
   "outputs": [],
   "source": [
    "sum(list(sorted_cdr3_len.values())[:9])"
   ]
  },
  {
   "cell_type": "code",
   "execution_count": null,
   "metadata": {},
   "outputs": [],
   "source": [
    "list(sorted_cdr3_len.keys())[:9]"
   ]
  },
  {
   "cell_type": "code",
   "execution_count": null,
   "metadata": {},
   "outputs": [],
   "source": [
    "print(pd.DataFrame(data={'len of cdr3': sorted_cdr3_len.keys(), 'fraction (%)': [f'{i*100:.3}'for i in sorted_cdr3_len.values()]}).to_latex(index=False))"
   ]
  },
  {
   "cell_type": "code",
   "execution_count": null,
   "metadata": {},
   "outputs": [],
   "source": [
    "sorted_cdr3_len = {int(k):v for k,v in sorted_cdr3_len.items()}\n",
    "sorted_cdr3_len= dict(sorted(sorted_cdr3_len.items(), reverse=False))"
   ]
  },
  {
   "cell_type": "code",
   "execution_count": null,
   "metadata": {},
   "outputs": [],
   "source": [
    "fig = plt.figure(figsize = (10,5))\n",
    "plt.bar(sorted_cdr3_len.keys(), sorted_cdr3_len.values())\n",
    "plt.title(\"Lengths of CDR3 sequences\")\n",
    "plt.xlabel(\"Length of CDR3 seq\")\n",
    "plt.ylabel(\"Fraction of the train set\")\n",
    "plt.show\n",
    "plt.savefig(os.path.join(\"figures\",\"CDR3_train.png\"))"
   ]
  },
  {
   "cell_type": "markdown",
   "metadata": {},
   "source": [
    "# Specific V gene deletions "
   ]
  },
  {
   "cell_type": "code",
   "execution_count": 15,
   "metadata": {},
   "outputs": [],
   "source": [
    "v_genes_deletions = data.loc[:,['v', 'v_deletions']]"
   ]
  },
  {
   "cell_type": "code",
   "execution_count": 16,
   "metadata": {},
   "outputs": [],
   "source": [
    "@numba.jit(forceobj=True)\n",
    "def create_list(data):\n",
    "    result = []\n",
    "    for i in tqdm(range(len(data)),position=0, leave=True):\n",
    "        result.append((data[i, 0], data[i, 1]))\n",
    "    return result "
   ]
  },
  {
   "cell_type": "code",
   "execution_count": 17,
   "metadata": {
    "scrolled": true
   },
   "outputs": [
    {
     "data": {
      "text/html": [
       "<div>\n",
       "<style scoped>\n",
       "    .dataframe tbody tr th:only-of-type {\n",
       "        vertical-align: middle;\n",
       "    }\n",
       "\n",
       "    .dataframe tbody tr th {\n",
       "        vertical-align: top;\n",
       "    }\n",
       "\n",
       "    .dataframe thead th {\n",
       "        text-align: right;\n",
       "    }\n",
       "</style>\n",
       "<table border=\"1\" class=\"dataframe\">\n",
       "  <thead>\n",
       "    <tr style=\"text-align: right;\">\n",
       "      <th></th>\n",
       "      <th>v</th>\n",
       "      <th>v_deletions</th>\n",
       "    </tr>\n",
       "  </thead>\n",
       "  <tbody>\n",
       "    <tr>\n",
       "      <th>0</th>\n",
       "      <td>TRBV11-2</td>\n",
       "      <td>6</td>\n",
       "    </tr>\n",
       "    <tr>\n",
       "      <th>1</th>\n",
       "      <td>TRBV7-8</td>\n",
       "      <td>5</td>\n",
       "    </tr>\n",
       "    <tr>\n",
       "      <th>2</th>\n",
       "      <td>TRBV11-2</td>\n",
       "      <td>5</td>\n",
       "    </tr>\n",
       "    <tr>\n",
       "      <th>3</th>\n",
       "      <td>TRBV4-2</td>\n",
       "      <td>4</td>\n",
       "    </tr>\n",
       "    <tr>\n",
       "      <th>4</th>\n",
       "      <td>TRBV7-2</td>\n",
       "      <td>1</td>\n",
       "    </tr>\n",
       "    <tr>\n",
       "      <th>...</th>\n",
       "      <td>...</td>\n",
       "      <td>...</td>\n",
       "    </tr>\n",
       "    <tr>\n",
       "      <th>26427239</th>\n",
       "      <td>TRBV5-4</td>\n",
       "      <td>0</td>\n",
       "    </tr>\n",
       "    <tr>\n",
       "      <th>26427240</th>\n",
       "      <td>TRBV5-4</td>\n",
       "      <td>4</td>\n",
       "    </tr>\n",
       "    <tr>\n",
       "      <th>26427241</th>\n",
       "      <td>TRBV29-1</td>\n",
       "      <td>6</td>\n",
       "    </tr>\n",
       "    <tr>\n",
       "      <th>26427242</th>\n",
       "      <td>TRBV4-2</td>\n",
       "      <td>3</td>\n",
       "    </tr>\n",
       "    <tr>\n",
       "      <th>26427243</th>\n",
       "      <td>TRBV29-1</td>\n",
       "      <td>8</td>\n",
       "    </tr>\n",
       "  </tbody>\n",
       "</table>\n",
       "<p>26427244 rows × 2 columns</p>\n",
       "</div>"
      ],
      "text/plain": [
       "                 v  v_deletions\n",
       "0         TRBV11-2            6\n",
       "1          TRBV7-8            5\n",
       "2         TRBV11-2            5\n",
       "3          TRBV4-2            4\n",
       "4          TRBV7-2            1\n",
       "...            ...          ...\n",
       "26427239   TRBV5-4            0\n",
       "26427240   TRBV5-4            4\n",
       "26427241  TRBV29-1            6\n",
       "26427242   TRBV4-2            3\n",
       "26427243  TRBV29-1            8\n",
       "\n",
       "[26427244 rows x 2 columns]"
      ]
     },
     "execution_count": 17,
     "metadata": {},
     "output_type": "execute_result"
    }
   ],
   "source": [
    "v_genes_deletions"
   ]
  },
  {
   "cell_type": "code",
   "execution_count": 18,
   "metadata": {},
   "outputs": [
    {
     "name": "stderr",
     "output_type": "stream",
     "text": [
      "100%|██████████| 26427244/26427244 [00:14<00:00, 1808057.07it/s]\n"
     ]
    }
   ],
   "source": [
    "v_genes_deletions_list = create_list(v_genes_deletions.to_numpy())"
   ]
  },
  {
   "cell_type": "code",
   "execution_count": 19,
   "metadata": {},
   "outputs": [
    {
     "name": "stderr",
     "output_type": "stream",
     "text": [
      "100%|██████████| 26427244/26427244 [00:15<00:00, 1722991.14it/s]\n"
     ]
    }
   ],
   "source": [
    "gene_deletion_list = {}\n",
    "for i in tqdm(v_genes_deletions_list, total = data.shape[0], position=0, leave=True):\n",
    "    key = str(i[0])\n",
    "    value = i[1]\n",
    "    if key not in gene_deletion_list.keys():\n",
    "        gene_deletion_list[key] = [value]\n",
    "    else:\n",
    "        gene_deletion_list[key].append(value)"
   ]
  },
  {
   "cell_type": "code",
   "execution_count": 20,
   "metadata": {},
   "outputs": [
    {
     "name": "stderr",
     "output_type": "stream",
     "text": [
      "100%|██████████| 28/28 [00:07<00:00,  3.61it/s]\n"
     ]
    }
   ],
   "source": [
    "v_gene_deletions = {}\n",
    "for i in tqdm(gene_deletion_list.keys(), total = len(gene_deletion_list), position = 0, leave = True):\n",
    "    gene_count = {}\n",
    "    total = 0\n",
    "    for j in gene_deletion_list[i]:\n",
    "        key = j\n",
    "        if key not in gene_count.keys():\n",
    "            gene_count[key] = 1\n",
    "        else:\n",
    "            gene_count[key] += 1\n",
    "        total += 1\n",
    "    gene_count.update((x, y/total) for x, y in gene_count.items())\n",
    "    v_gene_deletions[i] = gene_count"
   ]
  },
  {
   "cell_type": "code",
   "execution_count": 25,
   "metadata": {},
   "outputs": [
    {
     "data": {
      "text/plain": [
       "{'TRBV11-2': {6: 0.0668108329813349,\n",
       "  5: 0.2780749358750681,\n",
       "  1: 0.1634565940019467,\n",
       "  4: 0.11934047737109205,\n",
       "  7: 0.030956731740463903,\n",
       "  3: 0.112136752921587,\n",
       "  0: 0.10246597858625187,\n",
       "  2: 0.0933775320930745,\n",
       "  10: 0.004691526938593108,\n",
       "  8: 0.0216769817511769,\n",
       "  11: 0.0026476403861575852,\n",
       "  9: 0.0034113239426273164,\n",
       "  14: 0.00011019081375915961,\n",
       "  12: 0.0006014581917687462,\n",
       "  13: 0.00019283392407852933,\n",
       "  15: 4.361719711300068e-05,\n",
       "  22: 7.652139844386084e-07,\n",
       "  16: 7.652139844386084e-07,\n",
       "  18: 7.652139844386084e-07,\n",
       "  25: 1.5304279688772168e-06,\n",
       "  21: 7.652139844386084e-07},\n",
       " 'TRBV7-8': {5: 0.2964615149549796,\n",
       "  0: 0.07697650092049547,\n",
       "  4: 0.11355377499308159,\n",
       "  1: 0.17956126076359988,\n",
       "  3: 0.10272473071634101,\n",
       "  2: 0.10794318678418521,\n",
       "  6: 0.056056732011338706,\n",
       "  8: 0.021752114788937814,\n",
       "  7: 0.03154900743555196,\n",
       "  11: 0.0028966491400339136,\n",
       "  10: 0.005610588208896377,\n",
       "  9: 0.003424478234529212,\n",
       "  14: 0.00021049054982909664,\n",
       "  12: 0.0008889753170447127,\n",
       "  13: 0.0003152015847694594,\n",
       "  25: 1.0684799483710488e-06,\n",
       "  18: 1.0684799483710488e-06,\n",
       "  15: 6.945119664411818e-05,\n",
       "  21: 1.0684799483710488e-06,\n",
       "  34: 1.0684799483710488e-06,\n",
       "  20: 1.0684799483710488e-06},\n",
       " 'TRBV4-2': {4: 0.16944472014152018,\n",
       "  5: 0.04898326161965869,\n",
       "  0: 0.34002907468925697,\n",
       "  3: 0.10543836808089536,\n",
       "  1: 0.19977814494141274,\n",
       "  2: 0.08170221212846576,\n",
       "  9: 0.0017293017987774619,\n",
       "  8: 0.011105597169596516,\n",
       "  7: 0.011206015775062323,\n",
       "  6: 0.027041796325379636,\n",
       "  11: 0.001185173076137153,\n",
       "  10: 0.00197684533783271,\n",
       "  13: 6.772417577926589e-05,\n",
       "  12: 0.0002580524628830649,\n",
       "  14: 5.3712277342176396e-05},\n",
       " 'TRBV7-2': {1: 0.17597810813505313,\n",
       "  5: 0.29434381777721763,\n",
       "  3: 0.10951528649600367,\n",
       "  2: 0.10929379078389731,\n",
       "  4: 0.11613711478086503,\n",
       "  0: 0.06768222372289617,\n",
       "  6: 0.06374703026449692,\n",
       "  7: 0.03109451800463871,\n",
       "  8: 0.02030048174141716,\n",
       "  9: 0.0033483003613530896,\n",
       "  10: 0.004709723050414494,\n",
       "  12: 0.0006550817982254008,\n",
       "  11: 0.0028418229050079665,\n",
       "  13: 0.0002055066373470927,\n",
       "  15: 5.314016022933976e-05,\n",
       "  14: 9.1231779508778e-05,\n",
       "  20: 4.7026690468442267e-07,\n",
       "  16: 4.7026690468442267e-07,\n",
       "  18: 4.7026690468442267e-07,\n",
       "  25: 9.405338093688453e-07,\n",
       "  28: 4.7026690468442267e-07},\n",
       " 'TRBV4-1': {0: 0.24887423378045023,\n",
       "  4: 0.19118154579072838,\n",
       "  1: 0.20980110347097694,\n",
       "  8: 0.012985463756993975,\n",
       "  3: 0.12700569469615636,\n",
       "  2: 0.10099776792406731,\n",
       "  6: 0.03637473614106669,\n",
       "  5: 0.05451457930248743,\n",
       "  7: 0.0119482086936774,\n",
       "  9: 0.0024157963867034874,\n",
       "  10: 0.0023028848576708712,\n",
       "  11: 0.001209492988959549,\n",
       "  12: 0.00026409815265255975,\n",
       "  25: 2.5516729724885e-06,\n",
       "  14: 4.2102604046060246e-05,\n",
       "  13: 6.251598782596825e-05,\n",
       "  15: 1.3396283105564625e-05,\n",
       "  19: 1.913754729366375e-06,\n",
       "  18: 1.27583648624425e-06,\n",
       "  22: 6.37918243122125e-07},\n",
       " 'TRBV5-6': {0: 0.21674517437861646,\n",
       "  3: 0.12272758823046878,\n",
       "  5: 0.06704758419202786,\n",
       "  7: 0.02292761725676281,\n",
       "  1: 0.11485026218315592,\n",
       "  4: 0.2671010619837579,\n",
       "  2: 0.1422935189333468,\n",
       "  6: 0.03720413687790657,\n",
       "  10: 0.0018299185370747805,\n",
       "  9: 0.003173962152236602,\n",
       "  8: 0.003500507960145636,\n",
       "  11: 0.00032496829192879724,\n",
       "  13: 9.07071688636206e-05,\n",
       "  12: 0.0001443427121916745,\n",
       "  14: 3.2339077594856033e-05,\n",
       "  17: 7.887579901184399e-07,\n",
       "  19: 1.5775159802368798e-06,\n",
       "  21: 3.1550319604737597e-06,\n",
       "  18: 7.887579901184399e-07},\n",
       " 'TRBV7-6': {5: 0.3141778087975728,\n",
       "  8: 0.01751496833289111,\n",
       "  0: 0.08099483174324838,\n",
       "  2: 0.10437311814311918,\n",
       "  1: 0.19612121177162767,\n",
       "  4: 0.11772204469157736,\n",
       "  6: 0.049272925487119736,\n",
       "  3: 0.09114099650450493,\n",
       "  7: 0.018592169168118317,\n",
       "  10: 0.0037536195101692373,\n",
       "  9: 0.0028134120877219295,\n",
       "  13: 0.00021486335267584185,\n",
       "  11: 0.0025682659806421097,\n",
       "  12: 0.0006070971240035532,\n",
       "  15: 4.902922141596391e-05,\n",
       "  14: 8.21960476679395e-05,\n",
       "  22: 1.4420359239989387e-06},\n",
       " 'TRBV10-3': {7: 0.07074975585784526,\n",
       "  3: 0.1299838790093244,\n",
       "  2: 0.11183098112474568,\n",
       "  8: 0.062396558468353715,\n",
       "  4: 0.12394902508734068,\n",
       "  5: 0.07143093708517093,\n",
       "  10: 0.07233231618624443,\n",
       "  6: 0.15926303531132488,\n",
       "  0: 0.12210598678633734,\n",
       "  12: 0.002196608057630975,\n",
       "  9: 0.022025158054632347,\n",
       "  11: 0.03059497286464007,\n",
       "  1: 0.020103349782532223,\n",
       "  14: 0.0002461561596774728,\n",
       "  13: 0.0005907747832259347,\n",
       "  15: 0.00018528845473904314,\n",
       "  20: 2.6853399237542486e-06,\n",
       "  18: 1.7902266158361656e-06,\n",
       "  19: 8.951133079180828e-07,\n",
       "  22: 6.265793155426579e-06,\n",
       "  30: 8.951133079180828e-07,\n",
       "  31: 8.951133079180828e-07,\n",
       "  25: 8.951133079180828e-07,\n",
       "  21: 8.951133079180828e-07},\n",
       " 'TRBV5-1': {4: 0.27102653353780687,\n",
       "  3: 0.10923006587040865,\n",
       "  5: 0.07808907862427229,\n",
       "  7: 0.036180070790167655,\n",
       "  0: 0.2596488433673766,\n",
       "  1: 0.0887929520782856,\n",
       "  2: 0.10599715904303349,\n",
       "  6: 0.037208327602674826,\n",
       "  9: 0.00468110991937575,\n",
       "  10: 0.001774374959568279,\n",
       "  8: 0.006796878100331554,\n",
       "  11: 0.00033595702359472926,\n",
       "  12: 0.00011932454155184964,\n",
       "  13: 9.458984159463251e-05,\n",
       "  23: 2.718098896397486e-07,\n",
       "  14: 2.0657551612620895e-05,\n",
       "  17: 5.436197792794972e-07,\n",
       "  21: 5.436197792794972e-07,\n",
       "  24: 1.359049448198743e-06,\n",
       "  18: 5.436197792794972e-07,\n",
       "  20: 2.718098896397486e-07,\n",
       "  36: 2.718098896397486e-07,\n",
       "  19: 2.718098896397486e-07},\n",
       " 'TRBV6-1': {7: 0.10167698357313491,\n",
       "  6: 0.15669233389145457,\n",
       "  2: 0.13007924051054992,\n",
       "  1: 0.08790575928700213,\n",
       "  10: 0.026314423106694834,\n",
       "  5: 0.09132403343011139,\n",
       "  4: 0.1370820342923015,\n",
       "  8: 0.06822305477288912,\n",
       "  0: 0.06350387390112441,\n",
       "  3: 0.10522815884304568,\n",
       "  9: 0.014327598895825047,\n",
       "  11: 0.01430235244521401,\n",
       "  12: 0.0019625542739144623,\n",
       "  13: 0.0008097918120520839,\n",
       "  14: 0.0003586901379265995,\n",
       "  15: 0.00020101890863881143,\n",
       "  22: 3.8107849978921596e-06,\n",
       "  18: 1.4290443742095598e-06,\n",
       "  20: 1.4290443742095598e-06,\n",
       "  25: 9.526962494730399e-07,\n",
       "  28: 4.7634812473651995e-07},\n",
       " 'TRBV10-2': {7: 0.10229291183600969,\n",
       "  2: 0.11596577134490291,\n",
       "  5: 0.08637574710160582,\n",
       "  3: 0.1322159813734668,\n",
       "  8: 0.08803497275629485,\n",
       "  6: 0.18441708072297833,\n",
       "  0: 0.0898922253426466,\n",
       "  4: 0.11029500012001632,\n",
       "  10: 0.03211036700991335,\n",
       "  1: 0.027939799812774536,\n",
       "  9: 0.018728547082403207,\n",
       "  11: 0.009754326588416025,\n",
       "  12: 0.0013681860733059696,\n",
       "  13: 0.00040805549554739446,\n",
       "  15: 3.300448861045102e-05,\n",
       "  14: 0.00016802285110775064},\n",
       " 'TRBV20-1': {5: 0.1765574896930829,\n",
       "  6: 0.24370896320048863,\n",
       "  4: 0.08279508321881203,\n",
       "  12: 0.001954496869751107,\n",
       "  2: 0.053412734768666974,\n",
       "  3: 0.14836998014964117,\n",
       "  7: 0.08482211024583906,\n",
       "  0: 0.04838906703313483,\n",
       "  9: 0.04665597801191022,\n",
       "  10: 0.010299282333180637,\n",
       "  1: 0.05082837074362498,\n",
       "  8: 0.039777065200794014,\n",
       "  11: 0.012341578867002595,\n",
       "  17: 2.6721636891128415e-05,\n",
       "  23: 3.817376698732631e-06,\n",
       "  22: 1.1452130096197893e-05,\n",
       "  21: 7.634753397465262e-06,\n",
       "  16: 7.634753397465262e-06,\n",
       "  13: 3.817376698732631e-06,\n",
       "  18: 7.634753397465262e-06,\n",
       "  20: 7.634753397465262e-06,\n",
       "  26: 3.817376698732631e-06,\n",
       "  19: 7.634753397465262e-06},\n",
       " 'TRBV11-3': {4: 0.12450130491121128,\n",
       "  3: 0.11059989414706257,\n",
       "  5: 0.31709159929188035,\n",
       "  1: 0.15644334130272114,\n",
       "  2: 0.0833153870019893,\n",
       "  0: 0.09627507163323783,\n",
       "  6: 0.055140255142080194,\n",
       "  7: 0.020376690453160075,\n",
       "  8: 0.02380048546347161,\n",
       "  9: 0.004349095687405325,\n",
       "  10: 0.004219517091599292,\n",
       "  14: 0.0001916303177413173,\n",
       "  11: 0.0028416038545069624,\n",
       "  13: 0.000244556786450824,\n",
       "  12: 0.0005274396364499115,\n",
       "  15: 7.482707645137153e-05,\n",
       "  22: 7.3002025806216125e-06},\n",
       " 'TRBV5-4': {3: 0.12604186705374162,\n",
       "  0: 0.21868802574281668,\n",
       "  5: 0.07367482205627743,\n",
       "  4: 0.30698588692048057,\n",
       "  9: 0.008254490127839667,\n",
       "  2: 0.11466815900386491,\n",
       "  8: 0.003394833948339483,\n",
       "  1: 0.08634616393557301,\n",
       "  6: 0.032293943792518494,\n",
       "  7: 0.022693552054003953,\n",
       "  10: 0.0054920340672601035,\n",
       "  11: 0.0009485668316398804,\n",
       "  13: 0.0001161224882391004,\n",
       "  12: 0.0003245833406201361,\n",
       "  14: 7.205190535317675e-05,\n",
       "  17: 2.098599185043983e-06,\n",
       "  21: 6.995330616813277e-07,\n",
       "  24: 1.3990661233626554e-06,\n",
       "  18: 6.995330616813277e-07},\n",
       " 'TRBV6-5': {2: 0.1495794441065477,\n",
       "  4: 0.10255505448155494,\n",
       "  5: 0.15462476676533957,\n",
       "  7: 0.07886999046047441,\n",
       "  6: 0.22486755284603777,\n",
       "  0: 0.13925526676177116,\n",
       "  3: 0.03277060969701103,\n",
       "  11: 0.007688714891889341,\n",
       "  8: 0.055376827120482704,\n",
       "  10: 0.020110319102285442,\n",
       "  1: 0.021081320689034462,\n",
       "  12: 0.0013448907236638123,\n",
       "  9: 0.010910584591326883,\n",
       "  15: 0.0001256870163329683,\n",
       "  14: 0.0002521670106869648,\n",
       "  13: 0.0005804599113926359,\n",
       "  34: 3.9648901051409556e-07,\n",
       "  22: 2.3789340630845735e-06,\n",
       "  25: 1.5859560420563823e-06,\n",
       "  30: 3.9648901051409556e-07,\n",
       "  20: 7.929780210281911e-07,\n",
       "  18: 3.9648901051409556e-07,\n",
       "  28: 3.9648901051409556e-07},\n",
       " 'TRBV25-1': {2: 0.1143102687456991,\n",
       "  0: 0.04316008405824829,\n",
       "  5: 0.11397391231897698,\n",
       "  3: 0.16196487698303713,\n",
       "  1: 0.10528110448341516,\n",
       "  8: 0.061797007353553805,\n",
       "  6: 0.13047080642224768,\n",
       "  4: 0.16464029920292783,\n",
       "  10: 0.01613122220816451,\n",
       "  7: 0.06489673240531875,\n",
       "  9: 0.014222630924424723,\n",
       "  11: 0.006528091933308853,\n",
       "  12: 0.0015367477110790869,\n",
       "  15: 0.00014194858375429317,\n",
       "  13: 0.0005662514156285391,\n",
       "  14: 0.00035795729816300015,\n",
       "  22: 1.080043572043535e-05,\n",
       "  19: 6.171677554534486e-06,\n",
       "  23: 1.5429193886336214e-06,\n",
       "  34: 1.5429193886336214e-06},\n",
       " 'TRBV29-1': {3: 0.10956264995725017,\n",
       "  6: 0.1798688216133699,\n",
       "  1: 0.060995287163511464,\n",
       "  7: 0.16622615106519573,\n",
       "  4: 0.19534337436725807,\n",
       "  0: 0.06454426309047286,\n",
       "  5: 0.11327138305331452,\n",
       "  9: 0.006823997893572141,\n",
       "  2: 0.06158520530275463,\n",
       "  8: 0.036198607745855926,\n",
       "  11: 0.0025176546464189247,\n",
       "  10: 0.002735989444192975,\n",
       "  12: 0.00028933798404203386,\n",
       "  22: 2.1300955880395134e-05,\n",
       "  21: 2.958466094499324e-06,\n",
       "  15: 4.141852532299054e-06,\n",
       "  17: 4.141852532299054e-06,\n",
       "  19: 1.1833864377997295e-06,\n",
       "  23: 5.916932188998648e-07,\n",
       "  25: 1.1833864377997295e-06,\n",
       "  18: 1.1833864377997295e-06,\n",
       "  16: 5.916932188998648e-07},\n",
       " 'TRBV7-3': {0: 0.0788108270225688,\n",
       "  1: 0.10978230986478718,\n",
       "  4: 0.12388718102521806,\n",
       "  5: 0.3393579265701932,\n",
       "  3: 0.09315313288845567,\n",
       "  2: 0.15267801354627478,\n",
       "  8: 0.020628077278748345,\n",
       "  6: 0.05761915473244858,\n",
       "  7: 0.013732473569768314,\n",
       "  11: 0.0022781235160330908,\n",
       "  9: 0.003767713878683362,\n",
       "  10: 0.0034028142260878256,\n",
       "  14: 0.00017995051360875759,\n",
       "  12: 0.00045112594036639925,\n",
       "  13: 0.00019369673339831548,\n",
       "  15: 6.498212991427358e-05,\n",
       "  23: 1.249656344505261e-06,\n",
       "  21: 2.499312689010522e-06,\n",
       "  25: 2.499312689010522e-06,\n",
       "  22: 2.499312689010522e-06,\n",
       "  20: 2.499312689010522e-06,\n",
       "  17: 1.249656344505261e-06},\n",
       " 'TRBV5-5': {1: 0.10991714863646754,\n",
       "  2: 0.13436714238272068,\n",
       "  5: 0.06515325992728402,\n",
       "  4: 0.26927771380266624,\n",
       "  0: 0.24235641181569992,\n",
       "  3: 0.11229141597767628,\n",
       "  6: 0.03612940511772139,\n",
       "  7: 0.02176735199106361,\n",
       "  9: 0.0031570639305445935,\n",
       "  8: 0.003146281608377433,\n",
       "  11: 0.00028896623407990133,\n",
       "  13: 6.900686186982718e-05,\n",
       "  10: 0.0019300356679217289,\n",
       "  12: 0.00012076200827219756,\n",
       "  14: 2.8034037634617292e-05},\n",
       " 'TRBV12-5': {2: 0.10631690170247068,\n",
       "  0: 0.1378773231932325,\n",
       "  6: 0.15766722013289614,\n",
       "  7: 0.08559563992793164,\n",
       "  1: 0.1426176490424606,\n",
       "  3: 0.09987442632743576,\n",
       "  5: 0.13413580583933635,\n",
       "  4: 0.082836873054973,\n",
       "  8: 0.02276705280838614,\n",
       "  9: 0.01557948556545086,\n",
       "  12: 0.0033721830228248617,\n",
       "  11: 0.003985599172691099,\n",
       "  10: 0.006050659823811466,\n",
       "  13: 0.0006937062218382573,\n",
       "  14: 0.00044641280016443404,\n",
       "  15: 0.00017663815833844512,\n",
       "  27: 3.2116028788808206e-06,\n",
       "  24: 3.2116028788808206e-06},\n",
       " 'TRBV4-3': {4: 0.15566161622685215,\n",
       "  2: 0.07856490870027599,\n",
       "  0: 0.3891809504126894,\n",
       "  1: 0.19515881114455108,\n",
       "  3: 0.10660496777276895,\n",
       "  5: 0.038418648307693634,\n",
       "  6: 0.02004030018470918,\n",
       "  8: 0.007756493883930301,\n",
       "  9: 0.0014800415057457902,\n",
       "  7: 0.005192523799067412,\n",
       "  11: 0.0007168782856921428,\n",
       "  12: 0.00014746595366339874,\n",
       "  10: 0.0009429209883878634,\n",
       "  14: 7.319477992051908e-05,\n",
       "  13: 6.027805405219218e-05},\n",
       " 'TRBV5-8': {3: 0.10765486362142622,\n",
       "  10: 0.005404309069996714,\n",
       "  7: 0.03291622165626027,\n",
       "  1: 0.10765486362142622,\n",
       "  4: 0.2621770251396648,\n",
       "  5: 0.07493119454485705,\n",
       "  6: 0.045075275221820574,\n",
       "  0: 0.21517365675320407,\n",
       "  2: 0.13363149030561947,\n",
       "  9: 0.008015322050607952,\n",
       "  12: 0.0003363251725271114,\n",
       "  11: 0.0008549334538284587,\n",
       "  8: 0.00589981104173513,\n",
       "  14: 0.00012836838646072954,\n",
       "  13: 0.00013863785737758792,\n",
       "  17: 5.134735458429182e-06,\n",
       "  22: 2.567367729214591e-06},\n",
       " 'TRBV11-1': {1: 0.1421517184513324,\n",
       "  8: 0.02448839998500806,\n",
       "  5: 0.31787133165923315,\n",
       "  4: 0.12037123795959671,\n",
       "  0: 0.05823432405082268,\n",
       "  3: 0.12287301825268918,\n",
       "  2: 0.10395037667253851,\n",
       "  7: 0.030058843371687717,\n",
       "  6: 0.06878021813275365,\n",
       "  9: 0.003415351748435216,\n",
       "  10: 0.004722461676848694,\n",
       "  12: 0.00048255312769386453,\n",
       "  11: 0.0023331209474907236,\n",
       "  13: 0.00012180952737903377,\n",
       "  14: 9.838461826768112e-05,\n",
       "  20: 4.68498182227053e-06,\n",
       "  15: 4.216483640043476e-05},\n",
       " 'TRBV7-7': {5: 0.36595303051321176,\n",
       "  1: 0.18103443846750616,\n",
       "  3: 0.09257746471636945,\n",
       "  4: 0.0990407784748018,\n",
       "  0: 0.0626550964102406,\n",
       "  12: 0.010496462645848425,\n",
       "  2: 0.09257746471636945,\n",
       "  6: 0.05223570030364216,\n",
       "  7: 0.013748670602197938,\n",
       "  9: 0.0018598724805663877,\n",
       "  8: 0.018701480191330527,\n",
       "  13: 0.0008836963167332008,\n",
       "  11: 0.003935531271032743,\n",
       "  10: 0.0037505715768327706,\n",
       "  15: 0.00023119961774996532,\n",
       "  14: 0.00030826615699995375,\n",
       "  18: 5.137769283332563e-06,\n",
       "  22: 5.137769283332563e-06},\n",
       " 'TRBV6-8': {4: 0.09264177472269958,\n",
       "  6: 0.19965630370254647,\n",
       "  7: 0.09967192626152163,\n",
       "  2: 0.14607092641774722,\n",
       "  3: 0.03296359943758788,\n",
       "  10: 0.031245117950320263,\n",
       "  5: 0.12177784721137322,\n",
       "  1: 0.023043274488361194,\n",
       "  8: 0.07881581002968287,\n",
       "  11: 0.024917981565380408,\n",
       "  0: 0.10014060303077645,\n",
       "  9: 0.039837525386658336,\n",
       "  14: 0.002499609436025621,\n",
       "  12: 0.003202624589907827,\n",
       "  13: 0.0024214966411498203,\n",
       "  15: 0.0009373535385096079,\n",
       "  20: 7.811279487580065e-05,\n",
       "  18: 7.811279487580065e-05},\n",
       " 'TRBV7-4': {1: 0.16079350995056407,\n",
       "  7: 0.04956268221574344,\n",
       "  5: 0.2587146659906199,\n",
       "  6: 0.06445683863607554,\n",
       "  11: 0.012358980859424515,\n",
       "  3: 0.11313220940550132,\n",
       "  4: 0.117695525415135,\n",
       "  2: 0.10977310178729877,\n",
       "  9: 0.013246292305742173,\n",
       "  0: 0.05076689060717455,\n",
       "  8: 0.030802383065027254,\n",
       "  10: 0.011978704525288377,\n",
       "  12: 0.002091519837748764,\n",
       "  13: 0.0020281404487260744,\n",
       "  15: 0.0009506908353403474,\n",
       "  14: 0.0016478641145899354},\n",
       " 'TRBV6-9': {6: 0.15012217470983508,\n",
       "  10: 0.040470372632864994,\n",
       "  4: 0.13492669517409897,\n",
       "  7: 0.10025962125839952,\n",
       "  2: 0.12889431887599268,\n",
       "  0: 0.08078802687843617,\n",
       "  3: 0.06368356750152718,\n",
       "  5: 0.10155772755039706,\n",
       "  1: 0.04291386682956628,\n",
       "  9: 0.03611789859499084,\n",
       "  8: 0.07666463042150275,\n",
       "  11: 0.03283445326817349,\n",
       "  14: 0.002672571777642028,\n",
       "  12: 0.0038943188759926694,\n",
       "  13: 0.0030543677458766036,\n",
       "  19: 7.635919364691509e-05,\n",
       "  15: 0.0010690287110568112},\n",
       " 'TRBV3-1': {8: 0.11367380560131796,\n",
       "  2: 0.04118616144975288,\n",
       "  6: 0.07742998352553541,\n",
       "  9: 0.08072487644151564,\n",
       "  4: 0.17298187808896212,\n",
       "  7: 0.057660626029654036,\n",
       "  13: 0.036243822075782535,\n",
       "  5: 0.04612850082372323,\n",
       "  10: 0.06589785831960461,\n",
       "  11: 0.09390444810543658,\n",
       "  0: 0.03130148270181219,\n",
       "  12: 0.036243822075782535,\n",
       "  3: 0.060955518945634266,\n",
       "  1: 0.029654036243822075,\n",
       "  14: 0.032948929159802305,\n",
       "  15: 0.019769357495881382,\n",
       "  20: 0.0016474464579901153,\n",
       "  24: 0.0016474464579901153}}"
      ]
     },
     "execution_count": 25,
     "metadata": {},
     "output_type": "execute_result"
    }
   ],
   "source": [
    "v_gene_deletions"
   ]
  },
  {
   "cell_type": "code",
   "execution_count": 21,
   "metadata": {},
   "outputs": [],
   "source": [
    "trbv112 = v_gene_deletions['TRBV11-2']"
   ]
  },
  {
   "cell_type": "code",
   "execution_count": 22,
   "metadata": {},
   "outputs": [
    {
     "data": {
      "text/plain": [
       "{0: 0.10246597858625187,\n",
       " 1: 0.1634565940019467,\n",
       " 2: 0.0933775320930745,\n",
       " 3: 0.112136752921587,\n",
       " 4: 0.11934047737109205,\n",
       " 5: 0.2780749358750681,\n",
       " 6: 0.0668108329813349,\n",
       " 7: 0.030956731740463903,\n",
       " 8: 0.0216769817511769,\n",
       " 9: 0.0034113239426273164,\n",
       " 10: 0.004691526938593108,\n",
       " 11: 0.0026476403861575852,\n",
       " 12: 0.0006014581917687462,\n",
       " 13: 0.00019283392407852933,\n",
       " 14: 0.00011019081375915961,\n",
       " 15: 4.361719711300068e-05,\n",
       " 16: 7.652139844386084e-07,\n",
       " 18: 7.652139844386084e-07,\n",
       " 21: 7.652139844386084e-07,\n",
       " 22: 7.652139844386084e-07,\n",
       " 25: 1.5304279688772168e-06}"
      ]
     },
     "execution_count": 22,
     "metadata": {},
     "output_type": "execute_result"
    }
   ],
   "source": [
    "trbv112 = {int(k): v for k,v in trbv112.items()}\n",
    "trbv112 = dict(sorted(trbv112.items()))\n",
    "trbv112"
   ]
  },
  {
   "cell_type": "code",
   "execution_count": 23,
   "metadata": {},
   "outputs": [
    {
     "data": {
      "image/png": "[encoded data removed]",
      "text/plain": [
       "<Figure size 1000x500 with 1 Axes>"
      ]
     },
     "metadata": {},
     "output_type": "display_data"
    }
   ],
   "source": [
    "fig = plt.figure(figsize = (10,5))\n",
    "plt.bar(trbv112.keys(), trbv112.values())\n",
    "plt.show()"
   ]
  },
  {
   "cell_type": "code",
   "execution_count": 24,
   "metadata": {},
   "outputs": [
    {
     "data": {
      "text/plain": [
       "28"
      ]
     },
     "execution_count": 24,
     "metadata": {},
     "output_type": "execute_result"
    }
   ],
   "source": [
    "len(v_gene_deletions)"
   ]
  },
  {
   "cell_type": "markdown",
   "metadata": {},
   "source": [
    "# Specific J gene deletions "
   ]
  },
  {
   "cell_type": "code",
   "execution_count": 6,
   "metadata": {},
   "outputs": [],
   "source": [
    "j_genes_deletions = data.loc[:,['j', 'j_deletions']]"
   ]
  },
  {
   "cell_type": "code",
   "execution_count": 7,
   "metadata": {},
   "outputs": [],
   "source": [
    "@numba.jit(forceobj=True)\n",
    "def create_list(data):\n",
    "    result = []\n",
    "    for i in tqdm(range(len(data)),position=0, leave=True):\n",
    "        result.append((data[i, 0], data[i, 1]))\n",
    "    return result "
   ]
  },
  {
   "cell_type": "code",
   "execution_count": 8,
   "metadata": {
    "scrolled": true
   },
   "outputs": [
    {
     "data": {
      "text/html": [
       "<div>\n",
       "<style scoped>\n",
       "    .dataframe tbody tr th:only-of-type {\n",
       "        vertical-align: middle;\n",
       "    }\n",
       "\n",
       "    .dataframe tbody tr th {\n",
       "        vertical-align: top;\n",
       "    }\n",
       "\n",
       "    .dataframe thead th {\n",
       "        text-align: right;\n",
       "    }\n",
       "</style>\n",
       "<table border=\"1\" class=\"dataframe\">\n",
       "  <thead>\n",
       "    <tr style=\"text-align: right;\">\n",
       "      <th></th>\n",
       "      <th>j</th>\n",
       "      <th>j_deletions</th>\n",
       "    </tr>\n",
       "  </thead>\n",
       "  <tbody>\n",
       "    <tr>\n",
       "      <th>0</th>\n",
       "      <td>TRBJ2-3</td>\n",
       "      <td>4</td>\n",
       "    </tr>\n",
       "    <tr>\n",
       "      <th>1</th>\n",
       "      <td>TRBJ2-2</td>\n",
       "      <td>0</td>\n",
       "    </tr>\n",
       "    <tr>\n",
       "      <th>2</th>\n",
       "      <td>TRBJ2-7</td>\n",
       "      <td>3</td>\n",
       "    </tr>\n",
       "    <tr>\n",
       "      <th>3</th>\n",
       "      <td>TRBJ1-4</td>\n",
       "      <td>7</td>\n",
       "    </tr>\n",
       "    <tr>\n",
       "      <th>4</th>\n",
       "      <td>TRBJ2-2</td>\n",
       "      <td>0</td>\n",
       "    </tr>\n",
       "    <tr>\n",
       "      <th>...</th>\n",
       "      <td>...</td>\n",
       "      <td>...</td>\n",
       "    </tr>\n",
       "    <tr>\n",
       "      <th>26427239</th>\n",
       "      <td>TRBJ2-3</td>\n",
       "      <td>3</td>\n",
       "    </tr>\n",
       "    <tr>\n",
       "      <th>26427240</th>\n",
       "      <td>TRBJ2-4</td>\n",
       "      <td>6</td>\n",
       "    </tr>\n",
       "    <tr>\n",
       "      <th>26427241</th>\n",
       "      <td>TRBJ2-7</td>\n",
       "      <td>2</td>\n",
       "    </tr>\n",
       "    <tr>\n",
       "      <th>26427242</th>\n",
       "      <td>TRBJ1-1</td>\n",
       "      <td>2</td>\n",
       "    </tr>\n",
       "    <tr>\n",
       "      <th>26427243</th>\n",
       "      <td>TRBJ2-6</td>\n",
       "      <td>15</td>\n",
       "    </tr>\n",
       "  </tbody>\n",
       "</table>\n",
       "<p>26427244 rows × 2 columns</p>\n",
       "</div>"
      ],
      "text/plain": [
       "                j  j_deletions\n",
       "0         TRBJ2-3            4\n",
       "1         TRBJ2-2            0\n",
       "2         TRBJ2-7            3\n",
       "3         TRBJ1-4            7\n",
       "4         TRBJ2-2            0\n",
       "...           ...          ...\n",
       "26427239  TRBJ2-3            3\n",
       "26427240  TRBJ2-4            6\n",
       "26427241  TRBJ2-7            2\n",
       "26427242  TRBJ1-1            2\n",
       "26427243  TRBJ2-6           15\n",
       "\n",
       "[26427244 rows x 2 columns]"
      ]
     },
     "execution_count": 8,
     "metadata": {},
     "output_type": "execute_result"
    }
   ],
   "source": [
    "j_genes_deletions"
   ]
  },
  {
   "cell_type": "code",
   "execution_count": 9,
   "metadata": {},
   "outputs": [
    {
     "name": "stderr",
     "output_type": "stream",
     "text": [
      "100%|██████████| 26427244/26427244 [00:14<00:00, 1800166.62it/s]\n"
     ]
    }
   ],
   "source": [
    "j_genes_deletions_list = create_list(j_genes_deletions.to_numpy())"
   ]
  },
  {
   "cell_type": "code",
   "execution_count": 10,
   "metadata": {},
   "outputs": [
    {
     "name": "stderr",
     "output_type": "stream",
     "text": [
      "100%|██████████| 26427244/26427244 [00:14<00:00, 1809524.42it/s]\n"
     ]
    }
   ],
   "source": [
    "gene_deletion_list = {}\n",
    "for i in tqdm(j_genes_deletions_list, total = data.shape[0], position=0, leave=True):\n",
    "    key = str(i[0])\n",
    "    value = i[1]\n",
    "    if key not in gene_deletion_list.keys():\n",
    "        gene_deletion_list[key] = [value]\n",
    "    else:\n",
    "        gene_deletion_list[key].append(value)"
   ]
  },
  {
   "cell_type": "code",
   "execution_count": 13,
   "metadata": {},
   "outputs": [
    {
     "name": "stderr",
     "output_type": "stream",
     "text": [
      "100%|██████████| 12/12 [00:07<00:00,  1.56it/s]\n"
     ]
    }
   ],
   "source": [
    "j_gene_deletions = {}\n",
    "for i in tqdm(gene_deletion_list.keys(), total = len(gene_deletion_list), position = 0, leave = True):\n",
    "    gene_count = {}\n",
    "    total = 0\n",
    "    for j in gene_deletion_list[i]:\n",
    "        key = j\n",
    "        if key not in gene_count.keys():\n",
    "            gene_count[key] = 1\n",
    "        else:\n",
    "            gene_count[key] += 1\n",
    "        total += 1\n",
    "    gene_count.update((x, y/total) for x, y in gene_count.items())\n",
    "    j_gene_deletions[i] = gene_count"
   ]
  },
  {
   "cell_type": "code",
   "execution_count": 14,
   "metadata": {},
   "outputs": [
    {
     "data": {
      "text/plain": [
       "{'TRBJ2-3': {4: 0.1524070393057349,\n",
       "  7: 0.028599800434534382,\n",
       "  6: 0.1110908696565281,\n",
       "  2: 0.17865061985253605,\n",
       "  1: 0.10342344485190874,\n",
       "  0: 0.14708449153599756,\n",
       "  3: 0.11176834732227899,\n",
       "  5: 0.10368604908155546,\n",
       "  15: 0.0009218645862728795,\n",
       "  8: 0.023589696702426444,\n",
       "  9: 0.012564100008214975,\n",
       "  11: 0.006760684022148123,\n",
       "  12: 0.0023221913291795577,\n",
       "  10: 0.009227926378697985,\n",
       "  14: 0.003461632456507893,\n",
       "  18: 0.0006011712011153117,\n",
       "  17: 0.0007761261132752281,\n",
       "  19: 0.00023304406767077267,\n",
       "  13: 0.0016203093436578501,\n",
       "  16: 0.0010366680060398972,\n",
       "  21: 0.00017392374371889523},\n",
       " 'TRBJ2-2': {0: 0.10093451764342862,\n",
       "  7: 0.10195940137973596,\n",
       "  1: 0.0965825186693142,\n",
       "  2: 0.08566545310280295,\n",
       "  4: 0.15720444176396217,\n",
       "  3: 0.0974721538187188,\n",
       "  6: 0.1517233675495561,\n",
       "  5: 0.14223643055936813,\n",
       "  14: 0.000921193153015242,\n",
       "  13: 0.0030295683466210897,\n",
       "  8: 0.03525830476415652,\n",
       "  10: 0.005773611898669755,\n",
       "  9: 0.013122118453717933,\n",
       "  18: 0.0011080365712178985,\n",
       "  11: 0.0029228722391756046,\n",
       "  12: 0.0012507989685041105,\n",
       "  15: 0.0008721029251764743,\n",
       "  23: 0.00017732592505024234,\n",
       "  16: 0.0005735541926060098,\n",
       "  20: 0.00031858556025975745,\n",
       "  19: 0.0006096204824467371,\n",
       "  17: 0.0002830201911112625,\n",
       "  21: 1.001841384464646e-06},\n",
       " 'TRBJ2-7': {3: 0.1693805797719606,\n",
       "  4: 0.1237487427041493,\n",
       "  0: 0.12494526025484076,\n",
       "  5: 0.11050732108498397,\n",
       "  1: 0.07357551963973687,\n",
       "  6: 0.10794167168406753,\n",
       "  2: 0.16983381504309072,\n",
       "  9: 0.014366654766295162,\n",
       "  17: 0.012441386742829044,\n",
       "  7: 0.06776279692506969,\n",
       "  15: 0.0023504215598598504,\n",
       "  14: 0.0022907233265740796,\n",
       "  11: 0.0028537326516737695,\n",
       "  10: 0.004203226925160017,\n",
       "  16: 0.0011421214631251475,\n",
       "  8: 0.006411079677896611,\n",
       "  12: 0.00450643111000617,\n",
       "  13: 0.0014404162537866158,\n",
       "  19: 0.0002980984148940808},\n",
       " 'TRBJ1-4': {7: 0.1532228924255055,\n",
       "  8: 0.2049078743426954,\n",
       "  0: 0.1048113587306216,\n",
       "  6: 0.08348124998018973,\n",
       "  2: 0.045722092090791235,\n",
       "  4: 0.10399834544665017,\n",
       "  1: 0.024870599347687587,\n",
       "  9: 0.00681948569381888,\n",
       "  3: 0.07767525745420659,\n",
       "  5: 0.11869835463861322,\n",
       "  10: 0.029300967057906198,\n",
       "  11: 0.014596203402294188,\n",
       "  13: 0.006900311575851128,\n",
       "  15: 0.0024327005670490313,\n",
       "  14: 0.006199820598238313,\n",
       "  16: 0.0015071649767189764,\n",
       "  17: 0.0009176114842484619,\n",
       "  20: 0.000823314621877506,\n",
       "  12: 0.010058067849365913,\n",
       "  19: 0.0009184038948566212,\n",
       "  18: 0.001932689473300517,\n",
       "  23: 0.00020364952629693843,\n",
       "  21: 1.584821216318587e-06},\n",
       " 'TRBJ1-3': {0: 0.3318845066136386,\n",
       "  3: 0.09306735365258591,\n",
       "  1: 0.07858293413644926,\n",
       "  4: 0.19595888578159515,\n",
       "  2: 0.13881348017482462,\n",
       "  8: 0.0378024145946031,\n",
       "  5: 0.02744830553383948,\n",
       "  7: 0.035382573154031406,\n",
       "  6: 0.025599320009864056,\n",
       "  10: 0.00495616267294888,\n",
       "  11: 0.005401094490295974,\n",
       "  18: 0.002135462849767303,\n",
       "  9: 0.014267200444931818,\n",
       "  17: 0.001212019455273334,\n",
       "  13: 0.000974862401687383,\n",
       "  15: 0.001212019455273334,\n",
       "  14: 0.0014743613287091207,\n",
       "  12: 0.0017230614247262463,\n",
       "  20: 0.00017524437145510544,\n",
       "  19: 0.0008153585426384247,\n",
       "  16: 0.000996899119055989,\n",
       "  22: 0.00011647979180548924},\n",
       " 'TRBJ1-5': {5: 0.1187805314990688,\n",
       "  7: 0.12267485689346093,\n",
       "  0: 0.12681565857863736,\n",
       "  4: 0.13825396195608394,\n",
       "  6: 0.12168233895179044,\n",
       "  10: 0.010179470809392068,\n",
       "  1: 0.07244178650824853,\n",
       "  3: 0.10937235113132618,\n",
       "  2: 0.09957702263854673,\n",
       "  11: 0.013065648058307873,\n",
       "  9: 0.03465817345438325,\n",
       "  12: 0.003299175326400737,\n",
       "  8: 0.01882297351401849,\n",
       "  16: 0.001042414361512186,\n",
       "  13: 0.0018004792460951542,\n",
       "  15: 0.002227905204016241,\n",
       "  17: 0.003379129830484428,\n",
       "  14: 0.0008524472691028142,\n",
       "  18: 0.0003937609035700588,\n",
       "  19: 0.0005139932405380156,\n",
       "  22: 0.0001653194633309407,\n",
       "  20: 6.011616848397844e-07},\n",
       " 'TRBJ1-2': {0: 0.07197301116205027,\n",
       "  8: 0.14933175785323355,\n",
       "  3: 0.08869603312210382,\n",
       "  10: 0.011152794831767109,\n",
       "  2: 0.09607631411700099,\n",
       "  5: 0.09818902059024971,\n",
       "  1: 0.046674523499540314,\n",
       "  6: 0.1002178111521778,\n",
       "  4: 0.2009582456638304,\n",
       "  7: 0.09840683174242751,\n",
       "  12: 0.004653322391356661,\n",
       "  13: 0.004622470953371136,\n",
       "  9: 0.010541010816514158,\n",
       "  11: 0.004473149993521198,\n",
       "  15: 0.006863519408639637,\n",
       "  16: 0.002655074753034239,\n",
       "  14: 0.0031203144378559484,\n",
       "  17: 0.0011047899942616326,\n",
       "  20: 0.0002884609451646541,\n",
       "  18: 1.5425718992762254e-06},\n",
       " 'TRBJ1-1': {7: 0.058792079762581065,\n",
       "  6: 0.07405255012423811,\n",
       "  2: 0.07296694534692443,\n",
       "  8: 0.04148359096957397,\n",
       "  3: 0.10012718871601944,\n",
       "  4: 0.1446554768516265,\n",
       "  0: 0.13662548239658676,\n",
       "  1: 0.1709533823577802,\n",
       "  5: 0.12232796957913507,\n",
       "  10: 0.025025474455790297,\n",
       "  11: 0.029184330633009292,\n",
       "  9: 0.011392595424850287,\n",
       "  12: 0.004567317694134117,\n",
       "  16: 0.0010962106356090877,\n",
       "  13: 0.002378703654098906,\n",
       "  15: 0.0010744550288492942,\n",
       "  17: 0.001191663360267681,\n",
       "  14: 0.0018051714708938536,\n",
       "  20: 0.00029777986752467153,\n",
       "  18: 1.6316705069845017e-06},\n",
       " 'TRBJ2-1': {2: 0.06540009907738377,\n",
       "  6: 0.10839612489320556,\n",
       "  5: 0.10150815789561907,\n",
       "  7: 0.11983489509582423,\n",
       "  4: 0.11503136977706557,\n",
       "  12: 0.01595708056445742,\n",
       "  9: 0.08192167832239966,\n",
       "  8: 0.10459162556279022,\n",
       "  3: 0.06750903932846061,\n",
       "  10: 0.04992009597251209,\n",
       "  0: 0.09922875915763078,\n",
       "  1: 0.03862625416572433,\n",
       "  11: 0.005993382290936276,\n",
       "  15: 0.008807107783660588,\n",
       "  14: 0.005255330566971747,\n",
       "  16: 0.0020978514236378214,\n",
       "  17: 0.003133754210208581,\n",
       "  13: 0.006787393911511673},\n",
       " 'TRBJ1-6': {9: 0.11900466411509097,\n",
       "  18: 0.0021272969161942414,\n",
       "  8: 0.10800625128667152,\n",
       "  0: 0.071634122639442,\n",
       "  4: 0.04596046016907694,\n",
       "  10: 0.11900466411509097,\n",
       "  5: 0.07972825497457647,\n",
       "  7: 0.19729295379936115,\n",
       "  1: 0.01616391475759662,\n",
       "  6: 0.09948820910819552,\n",
       "  11: 0.023183330492510187,\n",
       "  22: 0.0007238564948964796,\n",
       "  2: 0.02207762309434263,\n",
       "  13: 0.021281823675641454,\n",
       "  12: 0.011379156917478145,\n",
       "  3: 0.030058860379814364,\n",
       "  14: 0.01810194644347389,\n",
       "  16: 0.002820162613144083,\n",
       "  15: 0.004928643687727865,\n",
       "  20: 0.0022855713485645727,\n",
       "  21: 0.0010304440317257227,\n",
       "  17: 0.0015108013998986157,\n",
       "  19: 0.0019324976148153723,\n",
       "  25: 0.0002744899246702247},\n",
       " 'TRBJ2-4': {12: 0.03733025483599445,\n",
       "  5: 0.0734721958007698,\n",
       "  3: 0.07314123996382939,\n",
       "  8: 0.10422242317003573,\n",
       "  10: 0.01468714249603244,\n",
       "  0: 0.19654086001610477,\n",
       "  11: 0.011286375825109385,\n",
       "  1: 0.09124478483961672,\n",
       "  7: 0.09018155663905227,\n",
       "  4: 0.051848010486348725,\n",
       "  6: 0.10434750884069037,\n",
       "  17: 0.004099161665411467,\n",
       "  16: 0.0033199821752919315,\n",
       "  9: 0.056538723135897764,\n",
       "  2: 0.06266792099797518,\n",
       "  19: 0.0016052661067345604,\n",
       "  13: 0.007955969843929567,\n",
       "  15: 0.008406799448580669,\n",
       "  18: 0.0024756538983731046,\n",
       "  14: 0.004265942559617655,\n",
       "  22: 0.00024495943836533876,\n",
       "  20: 0.000117267816238726},\n",
       " 'TRBJ2-6': {1: 0.12468896225183841,\n",
       "  2: 0.17755093744584252,\n",
       "  0: 0.3740305143275273,\n",
       "  6: 0.010049487897609476,\n",
       "  15: 0.035142184100114035,\n",
       "  3: 0.07341881567095362,\n",
       "  4: 0.14872257893351762,\n",
       "  21: 0.0004043758170424081,\n",
       "  14: 0.0008429845074852318,\n",
       "  10: 0.003365519366178349,\n",
       "  5: 0.014140316268959128,\n",
       "  7: 0.006512804164429049,\n",
       "  13: 0.0029269106757355253,\n",
       "  12: 0.006540618374066887,\n",
       "  9: 0.006014287945535498,\n",
       "  8: 0.0068979239901837235,\n",
       "  22: 0.0006974947955334658,\n",
       "  11: 0.0036137076983313613,\n",
       "  25: 0.0003080958606037395,\n",
       "  18: 0.0010419630841251469,\n",
       "  16: 0.0006568432583704724,\n",
       "  20: 0.001444199346580029,\n",
       "  17: 0.0005113535464187066,\n",
       "  19: 0.00047712067301829104}}"
      ]
     },
     "execution_count": 14,
     "metadata": {},
     "output_type": "execute_result"
    }
   ],
   "source": [
    "j_gene_deletions"
   ]
  },
  {
   "cell_type": "code",
   "execution_count": null,
   "metadata": {},
   "outputs": [],
   "source": []
  }
 ],
 "metadata": {
  "kernelspec": {
   "display_name": "Python (module anaconda)",
   "language": "python",
   "name": "python3"
  },
  "language_info": {
   "codemirror_mode": {
    "name": "ipython",
    "version": 3
   },
   "file_extension": ".py",
   "mimetype": "text/x-python",
   "name": "python",
   "nbconvert_exporter": "python",
   "pygments_lexer": "ipython3",
   "version": "3.10.8"
  }
 },
 "nbformat": 4,
 "nbformat_minor": 5
}
