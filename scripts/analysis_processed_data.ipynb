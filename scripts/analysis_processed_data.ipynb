{
 "cells": [
  {
   "cell_type": "markdown",
   "metadata": {},
   "source": [
    "This notebook contains the analysis of the processed emerson data: distributions of V- and J- gene combinations, deletions on V- gene and J-gene, CDR3 length, and deletions on invidual V- and J- genes. The figures are saved on `figures` directory locating on the same root as this notebook."
   ]
  },
  {
   "cell_type": "code",
   "execution_count": 7,
   "metadata": {},
   "outputs": [],
   "source": [
    "import numpy as np\n",
    "import numba\n",
    "import matplotlib.pyplot as plt\n",
    "import pandas as pd \n",
    "import os \n",
    "from tqdm import tqdm "
   ]
  },
  {
   "cell_type": "code",
   "execution_count": 8,
   "metadata": {},
   "outputs": [],
   "source": [
    "# Location of the processed emerson data \n",
    "# Use process_data.py script to process the pure emerson data\n",
    "data_path = os.path.join(os.getcwd(), os.pardir, \"data\", \"emerson\", \"emerson_processed\")"
   ]
  },
  {
   "cell_type": "markdown",
   "metadata": {},
   "source": [
    "If the `whole_data_flag` is set `True`, the whole dataset is utilised for the analysis. Otherwise the trainset is utilised.  "
   ]
  },
  {
   "cell_type": "code",
   "execution_count": 9,
   "metadata": {},
   "outputs": [],
   "source": [
    "whole_data_flag = False"
   ]
  },
  {
   "cell_type": "code",
   "execution_count": 10,
   "metadata": {},
   "outputs": [],
   "source": [
    "if whole_data_flag:\n",
    "    whole_data = pd.read_csv(os.path.join(data_path, \"whole_seqs_nn.tsv\"), sep = '\\t')\n",
    "    data = whole_data\n",
    "else:\n",
    "    train_data = pd.read_csv(os.path.join(data_path, \"whole_seqs_nn_train.tsv\"), sep = '\\t')\n",
    "    data = train_data"
   ]
  },
  {
   "cell_type": "code",
   "execution_count": 11,
   "metadata": {},
   "outputs": [
    {
     "data": {
      "text/plain": [
       "26427244"
      ]
     },
     "execution_count": 11,
     "metadata": {},
     "output_type": "execute_result"
    }
   ],
   "source": [
    "len(data)"
   ]
  },
  {
   "cell_type": "markdown",
   "metadata": {},
   "source": [
    "# V- and J-gene combinations distribution"
   ]
  },
  {
   "cell_type": "code",
   "execution_count": null,
   "metadata": {},
   "outputs": [],
   "source": [
    "v_genes = data.loc[:,\"v\"]\n",
    "j_genes = data.loc[:,\"j\"]"
   ]
  },
  {
   "cell_type": "code",
   "execution_count": null,
   "metadata": {},
   "outputs": [],
   "source": [
    "@numba.jit(forceobj=True)\n",
    "def create_combinations(data):\n",
    "    result = []\n",
    "    for i in tqdm(range(len(data)),position=0, leave=True):\n",
    "        result.append(f'{data[i, 3]}, {data[i, 6]}')\n",
    "    return result "
   ]
  },
  {
   "cell_type": "code",
   "execution_count": null,
   "metadata": {},
   "outputs": [],
   "source": [
    "v_j_combinations = create_combinations(data.to_numpy())"
   ]
  },
  {
   "cell_type": "code",
   "execution_count": null,
   "metadata": {},
   "outputs": [],
   "source": [
    "gene_count = {}\n",
    "for comb in tqdm(v_j_combinations, total = data.shape[0], position=0, leave=True):\n",
    "    key = str(comb)\n",
    "    if key not in gene_count.keys():\n",
    "        gene_count[key] = 1\n",
    "    else:\n",
    "        gene_count[key] += 1\n",
    "gene_count.update((x, y/data.shape[0]) for x, y in gene_count.items())"
   ]
  },
  {
   "cell_type": "code",
   "execution_count": null,
   "metadata": {},
   "outputs": [],
   "source": [
    "gene_count_sorted = dict(sorted(gene_count.items(), key = lambda x: x[1], reverse= True))"
   ]
  },
  {
   "cell_type": "code",
   "execution_count": null,
   "metadata": {},
   "outputs": [],
   "source": [
    "sum(gene_count_sorted.values())\n"
   ]
  },
  {
   "cell_type": "code",
   "execution_count": null,
   "metadata": {},
   "outputs": [],
   "source": [
    "fig = plt.figure(figsize=(50,50))\n",
    "plt.bar(x=list(gene_count_sorted.keys()), height= list(gene_count_sorted.values()), align='edge')\n",
    "plt.xticks(rotation=-90)\n",
    "plt.show"
   ]
  },
  {
   "cell_type": "markdown",
   "metadata": {},
   "source": [
    "### Latex codes generation for the tables\n",
    "\n",
    "The table is divided in to seven parts to fit the tables on pages of the latex document.\n",
    "\n",
    "To use the tables just copy the printed latex codes and paste them to your document. You may need to add following lines around the printed latex codes:\n",
    "\n",
    "<code>\\begin{table}[]\n",
    "\\centering\n",
    "\\caption{Your caption}    \n",
    "%%% Paste the printed table here%%% \n",
    "\\end{table}\n",
    "</code>"
   ]
  },
  {
   "cell_type": "code",
   "execution_count": null,
   "metadata": {},
   "outputs": [],
   "source": [
    "indx = int(len(gene_count_sorted)/7)"
   ]
  },
  {
   "cell_type": "code",
   "execution_count": null,
   "metadata": {},
   "outputs": [],
   "source": [
    "def gene_combination(begin_indx, end_indx):\n",
    "    print(pd.DataFrame(data={'gene combination': list(gene_count_sorted.keys())[begin_indx:end_indx], 'fraction (%)': [f'{i*100:.3}'for i in list(gene_count_sorted.values())[begin_indx:end_indx]]}).to_latex(index=False))"
   ]
  },
  {
   "cell_type": "code",
   "execution_count": null,
   "metadata": {},
   "outputs": [],
   "source": [
    "gene_combination(0, indx)\n",
    "gene_combination(indx, 2*indx)\n",
    "gene_combination(2*indx, 3*indx)\n",
    "gene_combination(3*indx, 4*indx)\n",
    "gene_combination(4*indx, 5*indx)\n",
    "gene_combination(5*indx, 6*indx)\n",
    "gene_combination(6*indx, len(gene_count_sorted))"
   ]
  },
  {
   "cell_type": "markdown",
   "metadata": {},
   "source": [
    "# distribution of deletions of v gene  "
   ]
  },
  {
   "cell_type": "code",
   "execution_count": null,
   "metadata": {},
   "outputs": [],
   "source": [
    "v_deletions= data.loc[:,\"v_deletions\"]"
   ]
  },
  {
   "cell_type": "code",
   "execution_count": null,
   "metadata": {},
   "outputs": [],
   "source": [
    "v_deletion_count = {}\n",
    "for comb in tqdm(v_deletions, total = data.shape[0], position=0, leave=True):\n",
    "    key = str(comb)\n",
    "    if key not in v_deletion_count.keys():\n",
    "        v_deletion_count[key] = 1\n",
    "    else:\n",
    "        v_deletion_count[key] += 1\n",
    "v_deletion_count.update((x, y/data.shape[0]) for x, y in v_deletion_count.items())"
   ]
  },
  {
   "cell_type": "code",
   "execution_count": null,
   "metadata": {},
   "outputs": [],
   "source": [
    "v_deletion_count_sorted = dict(sorted(v_deletion_count.items(), key= lambda x: x[1], reverse=True))\n",
    "v_deletion_count_sorted"
   ]
  },
  {
   "cell_type": "code",
   "execution_count": null,
   "metadata": {},
   "outputs": [],
   "source": [
    "sum(list(v_deletion_count_sorted.values()))"
   ]
  },
  {
   "cell_type": "code",
   "execution_count": null,
   "metadata": {},
   "outputs": [],
   "source": [
    "print(pd.DataFrame(data={'number of deletions': list(v_deletion_count_sorted.keys()), 'fraction (%)': [f'{i *100:.3}' for i in v_deletion_count_sorted.values()]}).to_latex(index=False))"
   ]
  },
  {
   "cell_type": "code",
   "execution_count": null,
   "metadata": {},
   "outputs": [],
   "source": [
    "sum(list(v_deletion_count_sorted.values())[:11])"
   ]
  },
  {
   "cell_type": "code",
   "execution_count": null,
   "metadata": {},
   "outputs": [],
   "source": [
    "list(v_deletion_count_sorted.keys())[:11]"
   ]
  },
  {
   "cell_type": "code",
   "execution_count": null,
   "metadata": {},
   "outputs": [],
   "source": [
    "v_deletion_count_sorted = {int(k):v for k,v in v_deletion_count_sorted.items()}\n",
    "v_deletion_count_sorted = dict(sorted(v_deletion_count_sorted.items(), reverse=False))"
   ]
  },
  {
   "cell_type": "code",
   "execution_count": null,
   "metadata": {},
   "outputs": [],
   "source": [
    "fig = plt.figure(figsize = (10,5))\n",
    "plt.bar(v_deletion_count_sorted.keys(), v_deletion_count_sorted.values())\n",
    "plt.title(\"Deletions on V gene\")\n",
    "plt.xlabel(\"No. of deletions\")\n",
    "plt.ylabel(\"Fraction of the train set\")\n",
    "plt.show\n",
    "plt.savefig(os.path.join(\"figures\", \"V_deletion_train.png\"))"
   ]
  },
  {
   "cell_type": "markdown",
   "metadata": {},
   "source": [
    "# distribution of deletions on J - genes  "
   ]
  },
  {
   "cell_type": "code",
   "execution_count": null,
   "metadata": {},
   "outputs": [],
   "source": [
    "j_deletions = data.loc[:,\"j_deletions\"]"
   ]
  },
  {
   "cell_type": "code",
   "execution_count": null,
   "metadata": {},
   "outputs": [],
   "source": [
    "j_deletion_count = {}\n",
    "for comb in tqdm(j_deletions, total = data.shape[0], position=0, leave=True):\n",
    "    key = str(comb)\n",
    "    if key not in j_deletion_count.keys():\n",
    "        j_deletion_count[key] = 1\n",
    "    else:\n",
    "        j_deletion_count[key] += 1\n",
    "j_deletion_count.update((x, y/data.shape[0]) for x, y in j_deletion_count.items())"
   ]
  },
  {
   "cell_type": "code",
   "execution_count": null,
   "metadata": {},
   "outputs": [],
   "source": [
    "j_deletion_count_sorted = dict(sorted(j_deletion_count.items(), key= lambda x: x[1], reverse=True))\n",
    "j_deletion_count_sorted"
   ]
  },
  {
   "cell_type": "code",
   "execution_count": null,
   "metadata": {},
   "outputs": [],
   "source": [
    "print(pd.DataFrame(data={'number of deletions': list(j_deletion_count_sorted.keys()), 'fraction (%)': [f'{i *100:.3}' for i in j_deletion_count_sorted.values()]}).to_latex(index=False))"
   ]
  },
  {
   "cell_type": "code",
   "execution_count": null,
   "metadata": {},
   "outputs": [],
   "source": [
    "sum(list(j_deletion_count_sorted.values())[:12])"
   ]
  },
  {
   "cell_type": "code",
   "execution_count": null,
   "metadata": {},
   "outputs": [],
   "source": [
    "list(j_deletion_count_sorted.keys())[:12]"
   ]
  },
  {
   "cell_type": "code",
   "execution_count": null,
   "metadata": {},
   "outputs": [],
   "source": [
    "j_deletion_count_sorted = {int(k):v for k,v in j_deletion_count_sorted.items()}\n",
    "j_deletion_count_sorted = dict(sorted(j_deletion_count_sorted.items(), reverse=False))"
   ]
  },
  {
   "cell_type": "code",
   "execution_count": null,
   "metadata": {},
   "outputs": [],
   "source": [
    "fig = plt.figure(figsize = (10,5))\n",
    "plt.bar(j_deletion_count_sorted.keys(), j_deletion_count_sorted.values())\n",
    "plt.title(\"Deletions on J gene\")\n",
    "plt.xlabel(\"No. of deletions\")\n",
    "plt.ylabel(\"Fraction of the train set\")\n",
    "plt.show\n",
    "plt.savefig(os.path.join(\"figures\", \"J_deletion_train.png\"))"
   ]
  },
  {
   "cell_type": "markdown",
   "metadata": {},
   "source": [
    "# Distribution of Lengths of cdr3 sequences "
   ]
  },
  {
   "cell_type": "code",
   "execution_count": null,
   "metadata": {},
   "outputs": [],
   "source": [
    "cdr3 = data.loc[:, 'seq']"
   ]
  },
  {
   "cell_type": "code",
   "execution_count": null,
   "metadata": {},
   "outputs": [],
   "source": [
    "@numba.jit(forceobj=True)\n",
    "def count_seq_len(data):\n",
    "    result = []\n",
    "    for i in tqdm(range(len(data)),position=0, leave=True):\n",
    "        result.append(len(data[i]))\n",
    "    return result"
   ]
  },
  {
   "cell_type": "code",
   "execution_count": null,
   "metadata": {},
   "outputs": [],
   "source": [
    "cdr3_lengths = count_seq_len(cdr3.to_numpy())"
   ]
  },
  {
   "cell_type": "code",
   "execution_count": null,
   "metadata": {},
   "outputs": [],
   "source": [
    "cdr3_len_count = {}\n",
    "for len_ in tqdm(cdr3_lengths, total = data.shape[0], position=0, leave=True):\n",
    "    key = str(len_)\n",
    "    if key not in cdr3_len_count.keys():\n",
    "        cdr3_len_count[key] = 1\n",
    "    else:\n",
    "        cdr3_len_count[key] += 1\n",
    "cdr3_len_count.update((x, y/data.shape[0]) for x, y in cdr3_len_count.items())"
   ]
  },
  {
   "cell_type": "code",
   "execution_count": null,
   "metadata": {},
   "outputs": [],
   "source": [
    "cdr3_len_count"
   ]
  },
  {
   "cell_type": "code",
   "execution_count": null,
   "metadata": {},
   "outputs": [],
   "source": [
    "sum(list(cdr3_len_count.values()))"
   ]
  },
  {
   "cell_type": "code",
   "execution_count": null,
   "metadata": {},
   "outputs": [],
   "source": [
    "sorted_cdr3_len = dict(sorted(cdr3_len_count.items(), key = lambda x: x[1], reverse = True))"
   ]
  },
  {
   "cell_type": "code",
   "execution_count": null,
   "metadata": {},
   "outputs": [],
   "source": [
    "sum(list(sorted_cdr3_len.values())[:9])"
   ]
  },
  {
   "cell_type": "code",
   "execution_count": null,
   "metadata": {},
   "outputs": [],
   "source": [
    "list(sorted_cdr3_len.keys())[:9]"
   ]
  },
  {
   "cell_type": "code",
   "execution_count": null,
   "metadata": {},
   "outputs": [],
   "source": [
    "print(pd.DataFrame(data={'len of cdr3': sorted_cdr3_len.keys(), 'fraction (%)': [f'{i*100:.3}'for i in sorted_cdr3_len.values()]}).to_latex(index=False))"
   ]
  },
  {
   "cell_type": "code",
   "execution_count": null,
   "metadata": {},
   "outputs": [],
   "source": [
    "sorted_cdr3_len = {int(k):v for k,v in sorted_cdr3_len.items()}\n",
    "sorted_cdr3_len= dict(sorted(sorted_cdr3_len.items(), reverse=False))"
   ]
  },
  {
   "cell_type": "code",
   "execution_count": null,
   "metadata": {},
   "outputs": [],
   "source": [
    "fig = plt.figure(figsize = (10,5))\n",
    "plt.bar(sorted_cdr3_len.keys(), sorted_cdr3_len.values())\n",
    "plt.title(\"Lengths of CDR3 sequences\")\n",
    "plt.xlabel(\"Length of CDR3 seq\")\n",
    "plt.ylabel(\"Fraction of the train set\")\n",
    "plt.show\n",
    "plt.savefig(os.path.join(\"figures\",\"CDR3_train.png\"))"
   ]
  },
  {
   "cell_type": "markdown",
   "metadata": {},
   "source": [
    "# The lengths of CDR3 sequence based on the invidual genes"
   ]
  },
  {
   "cell_type": "code",
   "execution_count": 12,
   "metadata": {},
   "outputs": [],
   "source": [
    "@numba.jit(forceobj=True)\n",
    "def gene_combination_cdr3(data):\n",
    "    result = {}\n",
    "    for i in tqdm(range(data.shape[0]), position = 0, leave = True):\n",
    "        v = data[i, 3]\n",
    "        j = data[i, 6]\n",
    "        cdr3_len = len(data[i,1])\n",
    "        if (v, j) not in result.keys():\n",
    "            result[(v,j)] = [cdr3_len]\n",
    "        else:\n",
    "            result[(v,j)].append(cdr3_len)\n",
    "    return result"
   ]
  },
  {
   "cell_type": "code",
   "execution_count": 31,
   "metadata": {},
   "outputs": [
    {
     "name": "stderr",
     "output_type": "stream",
     "text": [
      "100%|██████████| 26427244/26427244 [00:34<00:00, 776586.10it/s]\n"
     ]
    }
   ],
   "source": [
    "gene_cdr3 = gene_combination_cdr3(data.to_numpy())"
   ]
  },
  {
   "cell_type": "code",
   "execution_count": 33,
   "metadata": {},
   "outputs": [
    {
     "name": "stderr",
     "output_type": "stream",
     "text": [
      "100%|██████████| 336/336 [00:09<00:00, 34.99it/s] \n"
     ]
    }
   ],
   "source": [
    "for i in tqdm(gene_cdr3.keys(), total = len(gene_cdr3), position = 0, leave = True):\n",
    "    cdr3_count = {}\n",
    "    total = 0\n",
    "    lengths = gene_cdr3[i]\n",
    "    lengths.sort()\n",
    "    for j in lengths:\n",
    "        key = j\n",
    "        if key not in cdr3_count.keys():\n",
    "            cdr3_count[key] = 1\n",
    "        else:\n",
    "            cdr3_count[key] += 1\n",
    "        total += 1\n",
    "    cdr3_count.update((x, y/total) for x, y in cdr3_count.items())\n",
    "    gene_cdr3[i] = cdr3_count"
   ]
  },
  {
   "cell_type": "code",
   "execution_count": 46,
   "metadata": {},
   "outputs": [
    {
     "data": {
      "image/png": "[encoded data removed]",
      "text/plain": [
       "<Figure size 640x480 with 1 Axes>"
      ]
     },
     "metadata": {},
     "output_type": "display_data"
    }
   ],
   "source": [
    "plt.bar(list(gene_cdr3.values())[0].keys(), list(gene_cdr3.values())[0].values() )\n",
    "plt.show()"
   ]
  },
  {
   "cell_type": "markdown",
   "metadata": {},
   "source": [
    "# Specific V gene deletions "
   ]
  },
  {
   "cell_type": "code",
   "execution_count": null,
   "metadata": {},
   "outputs": [],
   "source": [
    "v_genes_deletions = data.loc[:,['v', 'v_deletions']]"
   ]
  },
  {
   "cell_type": "code",
   "execution_count": null,
   "metadata": {},
   "outputs": [],
   "source": [
    "@numba.jit(forceobj=True)\n",
    "def create_list(data):\n",
    "    result = []\n",
    "    for i in tqdm(range(len(data)),position=0, leave=True):\n",
    "        result.append((data[i, 0], data[i, 1]))\n",
    "    return result "
   ]
  },
  {
   "cell_type": "code",
   "execution_count": null,
   "metadata": {
    "scrolled": true
   },
   "outputs": [],
   "source": [
    "v_genes_deletions"
   ]
  },
  {
   "cell_type": "code",
   "execution_count": null,
   "metadata": {},
   "outputs": [],
   "source": [
    "v_genes_deletions_list = create_list(v_genes_deletions.to_numpy())"
   ]
  },
  {
   "cell_type": "code",
   "execution_count": null,
   "metadata": {},
   "outputs": [],
   "source": [
    "gene_deletion_list = {}\n",
    "for i in tqdm(v_genes_deletions_list, total = data.shape[0], position=0, leave=True):\n",
    "    key = str(i[0])\n",
    "    value = i[1]\n",
    "    if key not in gene_deletion_list.keys():\n",
    "        gene_deletion_list[key] = [value]\n",
    "    else:\n",
    "        gene_deletion_list[key].append(value)"
   ]
  },
  {
   "cell_type": "code",
   "execution_count": null,
   "metadata": {},
   "outputs": [],
   "source": [
    "v_gene_deletions = {}\n",
    "for i in tqdm(gene_deletion_list.keys(), total = len(gene_deletion_list), position = 0, leave = True):\n",
    "    gene_count = {}\n",
    "    total = 0\n",
    "    for j in gene_deletion_list[i]:\n",
    "        key = j\n",
    "        if key not in gene_count.keys():\n",
    "            gene_count[key] = 1\n",
    "        else:\n",
    "            gene_count[key] += 1\n",
    "        total += 1\n",
    "    gene_count.update((x, y/total) for x, y in gene_count.items())\n",
    "    v_gene_deletions[i] = gene_count"
   ]
  },
  {
   "cell_type": "code",
   "execution_count": null,
   "metadata": {},
   "outputs": [],
   "source": [
    "v_gene_deletions"
   ]
  },
  {
   "cell_type": "code",
   "execution_count": null,
   "metadata": {},
   "outputs": [],
   "source": [
    "trbv112 = v_gene_deletions['TRBV11-2']"
   ]
  },
  {
   "cell_type": "code",
   "execution_count": null,
   "metadata": {},
   "outputs": [],
   "source": [
    "trbv112 = {int(k): v for k,v in trbv112.items()}\n",
    "trbv112 = dict(sorted(trbv112.items()))\n",
    "trbv112"
   ]
  },
  {
   "cell_type": "code",
   "execution_count": null,
   "metadata": {},
   "outputs": [],
   "source": [
    "fig = plt.figure(figsize = (10,5))\n",
    "plt.bar(trbv112.keys(), trbv112.values())\n",
    "plt.show()"
   ]
  },
  {
   "cell_type": "code",
   "execution_count": null,
   "metadata": {},
   "outputs": [],
   "source": [
    "len(v_gene_deletions)"
   ]
  },
  {
   "cell_type": "markdown",
   "metadata": {},
   "source": [
    "# Specific J gene deletions "
   ]
  },
  {
   "cell_type": "code",
   "execution_count": null,
   "metadata": {},
   "outputs": [],
   "source": [
    "j_genes_deletions = data.loc[:,['j', 'j_deletions']]"
   ]
  },
  {
   "cell_type": "code",
   "execution_count": null,
   "metadata": {},
   "outputs": [],
   "source": [
    "@numba.jit(forceobj=True)\n",
    "def create_list(data):\n",
    "    result = []\n",
    "    for i in tqdm(range(len(data)),position=0, leave=True):\n",
    "        result.append((data[i, 0], data[i, 1]))\n",
    "    return result "
   ]
  },
  {
   "cell_type": "code",
   "execution_count": null,
   "metadata": {
    "scrolled": true
   },
   "outputs": [],
   "source": [
    "j_genes_deletions"
   ]
  },
  {
   "cell_type": "code",
   "execution_count": null,
   "metadata": {},
   "outputs": [],
   "source": [
    "j_genes_deletions_list = create_list(j_genes_deletions.to_numpy())"
   ]
  },
  {
   "cell_type": "code",
   "execution_count": null,
   "metadata": {},
   "outputs": [],
   "source": [
    "gene_deletion_list = {}\n",
    "for i in tqdm(j_genes_deletions_list, total = data.shape[0], position=0, leave=True):\n",
    "    key = str(i[0])\n",
    "    value = i[1]\n",
    "    if key not in gene_deletion_list.keys():\n",
    "        gene_deletion_list[key] = [value]\n",
    "    else:\n",
    "        gene_deletion_list[key].append(value)"
   ]
  },
  {
   "cell_type": "code",
   "execution_count": null,
   "metadata": {},
   "outputs": [],
   "source": [
    "j_gene_deletions = {}\n",
    "for i in tqdm(gene_deletion_list.keys(), total = len(gene_deletion_list), position = 0, leave = True):\n",
    "    gene_count = {}\n",
    "    total = 0\n",
    "    for j in gene_deletion_list[i]:\n",
    "        key = j\n",
    "        if key not in gene_count.keys():\n",
    "            gene_count[key] = 1\n",
    "        else:\n",
    "            gene_count[key] += 1\n",
    "        total += 1\n",
    "    gene_count.update((x, y/total) for x, y in gene_count.items())\n",
    "    j_gene_deletions[i] = gene_count"
   ]
  },
  {
   "cell_type": "code",
   "execution_count": null,
   "metadata": {},
   "outputs": [],
   "source": [
    "j_gene_deletions"
   ]
  },
  {
   "cell_type": "markdown",
   "metadata": {},
   "source": [
    "# Beginning and ending of the CDR3 sequences"
   ]
  },
  {
   "cell_type": "code",
   "execution_count": null,
   "metadata": {},
   "outputs": [],
   "source": [
    "data.head()"
   ]
  },
  {
   "cell_type": "code",
   "execution_count": null,
   "metadata": {},
   "outputs": [],
   "source": [
    "@numba.jit(forceobj=True)\n",
    "def fix_gene_codes(data):\n",
    "    \n",
    "    for i in tqdm(range(len(data)),position=0, leave=True):\n",
    "        v_gene_family = data[i,3]\n",
    "        j_gene_family = data[i,6]\n",
    "\n",
    "        new_v_code = v_gene_family + '*0' + str(int(data[i,4]))\n",
    "        data[i,3] = new_v_code\n",
    "\n",
    "        new_j_code = j_gene_family + '*0' + str(int(data[i,7]))\n",
    "        data[i,6] = new_j_code\n",
    "    \n",
    "    return data"
   ]
  },
  {
   "cell_type": "code",
   "execution_count": null,
   "metadata": {},
   "outputs": [],
   "source": [
    "new_df = fix_gene_codes(data.to_numpy())\n",
    "new_df = pd.DataFrame(data=new_df).iloc[:,[1,3,6]]\n",
    "new_df = new_df.rename(columns = {1:'seq', 3:'v', 6:'j'})"
   ]
  },
  {
   "cell_type": "code",
   "execution_count": null,
   "metadata": {},
   "outputs": [],
   "source": [
    "new_df"
   ]
  },
  {
   "cell_type": "code",
   "execution_count": null,
   "metadata": {},
   "outputs": [],
   "source": [
    "@numba.jit(forceobj=True)\n",
    "def CDR3_amino_acids_distribution(start, end, data, desc=False):\n",
    "    if desc:\n",
    "        step = -1\n",
    "    else:\n",
    "        step = 1\n",
    "    CDR3_positions = {}\n",
    "    for j in range(start, end, step):\n",
    "        cdr3_elements = {}\n",
    "        for i in range(len(data)):\n",
    "            if (len(data[i])-1 < j):\n",
    "                continue\n",
    "            else:\n",
    "                key = list(data[i])[j]\n",
    "                if key not in cdr3_elements.keys():\n",
    "                    cdr3_elements[key] = 1\n",
    "                else:\n",
    "                    cdr3_elements[key] += 1\n",
    "        cdr3_elements_list = [(x, y / len(data)) for x, y in cdr3_elements.items()]\n",
    "        cdr3_elements = {}\n",
    "        for x, y in cdr3_elements_list:\n",
    "            cdr3_elements[x] = y\n",
    "\n",
    "        CDR3_positions[j] = cdr3_elements\n",
    "    return CDR3_positions"
   ]
  },
  {
   "cell_type": "code",
   "execution_count": null,
   "metadata": {},
   "outputs": [],
   "source": [
    "@numba.jit(forceobj=True)\n",
    "def seq_gene_dict(data, v_gene = True):\n",
    "    gene = 1 if v_gene else 2\n",
    "    result = {}\n",
    "    for i in tqdm(range(len(data)),position=0, leave=True):\n",
    "        key = data[i, gene]\n",
    "        value = data[i, 0]\n",
    "        if key not in result.keys():\n",
    "            result[key] = [value]\n",
    "        else:\n",
    "            result[key].append(value)\n",
    "    return result"
   ]
  },
  {
   "cell_type": "code",
   "execution_count": null,
   "metadata": {},
   "outputs": [],
   "source": [
    "v_gene_cdr3_dict = seq_gene_dict(new_df.to_numpy())\n",
    "j_gene_cdr3_dict = seq_gene_dict(new_df.to_numpy(), v_gene = False)"
   ]
  },
  {
   "cell_type": "code",
   "execution_count": null,
   "metadata": {},
   "outputs": [],
   "source": [
    "v_gene = {}\n",
    "for k, v in tqdm(v_gene_cdr3_dict.items(), position = 0, leave= True):\n",
    "    v_gene[k] = CDR3_amino_acids_distribution(0,3, v)"
   ]
  },
  {
   "cell_type": "code",
   "execution_count": null,
   "metadata": {},
   "outputs": [],
   "source": [
    "v_gene"
   ]
  },
  {
   "cell_type": "code",
   "execution_count": null,
   "metadata": {},
   "outputs": [],
   "source": [
    "for k, v in v_gene.items():\n",
    "    for i, j in v.items():\n",
    "        if list(j.values())[0] == 1.0:\n",
    "            print(f'{k}: position {i}, amino acid {list(j.keys())[0]}')\n",
    "            \n",
    "    "
   ]
  },
  {
   "cell_type": "code",
   "execution_count": null,
   "metadata": {},
   "outputs": [],
   "source": [
    "j_gene = {}\n",
    "for k, v in tqdm(j_gene_cdr3_dict.items(), position = 0, leave= True):\n",
    "    j_gene[k] = CDR3_amino_acids_distribution(-1,-3, v, desc = True)"
   ]
  },
  {
   "cell_type": "code",
   "execution_count": null,
   "metadata": {},
   "outputs": [],
   "source": [
    "j_gene"
   ]
  },
  {
   "cell_type": "code",
   "execution_count": null,
   "metadata": {},
   "outputs": [],
   "source": [
    "for k, v in j_gene.items():\n",
    "    for i, j in v.items():\n",
    "        if list(j.values())[0] == 1.0:\n",
    "            print(f'{k}: position {i}, amino acid {list(j.keys())[0]}')"
   ]
  },
  {
   "cell_type": "code",
   "execution_count": null,
   "metadata": {},
   "outputs": [],
   "source": [
    "new_df[\"j\"].value_counts()[\"TRBJ2-1*01\"]"
   ]
  },
  {
   "cell_type": "code",
   "execution_count": null,
   "metadata": {},
   "outputs": [],
   "source": [
    "new_df[\"j\"].value_counts()[\"TRBJ2-6*01\"]"
   ]
  },
  {
   "cell_type": "code",
   "execution_count": null,
   "metadata": {},
   "outputs": [],
   "source": []
  }
 ],
 "metadata": {
  "kernelspec": {
   "display_name": "Python (module anaconda)",
   "language": "python",
   "name": "python3"
  },
  "language_info": {
   "codemirror_mode": {
    "name": "ipython",
    "version": 3
   },
   "file_extension": ".py",
   "mimetype": "text/x-python",
   "name": "python",
   "nbconvert_exporter": "python",
   "pygments_lexer": "ipython3",
   "version": "3.10.8"
  }
 },
 "nbformat": 4,
 "nbformat_minor": 5
}
