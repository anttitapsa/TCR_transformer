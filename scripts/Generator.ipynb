{
 "cells": [
  {
   "cell_type": "code",
   "execution_count": 9,
   "metadata": {},
   "outputs": [],
   "source": [
    "import os\n",
    "import pickle\n",
    "import re\n",
    "import torch\n",
    "import numba\n",
    "import numpy as np\n",
    "import pandas as pd\n",
    "import matplotlib.pyplot as plt\n",
    "from torch.utils.data import DataLoader\n",
    "from tqdm import tqdm \n",
    "from transformers import AutoTokenizer "
   ]
  },
  {
   "cell_type": "code",
   "execution_count": 10,
   "metadata": {},
   "outputs": [],
   "source": [
    "torch.set_default_dtype(torch.float64)"
   ]
  },
  {
   "cell_type": "markdown",
   "metadata": {},
   "source": [
    "## Needed things\n",
    "cdr3 length \n",
    "- based on the empirical distributions found from train data\n",
    "\n",
    "How to choose genes\n",
    "- same genes as in the test data?\n",
    "- check GRU git generation system\n",
    "\n",
    "Evaluation metrics\n",
    "- GRU paper and git\n"
   ]
  },
  {
   "cell_type": "markdown",
   "metadata": {},
   "source": [
    "## CDR3 length distributions"
   ]
  },
  {
   "cell_type": "code",
   "execution_count": 11,
   "metadata": {},
   "outputs": [],
   "source": [
    "data_path = os.path.join(os.getcwd(), os.pardir, \"data\")\n",
    "emerson_path =os.path.join(data_path, \"emerson\", \"emerson_processed\")\n",
    "test_data = pd.read_csv(os.path.join(emerson_path, \"whole_seqs_nn_test.tsv\"), sep = '\\t')"
   ]
  },
  {
   "cell_type": "code",
   "execution_count": 12,
   "metadata": {},
   "outputs": [],
   "source": [
    "@numba.jit(forceobj=True)\n",
    "def gene_combination_cdr3(data):\n",
    "    result = {}\n",
    "    for i in tqdm(range(data.shape[0]), position = 0, leave = True):\n",
    "        v = f'{data[i, 3]}*{int(data[i, 4])}'\n",
    "        j = f'{data[i, 6]}*{int(data[i, 7])}'\n",
    "        cdr3_len = len(data[i,1])\n",
    "        if (v, j) not in result.keys():\n",
    "            result[(v,j)] = [cdr3_len]\n",
    "        else:\n",
    "            result[(v,j)].append(cdr3_len)\n",
    "    return result"
   ]
  },
  {
   "cell_type": "code",
   "execution_count": 13,
   "metadata": {},
   "outputs": [
    {
     "name": "stderr",
     "output_type": "stream",
     "text": [
      "100%|██████████| 26427243/26427243 [01:08<00:00, 384997.90it/s]\n"
     ]
    }
   ],
   "source": [
    "gene_cdr3 = gene_combination_cdr3(test_data.to_numpy())"
   ]
  },
  {
   "cell_type": "code",
   "execution_count": 14,
   "metadata": {},
   "outputs": [
    {
     "name": "stderr",
     "output_type": "stream",
     "text": [
      "100%|██████████| 359/359 [00:09<00:00, 38.13it/s] \n"
     ]
    }
   ],
   "source": [
    "for i in tqdm(gene_cdr3.keys(), total = len(gene_cdr3), position = 0, leave = True):\n",
    "    cdr3_count = {}\n",
    "    total = 0\n",
    "    lengths = gene_cdr3[i]\n",
    "    lengths.sort()\n",
    "    for j in lengths:\n",
    "        key = j\n",
    "        if key not in cdr3_count.keys():\n",
    "            cdr3_count[key] = 1\n",
    "        else:\n",
    "            cdr3_count[key] += 1\n",
    "        total += 1\n",
    "    cdr3_count.update((x, y/total) for x, y in cdr3_count.items())\n",
    "    gene_cdr3[i] = cdr3_count"
   ]
  },
  {
   "cell_type": "markdown",
   "metadata": {},
   "source": [
    "## Sample length "
   ]
  },
  {
   "cell_type": "code",
   "execution_count": 15,
   "metadata": {},
   "outputs": [],
   "source": [
    "def sample_length(V, J, distribution):\n",
    "    genes = (V, J)\n",
    "    weights = torch.tensor(list(distribution[genes].values()))\n",
    "    lengths = torch.tensor(list(distribution[genes].keys()))\n",
    "    return int(lengths[int(torch.multinomial(input=weights, num_samples=1,replacement=True))])"
   ]
  },
  {
   "cell_type": "code",
   "execution_count": 16,
   "metadata": {},
   "outputs": [
    {
     "data": {
      "text/plain": [
       "16"
      ]
     },
     "execution_count": 16,
     "metadata": {},
     "output_type": "execute_result"
    }
   ],
   "source": [
    "sample_length('TRBV7-8*1', 'TRBJ2-3*1', gene_cdr3)"
   ]
  },
  {
   "cell_type": "markdown",
   "metadata": {},
   "source": [
    "## Fetch sequences "
   ]
  },
  {
   "cell_type": "code",
   "execution_count": 17,
   "metadata": {},
   "outputs": [],
   "source": [
    "from process_data_new import load_allele_datadict"
   ]
  },
  {
   "cell_type": "code",
   "execution_count": 18,
   "metadata": {},
   "outputs": [],
   "source": [
    "allele_dict = load_allele_datadict(data_path)"
   ]
  },
  {
   "cell_type": "code",
   "execution_count": 19,
   "metadata": {},
   "outputs": [],
   "source": [
    "for k, v in allele_dict.items():\n",
    "    allele_dict[k] = \" \".join(v[0].replace(\"-\", \"\").replace(\".\",\"\"))"
   ]
  },
  {
   "cell_type": "code",
   "execution_count": 37,
   "metadata": {},
   "outputs": [],
   "source": [
    "@numba.jit(forceobj=True)\n",
    "def fetch_sequences(data, allele_dict):\n",
    "    result = []\n",
    "    pattern = r'F G [A-Z] G'\n",
    "    for i in tqdm(range(data.shape[0]), position = 0, leave = True):\n",
    "        v = f'{data[i, 3]}*0{int(data[i, 4])}'\n",
    "        seq_v = allele_dict[v]\n",
    "        seq_v = seq_v[:seq_v.rfind('C')+1]\n",
    "        \n",
    "        \n",
    "        # The last element of the cdr3 is the F in 'combining region'\n",
    "        # https://www.imgt.org/IMGTrepertoire/Proteins/alleles/index.php?species=Homo%20sapiens&group=TRBJ&gene=TRBJ-overview\n",
    "        \n",
    "        j = f'{data[i, 6]}*0{int(data[i, 7])}'\n",
    "        seq_j = allele_dict[j]\n",
    "        match = re.search(pattern, seq_j)\n",
    "        seq_j = seq_j[match.start()+2:] # F included in cdr3 and space is removed\n",
    "        \n",
    "        result.append([seq_v, seq_j])\n",
    "    return result"
   ]
  },
  {
   "cell_type": "code",
   "execution_count": 38,
   "metadata": {},
   "outputs": [
    {
     "name": "stderr",
     "output_type": "stream",
     "text": [
      "100%|██████████| 2000/2000 [00:00<00:00, 2378.58it/s]\n"
     ]
    }
   ],
   "source": [
    "data = test_data.iloc[0:2000].to_numpy()\n",
    "seqs = fetch_sequences(data, allele_dict)"
   ]
  },
  {
   "cell_type": "code",
   "execution_count": 39,
   "metadata": {},
   "outputs": [
    {
     "data": {
      "text/plain": [
       "'G P G T R L T V T'"
      ]
     },
     "execution_count": 39,
     "metadata": {},
     "output_type": "execute_result"
    }
   ],
   "source": [
    "seqs[0][1]"
   ]
  },
  {
   "cell_type": "markdown",
   "metadata": {},
   "source": [
    "## Tokenize"
   ]
  },
  {
   "cell_type": "code",
   "execution_count": 2,
   "metadata": {},
   "outputs": [],
   "source": [
    "tokenizer = AutoTokenizer.from_pretrained('Rostlab/prot_bert_bfd', add_special_tokens=False)"
   ]
  },
  {
   "cell_type": "code",
   "execution_count": 16,
   "metadata": {},
   "outputs": [],
   "source": [
    "tokenized_seqs = []\n",
    "for i in range(len(seqs)):\n",
    "    V = tokenizer(seqs[i][0],  return_tensors='pt')['input_ids'][:,:-1] # remove [SEP]\n",
    "    J = tokenizer(seqs[i][1],  return_tensors='pt')['input_ids'][:,1:] # remove [CLS]\n",
    "    tokenized_seqs.append([V, J])\n",
    "    "
   ]
  },
  {
   "cell_type": "markdown",
   "metadata": {},
   "source": [
    "## Generator"
   ]
  },
  {
   "cell_type": "code",
   "execution_count": null,
   "metadata": {},
   "outputs": [],
   "source": []
  },
  {
   "cell_type": "markdown",
   "metadata": {},
   "source": [
    "https://huggingface.co/blog/how-to-generate"
   ]
  },
  {
   "cell_type": "markdown",
   "metadata": {},
   "source": [
    "- The V and J genes are given to model \n",
    "- The model utilise cdr3 length distribution to sample the length of the CDR3 sequence\n",
    "    - The key needs to be constructed \n",
    "- V, CDR3 and J need to be concat\n",
    "    - Is there possibility to use batch --> the sequences are not generated one by one "
   ]
  },
  {
   "cell_type": "code",
   "execution_count": null,
   "metadata": {},
   "outputs": [],
   "source": []
  },
  {
   "cell_type": "code",
   "execution_count": 40,
   "metadata": {},
   "outputs": [],
   "source": [
    "device = torch.device(\"cuda\") if torch.cuda.is_available() else torch.device(\"cpu\")"
   ]
  },
  {
   "cell_type": "code",
   "execution_count": 41,
   "metadata": {},
   "outputs": [
    {
     "data": {
      "text/plain": [
       "CustomprotBERT(\n",
       "  (embeddings): BertEmbeddings(\n",
       "    (word_embeddings): Embedding(30, 1024, padding_idx=0)\n",
       "    (position_embeddings): Embedding(40000, 1024)\n",
       "    (token_type_embeddings): Embedding(2, 1024)\n",
       "    (LayerNorm): LayerNorm((1024,), eps=1e-12, elementwise_affine=True)\n",
       "    (dropout): Dropout(p=0.0, inplace=False)\n",
       "  )\n",
       "  (encoder): TransformerEncoder(\n",
       "    (layers): ModuleList(\n",
       "      (0-29): 30 x TransformerEncoderLayer(\n",
       "        (self_attn): MultiheadAttention(\n",
       "          (out_proj): NonDynamicallyQuantizableLinear(in_features=1024, out_features=1024, bias=True)\n",
       "        )\n",
       "        (linear1): Linear(in_features=1024, out_features=4096, bias=True)\n",
       "        (dropout): Dropout(p=0.0, inplace=False)\n",
       "        (linear2): Linear(in_features=4096, out_features=1024, bias=True)\n",
       "        (norm1): LayerNorm((1024,), eps=1e-12, elementwise_affine=True)\n",
       "        (norm2): LayerNorm((1024,), eps=1e-12, elementwise_affine=True)\n",
       "        (dropout1): Dropout(p=0.0, inplace=False)\n",
       "        (dropout2): Dropout(p=0.0, inplace=False)\n",
       "      )\n",
       "    )\n",
       "  )\n",
       "  (fc): Linear(in_features=1024, out_features=30, bias=True)\n",
       ")"
      ]
     },
     "execution_count": 41,
     "metadata": {},
     "output_type": "execute_result"
    }
   ],
   "source": [
    "checkpoint =  torch.load(\"../code/model_2/030823_customprotBERT_parallel_checkpoint.pth\",  map_location=\"cpu\")\n",
    "model = checkpoint[\"model\"]\n",
    "model = model.module\n",
    "model.to(device)\n",
    "model.eval()"
   ]
  },
  {
   "cell_type": "markdown",
   "metadata": {},
   "source": [
    "### 1. Greedy search"
   ]
  },
  {
   "cell_type": "code",
   "execution_count": 42,
   "metadata": {},
   "outputs": [],
   "source": [
    "def greedy_search(model, Vs, Js, length):\n",
    "    with torch.no_grad():\n",
    "        prob = []\n",
    "        cdr3_length = int(length[:,1])\n",
    "        cdr3_pred =torch.full((1,cdr3_length), 0)\n",
    "        for i in tqdm(range(cdr3_length), leave=True, position=0):\n",
    "\n",
    "            src = torch.cat((Vs,cdr3_pred,Js), axis=-1)\n",
    "            out = model(src=src,\n",
    "                       length = length)\n",
    "            cdr3_pred[:,i]= out.softmax(-1).argmax(-1)[:,i]\n",
    "            prob.append(out.softmax(-1)[:,i,:])\n",
    "    return cdr3_pred, prob"
   ]
  },
  {
   "cell_type": "markdown",
   "metadata": {},
   "source": [
    "### 2. Temperature sampling"
   ]
  },
  {
   "cell_type": "code",
   "execution_count": 43,
   "metadata": {},
   "outputs": [],
   "source": [
    "def temperature_sample(model, Vs, Js, length, temperature):\n",
    "    with torch.no_grad():\n",
    "        prob = []\n",
    "        cdr3_length = int(length[:,1])\n",
    "        cdr3_pred =torch.full((1,cdr3_length), 0)\n",
    "        for i in tqdm(range(cdr3_length), leave=True, position=0):\n",
    "\n",
    "            src = torch.cat((Vs,cdr3_pred,Js), axis=-1)\n",
    "            out = model(src=src,\n",
    "                       length = length)\n",
    "\n",
    "            out = out/temperature\n",
    "            probs = out.softmax(-1)\n",
    "            \n",
    "            next_idx = torch.multinomial(probs[:,i], num_samples=1)\n",
    "            cdr3_pred[:,i]= next_idx\n",
    "            prob.append(probs[:,i,:])\n",
    "    return cdr3_pred, prob"
   ]
  },
  {
   "cell_type": "markdown",
   "metadata": {},
   "source": [
    "### 3. Top-k"
   ]
  },
  {
   "cell_type": "code",
   "execution_count": 44,
   "metadata": {},
   "outputs": [],
   "source": [
    "def top_k_sample(model, Vs, Js, length, k):\n",
    "    with torch.no_grad():\n",
    "        prob = []\n",
    "        cdr3_length = int(length[:,1])\n",
    "        cdr3_pred =torch.full((1,cdr3_length), 0)\n",
    "        for i in tqdm(range(cdr3_length), leave=True, position=0):\n",
    "\n",
    "            src = torch.cat((Vs,cdr3_pred,Js), axis=-1)\n",
    "            out = model(src=src,\n",
    "                       length = length)\n",
    "            probs = out.softmax(-1)\n",
    "            \n",
    "            top_values, top_indices = torch.topk(probs[:,i], k)\n",
    "            next_idx = torch.multinomial(top_values.squeeze(0), num_samples=1)\n",
    "            cdr3_pred[:,i]= top_indices[:,next_idx]\n",
    "            prob.append(probs[:,i,:])\n",
    "    return cdr3_pred, prob"
   ]
  },
  {
   "cell_type": "markdown",
   "metadata": {},
   "source": [
    "### 4. Top-p"
   ]
  },
  {
   "cell_type": "code",
   "execution_count": 45,
   "metadata": {},
   "outputs": [],
   "source": [
    "def top_p_sample(model, Vs, Js, length, p):\n",
    "    with torch.no_grad():\n",
    "        prob = []\n",
    "        cdr3_length = int(length[:,1])\n",
    "        cdr3_pred =torch.full((1,cdr3_length), 0)\n",
    "        for i in tqdm(range(cdr3_length), leave=True, position=0):\n",
    "\n",
    "            src = torch.cat((Vs,cdr3_pred,Js), axis=-1)\n",
    "            out = model(src=src,\n",
    "                       length = length)\n",
    "            probs = out.softmax(-1)\n",
    "            \n",
    "            sort_values, sort_indices = torch.sort(probs[:,i], descending=True, stable=True)\n",
    "            cumulative_probs = torch.cumsum(sort_values, dim=-1)\n",
    "\n",
    "            if cumulative_probs[:,0] > p:\n",
    "                selected_indices = sort_indices[:,0]\n",
    "                norm_probs = sort_values[:,0]/cumulative_probs[:,0][-1]\n",
    "            else:\n",
    "                selected_indices = sort_indices[cumulative_probs <= p]\n",
    "                norm_probs = sort_values[cumulative_probs <= p]/cumulative_probs[cumulative_probs <= p][-1]\n",
    "            \n",
    "            next_idx = torch.multinomial(norm_probs, num_samples=1)\n",
    "            cdr3_pred[:,i]= selected_indices[next_idx]\n",
    "            prob.append(probs[:,i,:])\n",
    "    return cdr3_pred, prob"
   ]
  },
  {
   "cell_type": "markdown",
   "metadata": {},
   "source": [
    "### 5.Multinomial"
   ]
  },
  {
   "cell_type": "code",
   "execution_count": 46,
   "metadata": {},
   "outputs": [],
   "source": [
    "def multinomial_sample(model, Vs, Js, CDRs, pad_mask, length):\n",
    "    with torch.no_grad():\n",
    "        prob = []\n",
    "        cdr3_length = model.CDR3_max_length\n",
    "        \n",
    "        for i in tqdm(range(cdr3_length), leave=True, position=0):\n",
    "            srcs = [torch.cat([v, cdr,j], axis=-1) for v, cdr, j in zip(Vs,Js,CDRs)]\n",
    "            #print(srcs[0].shape)\n",
    "            src = torch.stack(srcs).to(torch.int)\n",
    "            #print(src)\n",
    "            out = model(src=src,\n",
    "                       length = length,\n",
    "                       pad_mask =pad_mask)\n",
    "            #print(torch.multinomial(out.softmax(-1)[:,i], num_samples=1))\n",
    "            for j in range(len(CDRs)):\n",
    "                if i > CDRs[j].shape[-1]-1:\n",
    "                    continue\n",
    "                CDRs[j][i]= torch.multinomial(out.softmax(-1)[j,i], num_samples=1)\n",
    "            #prob.append(out.softmax(-1)[:,i,:])\n",
    "    return CDRs"
   ]
  },
  {
   "cell_type": "markdown",
   "metadata": {},
   "source": [
    "## test strategies"
   ]
  },
  {
   "cell_type": "code",
   "execution_count": 24,
   "metadata": {},
   "outputs": [
    {
     "name": "stderr",
     "output_type": "stream",
     "text": [
      "100%|██████████| 14/14 [00:23<00:00,  1.67s/it]\n"
     ]
    }
   ],
   "source": [
    "idx = 588\n",
    "input_data = tokenized_seqs[idx]\n",
    "V = input_data[0]\n",
    "J = input_data[1]\n",
    "V_code = f'{data[idx, 3]}*{int(data[idx, 4])}'\n",
    "J_code = f'{data[idx, 6]}*{int(data[idx, 7])}' \n",
    "length = torch.tensor([V.shape[-1],sample_length(V_code, J_code, gene_cdr3)]).unsqueeze(0)\n",
    "\n",
    "#cdr3_pred, prob = greedy_search(model, V, J, length)\n",
    "#cdr3_pred, prob = temperature_sample(model, V, J, length, 0.01)\n",
    "#cdr3_pred, prob = top_k_sample(model, V, J, length, 6)\n",
    "cdr3_pred, prob = top_p_sample(model, V, J, length, 0.90)\n",
    "#cdr3_pred, prob = multinomial_sample(model, V, J, length)"
   ]
  },
  {
   "cell_type": "markdown",
   "metadata": {},
   "source": [
    "## Dataset for generator "
   ]
  },
  {
   "cell_type": "code",
   "execution_count": 47,
   "metadata": {},
   "outputs": [],
   "source": [
    "import torch\n",
    "from process_data_new import load_allele_datadict\n",
    "\n",
    "class GeneratorDataset(torch.utils.data.Dataset):\n",
    "    def __init__(self, data, cdr3_length_distribution, tokenizer, CDR3_max_length):\n",
    "        \n",
    "        self.cdr3_length_distribution = cdr3_length_distribution\n",
    "        self.tokenizer = tokenizer\n",
    "        self.CDR3_max_length = CDR3_max_length\n",
    "        self.V, self.J = fetch_sequences(data)\n",
    "        self.V_codes, self.J_codes = fetch_sequence_codes(data)\n",
    "        \n",
    "        if len(self.V) == 1:\n",
    "            self.V_max_length = len(V[0].split()) + 1 #[CLS] token\n",
    "            self.J_max_length = len(J[0].split()) + 2 #[SEP] token and one [PAD]\n",
    "        else:\n",
    "            length = 0\n",
    "            V_length = 0\n",
    "            J_length = 0\n",
    "            for i in range(len(self.V)):\n",
    "                #print(self.V[i])\n",
    "                V_length = max(V_length, len(self.V[i].split()) + 1) #[CLS] token\n",
    "                J_length = max(J_length, len(self.J[i].split()) + 2) #[SEP] token and one [PAD]\n",
    "            \n",
    "            self.V_max_length = V_length \n",
    "            self.J_max_length =  J_length \n",
    "            self.max_length = V_length + J_length + CDR3_max_length \n",
    " \n",
    "    def __len__(self):\n",
    "        return len(self.V)\n",
    "\n",
    "    def __getitem__(self, idx):\n",
    "        \n",
    "        cdr3_length = self.sample_length(self.V_codes[idx], self.J_codes[idx])\n",
    "        CDR3 = cdr3_length * \"[UNK]\"\n",
    "        seq = self.V[idx] + \" \" + CDR3 + \" \" + self.J[idx]\n",
    "        \n",
    "        tokenized = self.tokenizer(seq, padding= 'max_length', max_length= self.max_length, return_tensors='pt', return_attention_mask=True)\n",
    "        \n",
    "        padded_tokenized_seq = tokenized['input_ids']\n",
    "        pad_mask = ~tokenized['attention_mask'].to(torch.bool)\n",
    "        \n",
    "        \n",
    "        v_len = len(self.V[idx].split()) + 1 # Tokenizer adds [CLS] token at the beginning of the sequence\n",
    "        lengths = torch.tensor([v_len, cdr3_length])\n",
    "        \n",
    "        V = padded_tokenized_seq[:, :v_len]\n",
    "        J = padded_tokenized_seq[:, v_len+cdr3_length:]\n",
    "        CDR3 = torch.zeros((cdr3_length))\n",
    "        \n",
    "        item = {'v': V.squeeze(0),\n",
    "                'j': J.squeeze(0),\n",
    "                'cdr3': CDR3,\n",
    "                'length': lengths,\n",
    "                'pad_mask': pad_mask.squeeze(0)}\n",
    "        \n",
    "        return item\n",
    "    \n",
    "    def sample_length(self,V, J):\n",
    "        genes = (V, J)\n",
    "        weights = torch.tensor(list(self.cdr3_length_distribution[genes].values()))\n",
    "        lengths = torch.tensor(list(self.cdr3_length_distribution[genes].keys()))\n",
    "        return int(lengths[int(torch.multinomial(input=weights, num_samples=1,replacement=True))])\n",
    "    \n",
    "\n",
    "@numba.jit(forceobj=True)\n",
    "def fetch_sequences(data):\n",
    "    allele_dict = load_allele_datadict(data_path) #remember to replace path\n",
    "    for k, v in allele_dict.items():\n",
    "        allele_dict[k] = \" \".join(v[0].replace(\"-\", \"\").replace(\".\",\"\"))\n",
    "        \n",
    "    Vs, Js = [None]*data.shape[0], [None]*data.shape[0]\n",
    "    for i in tqdm(range(data.shape[0]), position = 0, leave = True):\n",
    "        v = f'{data[i, 3]}*0{int(data[i, 4])}'\n",
    "        seq_v = allele_dict[v]\n",
    "        Vs[i] = seq_v[:seq_v.rfind('C')+1]\n",
    "        \n",
    "        # The last element of the cdr3 is the F in 'combining region'\n",
    "        # https://www.imgt.org/IMGTrepertoire/Proteins/alleles/index.php?species=Homo%20sapiens&group=TRBJ&gene=TRBJ-overview\n",
    "        \n",
    "        pattern = r'F G [A-Z] G'\n",
    "        j = f'{data[i, 6]}*0{int(data[i, 7])}'\n",
    "        seq_j = allele_dict[j]\n",
    "        match = re.search(pattern, seq_j)\n",
    "        Js[i] = seq_j[match.start()+1:] # F included in cdr3 \n",
    "    \n",
    "    return  Vs, Js\n",
    "\n",
    "@numba.jit(forceobj=True)\n",
    "def fetch_sequence_codes(data):\n",
    "    V_codes, J_codes = [None]*data.shape[0], [None]*data.shape[0]\n",
    "    for i in tqdm(range(data.shape[0]), position = 0, leave = True):\n",
    "        V_codes[i] = f'{data[i, 3]}*{int(data[i, 4])}'\n",
    "        J_codes[i] = f'{data[i, 6]}*{int(data[i, 7])}'\n",
    "        \n",
    "    return V_codes, J_codes"
   ]
  },
  {
   "cell_type": "code",
   "execution_count": 48,
   "metadata": {},
   "outputs": [],
   "source": [
    "def collate(list_of_samples):\n",
    "        result = {}\n",
    "        for sample in list_of_samples:\n",
    "            for k, v in sample.items():\n",
    "                if k not in result.keys():\n",
    "                    result[k] = [v]\n",
    "\n",
    "                else:\n",
    "                    result[k].append(v)\n",
    "                    \n",
    "        for k, v in result.items():\n",
    "            if k == 'v' or k == 'j' or k =='cdr3':\n",
    "                continue\n",
    "            result[k] = torch.stack(v)\n",
    "        return result"
   ]
  },
  {
   "cell_type": "code",
   "execution_count": 49,
   "metadata": {},
   "outputs": [
    {
     "name": "stderr",
     "output_type": "stream",
     "text": [
      "100%|██████████| 2000/2000 [00:00<00:00, 268032.34it/s]\n",
      "100%|██████████| 2000/2000 [00:00<00:00, 4807.31it/s]\n"
     ]
    }
   ],
   "source": [
    "test_set = GeneratorDataset(test_data.iloc[:2000].to_numpy(), gene_cdr3, tokenizer, model.CDR3_max_length)\n",
    "test_loader = DataLoader(test_set, shuffle=False, batch_size=8, collate_fn=collate)"
   ]
  },
  {
   "cell_type": "code",
   "execution_count": 50,
   "metadata": {},
   "outputs": [
    {
     "name": "stderr",
     "output_type": "stream",
     "text": [
      "  0%|          | 0/26 [00:00<?, ?it/s]/share/apps/anaconda-ci/fgci-centos7-anaconda/software/anaconda/2023-03/6a700484/lib/python3.10/site-packages/torch/nn/modules/transformer.py:296: UserWarning: The PyTorch API of nested tensors is in prototype stage and will change in the near future. (Triggered internally at /opt/conda/conda-bld/pytorch_1682343995026/work/aten/src/ATen/NestedTensorImpl.cpp:177.)\n",
      "  output = torch._nested_tensor_from_mask(output, src_key_padding_mask.logical_not(), mask_check=False)\n",
      "100%|██████████| 26/26 [05:13<00:00, 12.05s/it]\n"
     ]
    }
   ],
   "source": [
    "for batch in test_loader:\n",
    "    cdr3_pred = multinomial_sample(model, batch['v'], batch['j'], batch['cdr3'], batch['pad_mask'], batch['length'])\n",
    "    break"
   ]
  },
  {
   "cell_type": "code",
   "execution_count": 75,
   "metadata": {},
   "outputs": [
    {
     "data": {
      "text/plain": [
       "tensor([10.,  6., 16.,  7., 15., 17., 24., 17., 11., 19., 22., 19., 19., 20.,\n",
       "        22., 20.])"
      ]
     },
     "execution_count": 75,
     "metadata": {},
     "output_type": "execute_result"
    }
   ],
   "source": [
    "cdr3_pred[1]"
   ]
  },
  {
   "cell_type": "code",
   "execution_count": 84,
   "metadata": {},
   "outputs": [
    {
     "data": {
      "text/plain": [
       "'S I G A E L K I H M F F Y'"
      ]
     },
     "execution_count": 84,
     "metadata": {},
     "output_type": "execute_result"
    }
   ],
   "source": [
    "tokenizer.decode(cdr3_pred[7].to(torch.int))"
   ]
  },
  {
   "cell_type": "code",
   "execution_count": 65,
   "metadata": {},
   "outputs": [
    {
     "ename": "NameError",
     "evalue": "name 'names' is not defined",
     "output_type": "error",
     "traceback": [
      "\u001b[0;31m---------------------------------------------------------------------------\u001b[0m",
      "\u001b[0;31mNameError\u001b[0m                                 Traceback (most recent call last)",
      "Cell \u001b[0;32mIn[65], line 3\u001b[0m\n\u001b[1;32m      1\u001b[0m plt\u001b[38;5;241m.\u001b[39mfigure(figsize\u001b[38;5;241m=\u001b[39m(\u001b[38;5;241m10\u001b[39m,\u001b[38;5;241m10\u001b[39m))\n\u001b[1;32m      2\u001b[0m plt\u001b[38;5;241m.\u001b[39mimshow(torch\u001b[38;5;241m.\u001b[39mcat(prob, dim\u001b[38;5;241m=\u001b[39m\u001b[38;5;241m0\u001b[39m)\u001b[38;5;241m.\u001b[39mt(), cmap\u001b[38;5;241m=\u001b[39m\u001b[38;5;124m'\u001b[39m\u001b[38;5;124mviridis_r\u001b[39m\u001b[38;5;124m'\u001b[39m)\n\u001b[0;32m----> 3\u001b[0m plt\u001b[38;5;241m.\u001b[39myticks(\u001b[38;5;28mrange\u001b[39m(\u001b[38;5;241m0\u001b[39m,\u001b[38;5;241m30\u001b[39m), \u001b[43mnames\u001b[49m)\n\u001b[1;32m      4\u001b[0m plt\u001b[38;5;241m.\u001b[39mxticks(\u001b[38;5;28mrange\u001b[39m(\u001b[38;5;241m0\u001b[39m,\u001b[38;5;28mint\u001b[39m(length[:,\u001b[38;5;241m1\u001b[39m])), \u001b[38;5;28mrange\u001b[39m(\u001b[38;5;241m0\u001b[39m, \u001b[38;5;28mint\u001b[39m(length[:,\u001b[38;5;241m1\u001b[39m])))\n\u001b[1;32m      5\u001b[0m plt\u001b[38;5;241m.\u001b[39mcolorbar()\n",
      "\u001b[0;31mNameError\u001b[0m: name 'names' is not defined"
     ]
    },
    {
     "data": {
      "image/png": "[encoded data removed]",
      "text/plain": [
       "<Figure size 1000x1000 with 1 Axes>"
      ]
     },
     "metadata": {},
     "output_type": "display_data"
    }
   ],
   "source": [
    "plt.figure(figsize=(10,10))\n",
    "plt.imshow(torch.cat(prob, dim=0).t(), cmap='viridis_r')\n",
    "plt.yticks(range(0,30), names)\n",
    "plt.xticks(range(0,int(length[:,1])), range(0, int(length[:,1])))\n",
    "plt.colorbar()\n",
    "plt.show"
   ]
  },
  {
   "cell_type": "code",
   "execution_count": null,
   "metadata": {},
   "outputs": [],
   "source": []
  }
 ],
 "metadata": {
  "kernelspec": {
   "display_name": "Python (module anaconda)",
   "language": "python",
   "name": "python3"
  },
  "language_info": {
   "codemirror_mode": {
    "name": "ipython",
    "version": 3
   },
   "file_extension": ".py",
   "mimetype": "text/x-python",
   "name": "python",
   "nbconvert_exporter": "python",
   "pygments_lexer": "ipython3",
   "version": "3.10.8"
  }
 },
 "nbformat": 4,
 "nbformat_minor": 4
}
